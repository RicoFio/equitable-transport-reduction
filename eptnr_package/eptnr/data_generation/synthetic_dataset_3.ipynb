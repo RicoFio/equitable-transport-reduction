{
 "cells": [
  {
   "cell_type": "code",
   "execution_count": 1,
   "metadata": {
    "collapsed": false,
    "jupyter": {
     "outputs_hidden": false
    },
    "pycharm": {
     "name": "#%%\n"
    }
   },
   "outputs": [],
   "source": [
    "import igraph as ig\n",
    "import geopandas as gpd\n",
    "import itertools as it\n",
    "\n",
    "from eptnr.data_generation.utils.synthetic_data_generation import (\n",
    "    graph_walking_edges_generation,\n",
    "    set_eptnr_vertices,\n",
    "    graph_edge_entry,\n",
    ")\n",
    "from eptnr.data_generation.utils.eptnr_vertex import EPTNRVertex\n",
    "from eptnr.constants.igraph_edge_types import IGraphEdgeTypes\n",
    "from eptnr.constants.igraph_vertex_types import IGraphVertexTypes\n",
    "from eptnr.constants.igraph_colors import IGraphColors\n",
    "from eptnr.data_generation.utils.synthetic_speeds import SyntheticTravelSpeeds"
   ]
  },
  {
   "cell_type": "markdown",
   "metadata": {
    "pycharm": {
     "name": "#%% md\n"
    }
   },
   "source": [
    "# Graph\n",
    "<img src=\"/home/rico/Documents/thesis/paper/figures/sample_setup_ptn_map.png\" width=400 height=400 />"
   ]
  },
  {
   "cell_type": "markdown",
   "metadata": {
    "pycharm": {
     "name": "#%% md\n"
    }
   },
   "source": []
  },
  {
   "cell_type": "code",
   "execution_count": 2,
   "metadata": {
    "collapsed": false,
    "jupyter": {
     "outputs_hidden": false
    },
    "pycharm": {
     "name": "#%%\n"
    }
   },
   "outputs": [],
   "source": [
    "g = ig.Graph(directed=True)"
   ]
  },
  {
   "cell_type": "code",
   "execution_count": 3,
   "outputs": [],
   "source": [
    "rc_vertices = [\n",
    "    # Residential Centers\n",
    "    EPTNRVertex(3.5, 3.5, IGraphColors.RED, IGraphVertexTypes.RC_NODE),\n",
    "    EPTNRVertex(2.5, 3.5, IGraphColors.RED, IGraphVertexTypes.RC_NODE),\n",
    "    EPTNRVertex(3.5, 2.5, IGraphColors.RED, IGraphVertexTypes.RC_NODE),\n",
    "    EPTNRVertex(0.5, 1.5, IGraphColors.PURPLE, IGraphVertexTypes.RC_NODE),\n",
    "    EPTNRVertex(0.5, 0.5, IGraphColors.PURPLE, IGraphVertexTypes.RC_NODE),\n",
    "    EPTNRVertex(1.5, 0.5, IGraphColors.PURPLE, IGraphVertexTypes.RC_NODE),\n",
    "]\n",
    "pt_vertices = [\n",
    "    # Public Transport Nodes\n",
    "    EPTNRVertex(1, 1, IGraphColors.BLUE, IGraphVertexTypes.PT_NODE),\n",
    "    EPTNRVertex(2, 2, IGraphColors.BLUE, IGraphVertexTypes.PT_NODE),\n",
    "    EPTNRVertex(3, 1, IGraphColors.BLUE, IGraphVertexTypes.PT_NODE),\n",
    "    EPTNRVertex(3.5, 3, IGraphColors.BLUE, IGraphVertexTypes.PT_NODE),\n",
    "    EPTNRVertex(3, 3, IGraphColors.BLUE, IGraphVertexTypes.PT_NODE),\n",
    "    EPTNRVertex(3, 3.5, IGraphColors.BLUE, IGraphVertexTypes.PT_NODE),\n",
    "]\n",
    "poi_vertices = [\n",
    "    # Point of Interest Nodes\n",
    "    EPTNRVertex(2.75, 2.75, IGraphColors.GREEN, IGraphVertexTypes.POI_NODE),\n",
    "    EPTNRVertex(2.75, 3.25, IGraphColors.GREEN, IGraphVertexTypes.POI_NODE),\n",
    "    EPTNRVertex(3.25, 2.75, IGraphColors.GREEN, IGraphVertexTypes.POI_NODE),\n",
    "]\n",
    "\n",
    "vertices = rc_vertices +  pt_vertices + poi_vertices\n",
    "set_eptnr_vertices(graph=g, vertices=vertices)"
   ],
   "metadata": {
    "collapsed": false,
    "pycharm": {
     "name": "#%%\n"
    }
   }
  },
  {
   "cell_type": "markdown",
   "metadata": {
    "pycharm": {
     "name": "#%% md\n"
    }
   },
   "source": [
    "## PTN Edges"
   ]
  },
  {
   "cell_type": "markdown",
   "metadata": {
    "pycharm": {
     "name": "#%% md\n"
    }
   },
   "source": [
    "### Walking"
   ]
  },
  {
   "cell_type": "code",
   "execution_count": 4,
   "metadata": {
    "collapsed": false,
    "jupyter": {
     "outputs_hidden": false
    },
    "pycharm": {
     "name": "#%%\n"
    }
   },
   "outputs": [],
   "source": [
    "graph_walking_edges_generation(graph=g, vertices=vertices)\n"
   ]
  },
  {
   "cell_type": "markdown",
   "metadata": {
    "pycharm": {
     "name": "#%% md\n"
    }
   },
   "source": [
    "### PT"
   ]
  },
  {
   "cell_type": "code",
   "execution_count": 5,
   "outputs": [],
   "source": [
    "E_BUS = [\n",
    "    (pt_vertices[0],pt_vertices[1]),  # Bus_line_1\n",
    "    (pt_vertices[1],pt_vertices[0]),  # Bus_line_1\n",
    "    (pt_vertices[1],pt_vertices[4]),  # Bus_line_2\n",
    "    (pt_vertices[4],pt_vertices[1]),  # Bus_line_2\n",
    "    (pt_vertices[4],pt_vertices[5]),  # Bus_line_3\n",
    "    (pt_vertices[5],pt_vertices[4]),  # Bus_line_3\n",
    "    (pt_vertices[3],pt_vertices[4]),  # Bus_line_4\n",
    "    (pt_vertices[4],pt_vertices[3]),  # Bus_line_4\n",
    "]\n",
    "names = list(it.repeat(f'Bus_line_1',2)) +\\\n",
    "        list(it.repeat(f'Bus_line_2',2)) +\\\n",
    "        list(it.repeat(f'Bus_line_3',2)) +\\\n",
    "        list(it.repeat(f'Bus_line_4',2))\n",
    "\n",
    "graph_edge_entry(\n",
    "    graph=g,\n",
    "    edges=E_BUS,\n",
    "    names=names,\n",
    "    speed=SyntheticTravelSpeeds.BUS_SPEED,\n",
    "    edge_type=IGraphEdgeTypes.BUS,\n",
    "    color=IGraphColors.PINK,\n",
    "    round_to_decimals=2,\n",
    ")\n"
   ],
   "metadata": {
    "collapsed": false,
    "pycharm": {
     "name": "#%%\n"
    }
   }
  },
  {
   "cell_type": "code",
   "execution_count": 6,
   "metadata": {
    "collapsed": false,
    "jupyter": {
     "outputs_hidden": false
    },
    "pycharm": {
     "name": "#%%\n"
    }
   },
   "outputs": [],
   "source": [
    "E_RAIL = [\n",
    "    (pt_vertices[0],pt_vertices[4]),  # Train_line_1\n",
    "    (pt_vertices[4],pt_vertices[2]),  # Train_line_1\n",
    "    (pt_vertices[2],pt_vertices[0]),  # Train_line_1\n",
    "]\n",
    "names = list(it.repeat(f'Train_line_1',3))\n",
    "\n",
    "graph_edge_entry(\n",
    "    graph=g,\n",
    "    edges=E_RAIL,\n",
    "    names=names,\n",
    "    speed=SyntheticTravelSpeeds.RAIL_SPEED,\n",
    "    edge_type=IGraphEdgeTypes.RAIL,\n",
    "    color=IGraphColors.BLUE,\n",
    "    round_to_decimals=2,\n",
    ")"
   ]
  },
  {
   "cell_type": "code",
   "execution_count": 7,
   "outputs": [],
   "source": [
    "g.es['active'] = 1"
   ],
   "metadata": {
    "collapsed": false,
    "pycharm": {
     "name": "#%%\n"
    }
   }
  },
  {
   "cell_type": "code",
   "execution_count": 8,
   "outputs": [
    {
     "data": {
      "text/plain": "<igraph.drawing.Plot at 0x7f14b95398e0>",
      "image/svg+xml": "<?xml version=\"1.0\" encoding=\"UTF-8\"?>\n<svg xmlns=\"http://www.w3.org/2000/svg\" xmlns:xlink=\"http://www.w3.org/1999/xlink\" width=\"600pt\" height=\"600pt\" viewBox=\"0 0 600 600\" version=\"1.1\">\n<g id=\"surface2\">\n<rect x=\"0\" y=\"0\" width=\"600\" height=\"600\" style=\"fill:rgb(100%,100%,100%);fill-opacity:1;stroke:none;\"/>\n<path style=\"fill:none;stroke-width:1;stroke-linecap:butt;stroke-linejoin:miter;stroke:rgb(74.509804%,74.509804%,74.509804%);stroke-opacity:1;stroke-miterlimit:10;\" d=\"M 580 580 L 130.492188 130.492188 \"/>\n<path style=\" stroke:none;fill-rule:nonzero;fill:rgb(74.509804%,74.509804%,74.509804%);fill-opacity:1;\" d=\"M 120.40625 120.40625 L 133.769531 127.214844 L 127.214844 133.769531 L 120.40625 120.40625 \"/>\n<path style=\"fill:none;stroke-width:1;stroke-linecap:butt;stroke-linejoin:miter;stroke:rgb(74.509804%,74.509804%,74.509804%);stroke-opacity:1;stroke-miterlimit:10;\" d=\"M 580 580 L 317.160156 317.160156 \"/>\n<path style=\" stroke:none;fill-rule:nonzero;fill:rgb(74.509804%,74.509804%,74.509804%);fill-opacity:1;\" d=\"M 307.070312 307.070312 L 320.4375 313.882812 L 313.882812 320.4375 L 307.070312 307.070312 \"/>\n<path style=\"fill:none;stroke-width:1;stroke-linecap:butt;stroke-linejoin:miter;stroke:rgb(74.509804%,74.509804%,74.509804%);stroke-opacity:1;stroke-miterlimit:10;\" d=\"M 580 580 L 491.425781 137.128906 \"/>\n<path style=\" stroke:none;fill-rule:nonzero;fill:rgb(74.509804%,74.509804%,74.509804%);fill-opacity:1;\" d=\"M 488.628906 123.140625 L 495.972656 136.21875 L 486.878906 138.035156 L 488.628906 123.140625 \"/>\n<path style=\"fill:none;stroke-width:1;stroke-linecap:butt;stroke-linejoin:miter;stroke:rgb(74.509804%,74.509804%,74.509804%);stroke-opacity:1;stroke-miterlimit:10;\" d=\"M 580 580 L 580 510.933594 \"/>\n<path style=\" stroke:none;fill-rule:nonzero;fill:rgb(74.509804%,74.509804%,74.509804%);fill-opacity:1;\" d=\"M 580 496.667969 L 584.636719 510.933594 L 575.363281 510.933594 L 580 496.667969 \"/>\n<path style=\"fill:none;stroke-width:1;stroke-linecap:butt;stroke-linejoin:miter;stroke:rgb(74.509804%,74.509804%,74.509804%);stroke-opacity:1;stroke-miterlimit:10;\" d=\"M 580 580 L 503.824219 503.824219 \"/>\n<path style=\" stroke:none;fill-rule:nonzero;fill:rgb(74.509804%,74.509804%,74.509804%);fill-opacity:1;\" d=\"M 493.738281 493.738281 L 507.101562 500.546875 L 500.546875 507.101562 L 493.738281 493.738281 \"/>\n<path style=\"fill:none;stroke-width:1;stroke-linecap:butt;stroke-linejoin:miter;stroke:rgb(74.509804%,74.509804%,74.509804%);stroke-opacity:1;stroke-miterlimit:10;\" d=\"M 580 580 L 510.933594 580 \"/>\n<path style=\" stroke:none;fill-rule:nonzero;fill:rgb(74.509804%,74.509804%,74.509804%);fill-opacity:1;\" d=\"M 496.667969 580 L 510.933594 575.363281 L 510.933594 584.636719 L 496.667969 580 \"/>\n<path style=\"fill:none;stroke-width:1;stroke-linecap:butt;stroke-linejoin:miter;stroke:rgb(74.509804%,74.509804%,74.509804%);stroke-opacity:1;stroke-miterlimit:10;\" d=\"M 393.332031 580 L 125.816406 134.140625 \"/>\n<path style=\" stroke:none;fill-rule:nonzero;fill:rgb(74.509804%,74.509804%,74.509804%);fill-opacity:1;\" d=\"M 118.476562 121.910156 L 129.792969 131.757812 L 121.84375 136.527344 L 118.476562 121.910156 \"/>\n<path style=\"fill:none;stroke-width:1;stroke-linecap:butt;stroke-linejoin:miter;stroke:rgb(74.509804%,74.509804%,74.509804%);stroke-opacity:1;stroke-miterlimit:10;\" d=\"M 393.332031 580 L 307.671875 323.019531 \"/>\n<path style=\" stroke:none;fill-rule:nonzero;fill:rgb(74.509804%,74.509804%,74.509804%);fill-opacity:1;\" d=\"M 303.164062 309.488281 L 312.070312 321.554688 L 303.277344 324.488281 L 303.164062 309.488281 \"/>\n<path style=\"fill:none;stroke-width:1;stroke-linecap:butt;stroke-linejoin:miter;stroke:rgb(74.509804%,74.509804%,74.509804%);stroke-opacity:1;stroke-miterlimit:10;\" d=\"M 393.332031 580 L 481.90625 137.128906 \"/>\n<path style=\" stroke:none;fill-rule:nonzero;fill:rgb(74.509804%,74.509804%,74.509804%);fill-opacity:1;\" d=\"M 484.707031 123.140625 L 486.453125 138.035156 L 477.363281 136.21875 L 484.707031 123.140625 \"/>\n<path style=\"fill:none;stroke-width:1;stroke-linecap:butt;stroke-linejoin:miter;stroke:rgb(74.509804%,74.509804%,74.509804%);stroke-opacity:1;stroke-miterlimit:10;\" d=\"M 393.332031 580 L 558.296875 497.519531 \"/>\n<path style=\" stroke:none;fill-rule:nonzero;fill:rgb(74.509804%,74.509804%,74.509804%);fill-opacity:1;\" d=\"M 571.054688 491.140625 L 560.367188 501.664062 L 556.222656 493.371094 L 571.054688 491.140625 \"/>\n<path style=\"fill:none;stroke-width:1;stroke-linecap:butt;stroke-linejoin:miter;stroke:rgb(74.509804%,74.509804%,74.509804%);stroke-opacity:1;stroke-miterlimit:10;\" d=\"M 393.332031 580 L 469.507812 503.824219 \"/>\n<path style=\" stroke:none;fill-rule:nonzero;fill:rgb(74.509804%,74.509804%,74.509804%);fill-opacity:1;\" d=\"M 479.59375 493.738281 L 472.785156 507.101562 L 466.230469 500.546875 L 479.59375 493.738281 \"/>\n<path style=\"fill:none;stroke-width:1;stroke-linecap:butt;stroke-linejoin:miter;stroke:rgb(74.509804%,74.509804%,74.509804%);stroke-opacity:1;stroke-miterlimit:10;\" d=\"M 393.332031 580 L 462.402344 580 \"/>\n<path style=\" stroke:none;fill-rule:nonzero;fill:rgb(74.509804%,74.509804%,74.509804%);fill-opacity:1;\" d=\"M 476.667969 580 L 462.402344 584.636719 L 462.402344 575.363281 L 476.667969 580 \"/>\n<path style=\"fill:none;stroke-width:1;stroke-linecap:butt;stroke-linejoin:miter;stroke:rgb(74.509804%,74.509804%,74.509804%);stroke-opacity:1;stroke-miterlimit:10;\" d=\"M 580 393.332031 L 134.140625 125.816406 \"/>\n<path style=\" stroke:none;fill-rule:nonzero;fill:rgb(74.509804%,74.509804%,74.509804%);fill-opacity:1;\" d=\"M 121.910156 118.476562 L 136.527344 121.84375 L 131.757812 129.792969 L 121.910156 118.476562 \"/>\n<path style=\"fill:none;stroke-width:1;stroke-linecap:butt;stroke-linejoin:miter;stroke:rgb(74.509804%,74.509804%,74.509804%);stroke-opacity:1;stroke-miterlimit:10;\" d=\"M 580 393.332031 L 323.019531 307.671875 \"/>\n<path style=\" stroke:none;fill-rule:nonzero;fill:rgb(74.509804%,74.509804%,74.509804%);fill-opacity:1;\" d=\"M 309.488281 303.164062 L 324.488281 303.277344 L 321.554688 312.070312 L 309.488281 303.164062 \"/>\n<path style=\"fill:none;stroke-width:1;stroke-linecap:butt;stroke-linejoin:miter;stroke:rgb(74.509804%,74.509804%,74.509804%);stroke-opacity:1;stroke-miterlimit:10;\" d=\"M 580 393.332031 L 494.339844 136.355469 \"/>\n<path style=\" stroke:none;fill-rule:nonzero;fill:rgb(74.509804%,74.509804%,74.509804%);fill-opacity:1;\" d=\"M 489.828125 122.820312 L 498.738281 134.886719 L 489.941406 137.820312 L 489.828125 122.820312 \"/>\n<path style=\"fill:none;stroke-width:1;stroke-linecap:butt;stroke-linejoin:miter;stroke:rgb(74.509804%,74.509804%,74.509804%);stroke-opacity:1;stroke-miterlimit:10;\" d=\"M 580 393.332031 L 580 462.402344 \"/>\n<path style=\" stroke:none;fill-rule:nonzero;fill:rgb(74.509804%,74.509804%,74.509804%);fill-opacity:1;\" d=\"M 580 476.667969 L 575.363281 462.402344 L 584.636719 462.402344 L 580 476.667969 \"/>\n<path style=\"fill:none;stroke-width:1;stroke-linecap:butt;stroke-linejoin:miter;stroke:rgb(74.509804%,74.509804%,74.509804%);stroke-opacity:1;stroke-miterlimit:10;\" d=\"M 580 393.332031 L 503.824219 469.507812 \"/>\n<path style=\" stroke:none;fill-rule:nonzero;fill:rgb(74.509804%,74.509804%,74.509804%);fill-opacity:1;\" d=\"M 493.738281 479.59375 L 500.546875 466.230469 L 507.101562 472.785156 L 493.738281 479.59375 \"/>\n<path style=\"fill:none;stroke-width:1;stroke-linecap:butt;stroke-linejoin:miter;stroke:rgb(74.509804%,74.509804%,74.509804%);stroke-opacity:1;stroke-miterlimit:10;\" d=\"M 580 393.332031 L 497.519531 558.296875 \"/>\n<path style=\" stroke:none;fill-rule:nonzero;fill:rgb(74.509804%,74.509804%,74.509804%);fill-opacity:1;\" d=\"M 491.140625 571.054688 L 493.371094 556.222656 L 501.664062 560.367188 L 491.140625 571.054688 \"/>\n<path style=\"fill:none;stroke-width:1;stroke-linecap:butt;stroke-linejoin:miter;stroke:rgb(74.509804%,74.509804%,74.509804%);stroke-opacity:1;stroke-miterlimit:10;\" d=\"M 20 206.667969 L 96.175781 130.492188 \"/>\n<path style=\" stroke:none;fill-rule:nonzero;fill:rgb(74.509804%,74.509804%,74.509804%);fill-opacity:1;\" d=\"M 106.261719 120.40625 L 99.453125 133.769531 L 92.898438 127.214844 L 106.261719 120.40625 \"/>\n<path style=\"fill:none;stroke-width:1;stroke-linecap:butt;stroke-linejoin:miter;stroke:rgb(74.509804%,74.509804%,74.509804%);stroke-opacity:1;stroke-miterlimit:10;\" d=\"M 20 206.667969 L 276.980469 292.328125 \"/>\n<path style=\" stroke:none;fill-rule:nonzero;fill:rgb(74.509804%,74.509804%,74.509804%);fill-opacity:1;\" d=\"M 290.511719 296.835938 L 275.511719 296.722656 L 278.445312 287.929688 L 290.511719 296.835938 \"/>\n<path style=\"fill:none;stroke-width:1;stroke-linecap:butt;stroke-linejoin:miter;stroke:rgb(74.509804%,74.509804%,74.509804%);stroke-opacity:1;stroke-miterlimit:10;\" d=\"M 20 206.667969 L 462.871094 118.09375 \"/>\n<path style=\" stroke:none;fill-rule:nonzero;fill:rgb(74.509804%,74.509804%,74.509804%);fill-opacity:1;\" d=\"M 476.859375 115.292969 L 463.78125 122.636719 L 461.964844 113.546875 L 476.859375 115.292969 \"/>\n<path style=\"fill:none;stroke-width:1;stroke-linecap:butt;stroke-linejoin:miter;stroke:rgb(74.509804%,74.509804%,74.509804%);stroke-opacity:1;stroke-miterlimit:10;\" d=\"M 20 206.667969 L 558.296875 475.816406 \"/>\n<path style=\" stroke:none;fill-rule:nonzero;fill:rgb(74.509804%,74.509804%,74.509804%);fill-opacity:1;\" d=\"M 571.054688 482.195312 L 556.222656 479.960938 L 560.367188 471.667969 L 571.054688 482.195312 \"/>\n<path style=\"fill:none;stroke-width:1;stroke-linecap:butt;stroke-linejoin:miter;stroke:rgb(74.509804%,74.509804%,74.509804%);stroke-opacity:1;stroke-miterlimit:10;\" d=\"M 20 206.667969 L 465.859375 474.183594 \"/>\n<path style=\" stroke:none;fill-rule:nonzero;fill:rgb(74.509804%,74.509804%,74.509804%);fill-opacity:1;\" d=\"M 478.089844 481.523438 L 463.472656 478.15625 L 468.242188 470.207031 L 478.089844 481.523438 \"/>\n<path style=\"fill:none;stroke-width:1;stroke-linecap:butt;stroke-linejoin:miter;stroke:rgb(74.509804%,74.509804%,74.509804%);stroke-opacity:1;stroke-miterlimit:10;\" d=\"M 20 206.667969 L 467.71875 564.839844 \"/>\n<path style=\" stroke:none;fill-rule:nonzero;fill:rgb(74.509804%,74.509804%,74.509804%);fill-opacity:1;\" d=\"M 478.859375 573.753906 L 464.824219 568.460938 L 470.613281 561.222656 L 478.859375 573.753906 \"/>\n<path style=\"fill:none;stroke-width:1;stroke-linecap:butt;stroke-linejoin:miter;stroke:rgb(74.509804%,74.509804%,74.509804%);stroke-opacity:1;stroke-miterlimit:10;\" d=\"M 20 20 L 96.175781 96.175781 \"/>\n<path style=\" stroke:none;fill-rule:nonzero;fill:rgb(74.509804%,74.509804%,74.509804%);fill-opacity:1;\" d=\"M 106.261719 106.261719 L 92.898438 99.453125 L 99.453125 92.898438 L 106.261719 106.261719 \"/>\n<path style=\"fill:none;stroke-width:1;stroke-linecap:butt;stroke-linejoin:miter;stroke:rgb(74.509804%,74.509804%,74.509804%);stroke-opacity:1;stroke-miterlimit:10;\" d=\"M 20 20 L 282.839844 282.839844 \"/>\n<path style=\" stroke:none;fill-rule:nonzero;fill:rgb(74.509804%,74.509804%,74.509804%);fill-opacity:1;\" d=\"M 292.929688 292.929688 L 279.5625 286.117188 L 286.117188 279.5625 L 292.929688 292.929688 \"/>\n<path style=\"fill:none;stroke-width:1;stroke-linecap:butt;stroke-linejoin:miter;stroke:rgb(74.509804%,74.509804%,74.509804%);stroke-opacity:1;stroke-miterlimit:10;\" d=\"M 20 20 L 462.871094 108.574219 \"/>\n<path style=\" stroke:none;fill-rule:nonzero;fill:rgb(74.509804%,74.509804%,74.509804%);fill-opacity:1;\" d=\"M 476.859375 111.371094 L 461.964844 113.121094 L 463.78125 104.027344 L 476.859375 111.371094 \"/>\n<path style=\"fill:none;stroke-width:1;stroke-linecap:butt;stroke-linejoin:miter;stroke:rgb(74.509804%,74.509804%,74.509804%);stroke-opacity:1;stroke-miterlimit:10;\" d=\"M 20 20 L 561.359375 471.132812 \"/>\n<path style=\" stroke:none;fill-rule:nonzero;fill:rgb(74.509804%,74.509804%,74.509804%);fill-opacity:1;\" d=\"M 572.316406 480.265625 L 558.390625 474.691406 L 564.324219 467.570312 L 572.316406 480.265625 \"/>\n<path style=\"fill:none;stroke-width:1;stroke-linecap:butt;stroke-linejoin:miter;stroke:rgb(74.509804%,74.509804%,74.509804%);stroke-opacity:1;stroke-miterlimit:10;\" d=\"M 20 20 L 469.507812 469.507812 \"/>\n<path style=\" stroke:none;fill-rule:nonzero;fill:rgb(74.509804%,74.509804%,74.509804%);fill-opacity:1;\" d=\"M 479.59375 479.59375 L 466.230469 472.785156 L 472.785156 466.230469 L 479.59375 479.59375 \"/>\n<path style=\"fill:none;stroke-width:1;stroke-linecap:butt;stroke-linejoin:miter;stroke:rgb(74.509804%,74.509804%,74.509804%);stroke-opacity:1;stroke-miterlimit:10;\" d=\"M 20 20 L 471.132812 561.359375 \"/>\n<path style=\" stroke:none;fill-rule:nonzero;fill:rgb(74.509804%,74.509804%,74.509804%);fill-opacity:1;\" d=\"M 480.265625 572.316406 L 467.570312 564.324219 L 474.691406 558.390625 L 480.265625 572.316406 \"/>\n<path style=\"fill:none;stroke-width:1;stroke-linecap:butt;stroke-linejoin:miter;stroke:rgb(74.509804%,74.509804%,74.509804%);stroke-opacity:1;stroke-miterlimit:10;\" d=\"M 206.667969 20 L 130.492188 96.175781 \"/>\n<path style=\" stroke:none;fill-rule:nonzero;fill:rgb(74.509804%,74.509804%,74.509804%);fill-opacity:1;\" d=\"M 120.40625 106.261719 L 127.214844 92.898438 L 133.769531 99.453125 L 120.40625 106.261719 \"/>\n<path style=\"fill:none;stroke-width:1;stroke-linecap:butt;stroke-linejoin:miter;stroke:rgb(74.509804%,74.509804%,74.509804%);stroke-opacity:1;stroke-miterlimit:10;\" d=\"M 206.667969 20 L 292.328125 276.980469 \"/>\n<path style=\" stroke:none;fill-rule:nonzero;fill:rgb(74.509804%,74.509804%,74.509804%);fill-opacity:1;\" d=\"M 296.835938 290.511719 L 287.929688 278.445312 L 296.722656 275.511719 L 296.835938 290.511719 \"/>\n<path style=\"fill:none;stroke-width:1;stroke-linecap:butt;stroke-linejoin:miter;stroke:rgb(74.509804%,74.509804%,74.509804%);stroke-opacity:1;stroke-miterlimit:10;\" d=\"M 206.667969 20 L 463.644531 105.660156 \"/>\n<path style=\" stroke:none;fill-rule:nonzero;fill:rgb(74.509804%,74.509804%,74.509804%);fill-opacity:1;\" d=\"M 477.179688 110.171875 L 462.179688 110.058594 L 465.113281 101.261719 L 477.179688 110.171875 \"/>\n<path style=\"fill:none;stroke-width:1;stroke-linecap:butt;stroke-linejoin:miter;stroke:rgb(74.509804%,74.509804%,74.509804%);stroke-opacity:1;stroke-miterlimit:10;\" d=\"M 206.667969 20 L 564.839844 467.71875 \"/>\n<path style=\" stroke:none;fill-rule:nonzero;fill:rgb(74.509804%,74.509804%,74.509804%);fill-opacity:1;\" d=\"M 573.753906 478.859375 L 561.222656 470.613281 L 568.460938 464.824219 L 573.753906 478.859375 \"/>\n<path style=\"fill:none;stroke-width:1;stroke-linecap:butt;stroke-linejoin:miter;stroke:rgb(74.509804%,74.509804%,74.509804%);stroke-opacity:1;stroke-miterlimit:10;\" d=\"M 206.667969 20 L 474.183594 465.859375 \"/>\n<path style=\" stroke:none;fill-rule:nonzero;fill:rgb(74.509804%,74.509804%,74.509804%);fill-opacity:1;\" d=\"M 481.523438 478.089844 L 470.207031 468.242188 L 478.15625 463.472656 L 481.523438 478.089844 \"/>\n<path style=\"fill:none;stroke-width:1;stroke-linecap:butt;stroke-linejoin:miter;stroke:rgb(74.509804%,74.509804%,74.509804%);stroke-opacity:1;stroke-miterlimit:10;\" d=\"M 206.667969 20 L 475.816406 558.296875 \"/>\n<path style=\" stroke:none;fill-rule:nonzero;fill:rgb(74.509804%,74.509804%,74.509804%);fill-opacity:1;\" d=\"M 482.195312 571.054688 L 471.667969 560.367188 L 479.960938 556.222656 L 482.195312 571.054688 \"/>\n<path style=\"fill:none;stroke-width:1;stroke-linecap:butt;stroke-linejoin:miter;stroke:rgb(74.509804%,74.509804%,74.509804%);stroke-opacity:1;stroke-miterlimit:10;\" d=\"M 113.332031 113.332031 L 422.839844 422.839844 \"/>\n<path style=\" stroke:none;fill-rule:nonzero;fill:rgb(74.509804%,74.509804%,74.509804%);fill-opacity:1;\" d=\"M 432.929688 432.929688 L 419.5625 426.117188 L 426.117188 419.5625 L 432.929688 432.929688 \"/>\n<path style=\"fill:none;stroke-width:1;stroke-linecap:butt;stroke-linejoin:miter;stroke:rgb(74.509804%,74.509804%,74.509804%);stroke-opacity:1;stroke-miterlimit:10;\" d=\"M 113.332031 113.332031 L 425.101562 514.179688 \"/>\n<path style=\" stroke:none;fill-rule:nonzero;fill:rgb(74.509804%,74.509804%,74.509804%);fill-opacity:1;\" d=\"M 433.859375 525.441406 L 421.445312 517.023438 L 428.761719 511.332031 L 433.859375 525.441406 \"/>\n<path style=\"fill:none;stroke-width:1;stroke-linecap:butt;stroke-linejoin:miter;stroke:rgb(74.509804%,74.509804%,74.509804%);stroke-opacity:1;stroke-miterlimit:10;\" d=\"M 113.332031 113.332031 L 514.179688 425.101562 \"/>\n<path style=\" stroke:none;fill-rule:nonzero;fill:rgb(74.509804%,74.509804%,74.509804%);fill-opacity:1;\" d=\"M 525.441406 433.859375 L 511.332031 428.761719 L 517.023438 421.445312 L 525.441406 433.859375 \"/>\n<path style=\"fill:none;stroke-width:1;stroke-linecap:butt;stroke-linejoin:miter;stroke:rgb(74.509804%,74.509804%,74.509804%);stroke-opacity:1;stroke-miterlimit:10;\" d=\"M 300 300 L 422.839844 422.839844 \"/>\n<path style=\" stroke:none;fill-rule:nonzero;fill:rgb(74.509804%,74.509804%,74.509804%);fill-opacity:1;\" d=\"M 432.929688 432.929688 L 419.5625 426.117188 L 426.117188 419.5625 L 432.929688 432.929688 \"/>\n<path style=\"fill:none;stroke-width:1;stroke-linecap:butt;stroke-linejoin:miter;stroke:rgb(74.509804%,74.509804%,74.509804%);stroke-opacity:1;stroke-miterlimit:10;\" d=\"M 300 300 L 427.515625 512.527344 \"/>\n<path style=\" stroke:none;fill-rule:nonzero;fill:rgb(74.509804%,74.509804%,74.509804%);fill-opacity:1;\" d=\"M 434.855469 524.757812 L 423.539062 514.910156 L 431.488281 510.140625 L 434.855469 524.757812 \"/>\n<path style=\"fill:none;stroke-width:1;stroke-linecap:butt;stroke-linejoin:miter;stroke:rgb(74.509804%,74.509804%,74.509804%);stroke-opacity:1;stroke-miterlimit:10;\" d=\"M 300 300 L 512.527344 427.515625 \"/>\n<path style=\" stroke:none;fill-rule:nonzero;fill:rgb(74.509804%,74.509804%,74.509804%);fill-opacity:1;\" d=\"M 524.757812 434.855469 L 510.140625 431.488281 L 514.910156 423.539062 L 524.757812 434.855469 \"/>\n<path style=\"fill:none;stroke-width:1;stroke-linecap:butt;stroke-linejoin:miter;stroke:rgb(74.509804%,74.509804%,74.509804%);stroke-opacity:1;stroke-miterlimit:10;\" d=\"M 486.667969 113.332031 L 443.433594 415.976562 \"/>\n<path style=\" stroke:none;fill-rule:nonzero;fill:rgb(74.509804%,74.509804%,74.509804%);fill-opacity:1;\" d=\"M 441.414062 430.101562 L 438.84375 415.324219 L 448.019531 416.632812 L 441.414062 430.101562 \"/>\n<path style=\"fill:none;stroke-width:1;stroke-linecap:butt;stroke-linejoin:miter;stroke:rgb(74.509804%,74.509804%,74.509804%);stroke-opacity:1;stroke-miterlimit:10;\" d=\"M 486.667969 113.332031 L 442.679688 509.214844 \"/>\n<path style=\" stroke:none;fill-rule:nonzero;fill:rgb(74.509804%,74.509804%,74.509804%);fill-opacity:1;\" d=\"M 441.105469 523.394531 L 438.074219 508.703125 L 447.285156 509.726562 L 441.105469 523.394531 \"/>\n<path style=\"fill:none;stroke-width:1;stroke-linecap:butt;stroke-linejoin:miter;stroke:rgb(74.509804%,74.509804%,74.509804%);stroke-opacity:1;stroke-miterlimit:10;\" d=\"M 486.667969 113.332031 L 529.902344 415.976562 \"/>\n<path style=\" stroke:none;fill-rule:nonzero;fill:rgb(74.509804%,74.509804%,74.509804%);fill-opacity:1;\" d=\"M 531.917969 430.101562 L 525.3125 416.632812 L 534.492188 415.324219 L 531.917969 430.101562 \"/>\n<path style=\"fill:none;stroke-width:1;stroke-linecap:butt;stroke-linejoin:miter;stroke:rgb(74.509804%,74.509804%,74.509804%);stroke-opacity:1;stroke-miterlimit:10;\" d=\"M 580 486.667969 L 463.019531 447.671875 \"/>\n<path style=\" stroke:none;fill-rule:nonzero;fill:rgb(74.509804%,74.509804%,74.509804%);fill-opacity:1;\" d=\"M 449.488281 443.164062 L 464.488281 443.277344 L 461.554688 452.070312 L 449.488281 443.164062 \"/>\n<path style=\"fill:none;stroke-width:1;stroke-linecap:butt;stroke-linejoin:miter;stroke:rgb(74.509804%,74.509804%,74.509804%);stroke-opacity:1;stroke-miterlimit:10;\" d=\"M 580 486.667969 L 463.019531 525.660156 \"/>\n<path style=\" stroke:none;fill-rule:nonzero;fill:rgb(74.509804%,74.509804%,74.509804%);fill-opacity:1;\" d=\"M 449.488281 530.171875 L 461.554688 521.261719 L 464.488281 530.058594 L 449.488281 530.171875 \"/>\n<path style=\"fill:none;stroke-width:1;stroke-linecap:butt;stroke-linejoin:miter;stroke:rgb(74.509804%,74.509804%,74.509804%);stroke-opacity:1;stroke-miterlimit:10;\" d=\"M 580 486.667969 L 550.492188 457.160156 \"/>\n<path style=\" stroke:none;fill-rule:nonzero;fill:rgb(74.509804%,74.509804%,74.509804%);fill-opacity:1;\" d=\"M 540.40625 447.070312 L 553.769531 453.882812 L 547.214844 460.4375 L 540.40625 447.070312 \"/>\n<path style=\"fill:none;stroke-width:1;stroke-linecap:butt;stroke-linejoin:miter;stroke:rgb(74.509804%,74.509804%,74.509804%);stroke-opacity:1;stroke-miterlimit:10;\" d=\"M 486.667969 486.667969 L 457.160156 457.160156 \"/>\n<path style=\" stroke:none;fill-rule:nonzero;fill:rgb(74.509804%,74.509804%,74.509804%);fill-opacity:1;\" d=\"M 447.070312 447.070312 L 460.4375 453.882812 L 453.882812 460.4375 L 447.070312 447.070312 \"/>\n<path style=\"fill:none;stroke-width:1;stroke-linecap:butt;stroke-linejoin:miter;stroke:rgb(74.509804%,74.509804%,74.509804%);stroke-opacity:1;stroke-miterlimit:10;\" d=\"M 486.667969 486.667969 L 457.160156 516.175781 \"/>\n<path style=\" stroke:none;fill-rule:nonzero;fill:rgb(74.509804%,74.509804%,74.509804%);fill-opacity:1;\" d=\"M 447.070312 526.261719 L 453.882812 512.898438 L 460.4375 519.453125 L 447.070312 526.261719 \"/>\n<path style=\"fill:none;stroke-width:1;stroke-linecap:butt;stroke-linejoin:miter;stroke:rgb(74.509804%,74.509804%,74.509804%);stroke-opacity:1;stroke-miterlimit:10;\" d=\"M 486.667969 486.667969 L 516.175781 457.160156 \"/>\n<path style=\" stroke:none;fill-rule:nonzero;fill:rgb(74.509804%,74.509804%,74.509804%);fill-opacity:1;\" d=\"M 526.261719 447.070312 L 519.453125 460.4375 L 512.898438 453.882812 L 526.261719 447.070312 \"/>\n<path style=\"fill:none;stroke-width:1;stroke-linecap:butt;stroke-linejoin:miter;stroke:rgb(74.509804%,74.509804%,74.509804%);stroke-opacity:1;stroke-miterlimit:10;\" d=\"M 486.667969 580 L 447.671875 463.019531 \"/>\n<path style=\" stroke:none;fill-rule:nonzero;fill:rgb(74.509804%,74.509804%,74.509804%);fill-opacity:1;\" d=\"M 443.164062 449.488281 L 452.070312 461.554688 L 443.277344 464.488281 L 443.164062 449.488281 \"/>\n<path style=\"fill:none;stroke-width:1;stroke-linecap:butt;stroke-linejoin:miter;stroke:rgb(74.509804%,74.509804%,74.509804%);stroke-opacity:1;stroke-miterlimit:10;\" d=\"M 486.667969 580 L 457.160156 550.492188 \"/>\n<path style=\" stroke:none;fill-rule:nonzero;fill:rgb(74.509804%,74.509804%,74.509804%);fill-opacity:1;\" d=\"M 447.070312 540.40625 L 460.4375 547.214844 L 453.882812 553.769531 L 447.070312 540.40625 \"/>\n<path style=\"fill:none;stroke-width:1;stroke-linecap:butt;stroke-linejoin:miter;stroke:rgb(74.509804%,74.509804%,74.509804%);stroke-opacity:1;stroke-miterlimit:10;\" d=\"M 486.667969 580 L 525.660156 463.019531 \"/>\n<path style=\" stroke:none;fill-rule:nonzero;fill:rgb(74.509804%,74.509804%,74.509804%);fill-opacity:1;\" d=\"M 530.171875 449.488281 L 530.058594 464.488281 L 521.261719 461.554688 L 530.171875 449.488281 \"/>\n<path style=\"fill:none;stroke-width:1;stroke-linecap:butt;stroke-linejoin:miter;stroke:rgb(74.509804%,74.509804%,74.509804%);stroke-opacity:1;stroke-miterlimit:10;\" d=\"M 580 580 L 457.160156 457.160156 \"/>\n<path style=\" stroke:none;fill-rule:nonzero;fill:rgb(74.509804%,74.509804%,74.509804%);fill-opacity:1;\" d=\"M 447.070312 447.070312 L 460.4375 453.882812 L 453.882812 460.4375 L 447.070312 447.070312 \"/>\n<path style=\"fill:none;stroke-width:1;stroke-linecap:butt;stroke-linejoin:miter;stroke:rgb(74.509804%,74.509804%,74.509804%);stroke-opacity:1;stroke-miterlimit:10;\" d=\"M 580 580 L 463.019531 541.007812 \"/>\n<path style=\" stroke:none;fill-rule:nonzero;fill:rgb(74.509804%,74.509804%,74.509804%);fill-opacity:1;\" d=\"M 449.488281 536.496094 L 464.488281 536.609375 L 461.554688 545.402344 L 449.488281 536.496094 \"/>\n<path style=\"fill:none;stroke-width:1;stroke-linecap:butt;stroke-linejoin:miter;stroke:rgb(74.509804%,74.509804%,74.509804%);stroke-opacity:1;stroke-miterlimit:10;\" d=\"M 580 580 L 541.007812 463.019531 \"/>\n<path style=\" stroke:none;fill-rule:nonzero;fill:rgb(74.509804%,74.509804%,74.509804%);fill-opacity:1;\" d=\"M 536.496094 449.488281 L 545.402344 461.554688 L 536.609375 464.488281 L 536.496094 449.488281 \"/>\n<path style=\"fill:none;stroke-width:1;stroke-linecap:butt;stroke-linejoin:miter;stroke:rgb(74.509804%,74.509804%,74.509804%);stroke-opacity:1;stroke-miterlimit:10;\" d=\"M 393.332031 580 L 432.328125 463.019531 \"/>\n<path style=\" stroke:none;fill-rule:nonzero;fill:rgb(74.509804%,74.509804%,74.509804%);fill-opacity:1;\" d=\"M 436.835938 449.488281 L 436.722656 464.488281 L 427.929688 461.554688 L 436.835938 449.488281 \"/>\n<path style=\"fill:none;stroke-width:1;stroke-linecap:butt;stroke-linejoin:miter;stroke:rgb(74.509804%,74.509804%,74.509804%);stroke-opacity:1;stroke-miterlimit:10;\" d=\"M 393.332031 580 L 422.839844 550.492188 \"/>\n<path style=\" stroke:none;fill-rule:nonzero;fill:rgb(74.509804%,74.509804%,74.509804%);fill-opacity:1;\" d=\"M 432.929688 540.40625 L 426.117188 553.769531 L 419.5625 547.214844 L 432.929688 540.40625 \"/>\n<path style=\"fill:none;stroke-width:1;stroke-linecap:butt;stroke-linejoin:miter;stroke:rgb(74.509804%,74.509804%,74.509804%);stroke-opacity:1;stroke-miterlimit:10;\" d=\"M 393.332031 580 L 516.175781 457.160156 \"/>\n<path style=\" stroke:none;fill-rule:nonzero;fill:rgb(74.509804%,74.509804%,74.509804%);fill-opacity:1;\" d=\"M 526.261719 447.070312 L 519.453125 460.4375 L 512.898438 453.882812 L 526.261719 447.070312 \"/>\n<path style=\"fill:none;stroke-width:1;stroke-linecap:butt;stroke-linejoin:miter;stroke:rgb(74.509804%,74.509804%,74.509804%);stroke-opacity:1;stroke-miterlimit:10;\" d=\"M 580 393.332031 L 463.019531 432.328125 \"/>\n<path style=\" stroke:none;fill-rule:nonzero;fill:rgb(74.509804%,74.509804%,74.509804%);fill-opacity:1;\" d=\"M 449.488281 436.835938 L 461.554688 427.929688 L 464.488281 436.722656 L 449.488281 436.835938 \"/>\n<path style=\"fill:none;stroke-width:1;stroke-linecap:butt;stroke-linejoin:miter;stroke:rgb(74.509804%,74.509804%,74.509804%);stroke-opacity:1;stroke-miterlimit:10;\" d=\"M 580 393.332031 L 457.160156 516.175781 \"/>\n<path style=\" stroke:none;fill-rule:nonzero;fill:rgb(74.509804%,74.509804%,74.509804%);fill-opacity:1;\" d=\"M 447.070312 526.261719 L 453.882812 512.898438 L 460.4375 519.453125 L 447.070312 526.261719 \"/>\n<path style=\"fill:none;stroke-width:1;stroke-linecap:butt;stroke-linejoin:miter;stroke:rgb(74.509804%,74.509804%,74.509804%);stroke-opacity:1;stroke-miterlimit:10;\" d=\"M 580 393.332031 L 550.492188 422.839844 \"/>\n<path style=\" stroke:none;fill-rule:nonzero;fill:rgb(74.509804%,74.509804%,74.509804%);fill-opacity:1;\" d=\"M 540.40625 432.929688 L 547.214844 419.5625 L 553.769531 426.117188 L 540.40625 432.929688 \"/>\n<path style=\"fill:none;stroke-width:1;stroke-linecap:butt;stroke-linejoin:miter;stroke:rgb(74.509804%,74.509804%,74.509804%);stroke-opacity:1;stroke-miterlimit:10;\" d=\"M 20 206.667969 L 418.789062 428.214844 \"/>\n<path style=\" stroke:none;fill-rule:nonzero;fill:rgb(74.509804%,74.509804%,74.509804%);fill-opacity:1;\" d=\"M 431.257812 435.144531 L 416.535156 432.265625 L 421.039062 424.164062 L 431.257812 435.144531 \"/>\n<path style=\"fill:none;stroke-width:1;stroke-linecap:butt;stroke-linejoin:miter;stroke:rgb(74.509804%,74.509804%,74.509804%);stroke-opacity:1;stroke-miterlimit:10;\" d=\"M 20 206.667969 L 420.84375 518.433594 \"/>\n<path style=\" stroke:none;fill-rule:nonzero;fill:rgb(74.509804%,74.509804%,74.509804%);fill-opacity:1;\" d=\"M 432.105469 527.195312 L 418 522.09375 L 423.691406 514.777344 L 432.105469 527.195312 \"/>\n<path style=\"fill:none;stroke-width:1;stroke-linecap:butt;stroke-linejoin:miter;stroke:rgb(74.509804%,74.509804%,74.509804%);stroke-opacity:1;stroke-miterlimit:10;\" d=\"M 20 206.667969 L 511.242188 429.957031 \"/>\n<path style=\" stroke:none;fill-rule:nonzero;fill:rgb(74.509804%,74.509804%,74.509804%);fill-opacity:1;\" d=\"M 524.230469 435.863281 L 509.324219 434.179688 L 513.160156 425.738281 L 524.230469 435.863281 \"/>\n<path style=\"fill:none;stroke-width:1;stroke-linecap:butt;stroke-linejoin:miter;stroke:rgb(74.509804%,74.509804%,74.509804%);stroke-opacity:1;stroke-miterlimit:10;\" d=\"M 20 20 L 422.839844 422.839844 \"/>\n<path style=\" stroke:none;fill-rule:nonzero;fill:rgb(74.509804%,74.509804%,74.509804%);fill-opacity:1;\" d=\"M 432.929688 432.929688 L 419.5625 426.117188 L 426.117188 419.5625 L 432.929688 432.929688 \"/>\n<path style=\"fill:none;stroke-width:1;stroke-linecap:butt;stroke-linejoin:miter;stroke:rgb(74.509804%,74.509804%,74.509804%);stroke-opacity:1;stroke-miterlimit:10;\" d=\"M 20 20 L 424.632812 514.550781 \"/>\n<path style=\" stroke:none;fill-rule:nonzero;fill:rgb(74.509804%,74.509804%,74.509804%);fill-opacity:1;\" d=\"M 433.667969 525.59375 L 421.046875 517.488281 L 428.222656 511.617188 L 433.667969 525.59375 \"/>\n<path style=\"fill:none;stroke-width:1;stroke-linecap:butt;stroke-linejoin:miter;stroke:rgb(74.509804%,74.509804%,74.509804%);stroke-opacity:1;stroke-miterlimit:10;\" d=\"M 20 20 L 514.550781 424.632812 \"/>\n<path style=\" stroke:none;fill-rule:nonzero;fill:rgb(74.509804%,74.509804%,74.509804%);fill-opacity:1;\" d=\"M 525.59375 433.667969 L 511.617188 428.222656 L 517.488281 421.046875 L 525.59375 433.667969 \"/>\n<path style=\"fill:none;stroke-width:1;stroke-linecap:butt;stroke-linejoin:miter;stroke:rgb(74.509804%,74.509804%,74.509804%);stroke-opacity:1;stroke-miterlimit:10;\" d=\"M 206.667969 20 L 428.214844 418.789062 \"/>\n<path style=\" stroke:none;fill-rule:nonzero;fill:rgb(74.509804%,74.509804%,74.509804%);fill-opacity:1;\" d=\"M 435.144531 431.257812 L 424.164062 421.039062 L 432.265625 416.535156 L 435.144531 431.257812 \"/>\n<path style=\"fill:none;stroke-width:1;stroke-linecap:butt;stroke-linejoin:miter;stroke:rgb(74.509804%,74.509804%,74.509804%);stroke-opacity:1;stroke-miterlimit:10;\" d=\"M 206.667969 20 L 429.957031 511.242188 \"/>\n<path style=\" stroke:none;fill-rule:nonzero;fill:rgb(74.509804%,74.509804%,74.509804%);fill-opacity:1;\" d=\"M 435.863281 524.230469 L 425.738281 513.160156 L 434.179688 509.324219 L 435.863281 524.230469 \"/>\n<path style=\"fill:none;stroke-width:1;stroke-linecap:butt;stroke-linejoin:miter;stroke:rgb(74.509804%,74.509804%,74.509804%);stroke-opacity:1;stroke-miterlimit:10;\" d=\"M 206.667969 20 L 518.433594 420.84375 \"/>\n<path style=\" stroke:none;fill-rule:nonzero;fill:rgb(74.509804%,74.509804%,74.509804%);fill-opacity:1;\" d=\"M 527.195312 432.105469 L 514.777344 423.691406 L 522.09375 418 L 527.195312 432.105469 \"/>\n<path style=\"fill:none;stroke-width:1;stroke-linecap:butt;stroke-linejoin:miter;stroke:rgb(100%,75.294118%,79.607843%);stroke-opacity:1;stroke-miterlimit:10;\" d=\"M 113.332031 113.332031 C 120.664062 216.054688 174.660156 299.984375 275.328125 299.996094 \"/>\n<path style=\" stroke:none;fill-rule:nonzero;fill:rgb(100%,75.294118%,79.607843%);fill-opacity:1;\" d=\"M 289.59375 300 L 275.328125 304.632812 L 275.328125 295.363281 L 289.59375 300 \"/>\n<path style=\"fill:none;stroke-width:1;stroke-linecap:butt;stroke-linejoin:miter;stroke:rgb(100%,75.294118%,79.607843%);stroke-opacity:1;stroke-miterlimit:10;\" d=\"M 300 300 C 292.667969 197.28125 238.671875 113.347656 138.007812 113.335938 \"/>\n<path style=\" stroke:none;fill-rule:nonzero;fill:rgb(100%,75.294118%,79.607843%);fill-opacity:1;\" d=\"M 123.742188 113.335938 L 138.007812 108.699219 L 138.003906 117.972656 L 123.742188 113.335938 \"/>\n<path style=\"fill:none;stroke-width:1;stroke-linecap:butt;stroke-linejoin:miter;stroke:rgb(100%,75.294118%,79.607843%);stroke-opacity:1;stroke-miterlimit:10;\" d=\"M 300 300 C 307.332031 402.71875 361.328125 486.652344 461.992188 486.664062 \"/>\n<path style=\" stroke:none;fill-rule:nonzero;fill:rgb(100%,75.294118%,79.607843%);fill-opacity:1;\" d=\"M 476.257812 486.664062 L 461.992188 491.300781 L 461.996094 482.027344 L 476.257812 486.664062 \"/>\n<path style=\"fill:none;stroke-width:1;stroke-linecap:butt;stroke-linejoin:miter;stroke:rgb(100%,75.294118%,79.607843%);stroke-opacity:1;stroke-miterlimit:10;\" d=\"M 486.667969 486.667969 C 479.335938 383.945312 425.339844 300.015625 324.671875 300.003906 \"/>\n<path style=\" stroke:none;fill-rule:nonzero;fill:rgb(100%,75.294118%,79.607843%);fill-opacity:1;\" d=\"M 310.40625 300 L 324.671875 295.367188 L 324.671875 304.636719 L 310.40625 300 \"/>\n<path style=\"fill:none;stroke-width:1;stroke-linecap:butt;stroke-linejoin:miter;stroke:rgb(100%,75.294118%,79.607843%);stroke-opacity:1;stroke-miterlimit:10;\" d=\"M 486.667969 486.667969 C 463.765625 507.738281 455.632812 534.679688 473.042969 560.105469 \"/>\n<path style=\" stroke:none;fill-rule:nonzero;fill:rgb(100%,75.294118%,79.607843%);fill-opacity:1;\" d=\"M 481.101562 571.875 L 469.21875 562.722656 L 476.867188 557.484375 L 481.101562 571.875 \"/>\n<path style=\"fill:none;stroke-width:1;stroke-linecap:butt;stroke-linejoin:miter;stroke:rgb(100%,75.294118%,79.607843%);stroke-opacity:1;stroke-miterlimit:10;\" d=\"M 486.667969 580 C 515.328125 557.421875 532.441406 504.375 509.183594 495.378906 \"/>\n<path style=\" stroke:none;fill-rule:nonzero;fill:rgb(100%,75.294118%,79.607843%);fill-opacity:1;\" d=\"M 495.878906 490.230469 L 510.855469 491.054688 L 507.511719 499.699219 L 495.878906 490.230469 \"/>\n<path style=\"fill:none;stroke-width:1;stroke-linecap:butt;stroke-linejoin:miter;stroke:rgb(100%,75.294118%,79.607843%);stroke-opacity:1;stroke-miterlimit:10;\" d=\"M 580 486.667969 C 558.925781 463.765625 531.988281 455.632812 506.5625 473.042969 \"/>\n<path style=\" stroke:none;fill-rule:nonzero;fill:rgb(100%,75.294118%,79.607843%);fill-opacity:1;\" d=\"M 494.792969 481.101562 L 503.945312 469.21875 L 509.179688 476.867188 L 494.792969 481.101562 \"/>\n<path style=\"fill:none;stroke-width:1;stroke-linecap:butt;stroke-linejoin:miter;stroke:rgb(100%,75.294118%,79.607843%);stroke-opacity:1;stroke-miterlimit:10;\" d=\"M 486.667969 486.667969 C 507.742188 507.878906 530.613281 509.621094 557.671875 497.046875 \"/>\n<path style=\" stroke:none;fill-rule:nonzero;fill:rgb(100%,75.294118%,79.607843%);fill-opacity:1;\" d=\"M 570.609375 491.03125 L 559.625 501.25 L 555.71875 492.839844 L 570.609375 491.03125 \"/>\n<path style=\"fill:none;stroke-width:1;stroke-linecap:butt;stroke-linejoin:miter;stroke:rgb(0%,0%,100%);stroke-opacity:1;stroke-miterlimit:10;\" d=\"M 113.332031 113.332031 L 469.507812 469.507812 \"/>\n<path style=\" stroke:none;fill-rule:nonzero;fill:rgb(0%,0%,100%);fill-opacity:1;\" d=\"M 479.59375 479.59375 L 466.230469 472.785156 L 472.785156 466.230469 L 479.59375 479.59375 \"/>\n<path style=\"fill:none;stroke-width:1;stroke-linecap:butt;stroke-linejoin:miter;stroke:rgb(0%,0%,100%);stroke-opacity:1;stroke-miterlimit:10;\" d=\"M 486.667969 486.667969 L 486.667969 137.597656 \"/>\n<path style=\" stroke:none;fill-rule:nonzero;fill:rgb(0%,0%,100%);fill-opacity:1;\" d=\"M 486.667969 123.332031 L 491.300781 137.597656 L 482.03125 137.597656 L 486.667969 123.332031 \"/>\n<path style=\"fill:none;stroke-width:1;stroke-linecap:butt;stroke-linejoin:miter;stroke:rgb(0%,0%,100%);stroke-opacity:1;stroke-miterlimit:10;\" d=\"M 486.667969 113.332031 L 137.597656 113.332031 \"/>\n<path style=\" stroke:none;fill-rule:nonzero;fill:rgb(0%,0%,100%);fill-opacity:1;\" d=\"M 123.332031 113.332031 L 137.597656 108.699219 L 137.597656 117.96875 L 123.332031 113.332031 \"/>\n<path style=\"fill-rule:nonzero;fill:rgb(100%,0%,0%);fill-opacity:1;stroke-width:1;stroke-linecap:butt;stroke-linejoin:miter;stroke:rgb(0%,0%,0%);stroke-opacity:1;stroke-miterlimit:10;\" d=\"M 590 580 C 590 585.523438 585.523438 590 580 590 C 574.476562 590 570 585.523438 570 580 C 570 574.476562 574.476562 570 580 570 C 585.523438 570 590 574.476562 590 580 \"/>\n<path style=\"fill-rule:nonzero;fill:rgb(100%,0%,0%);fill-opacity:1;stroke-width:1;stroke-linecap:butt;stroke-linejoin:miter;stroke:rgb(0%,0%,0%);stroke-opacity:1;stroke-miterlimit:10;\" d=\"M 403.332031 580 C 403.332031 585.523438 398.855469 590 393.332031 590 C 387.808594 590 383.332031 585.523438 383.332031 580 C 383.332031 574.476562 387.808594 570 393.332031 570 C 398.855469 570 403.332031 574.476562 403.332031 580 \"/>\n<path style=\"fill-rule:nonzero;fill:rgb(100%,0%,0%);fill-opacity:1;stroke-width:1;stroke-linecap:butt;stroke-linejoin:miter;stroke:rgb(0%,0%,0%);stroke-opacity:1;stroke-miterlimit:10;\" d=\"M 590 393.332031 C 590 398.855469 585.523438 403.332031 580 403.332031 C 574.476562 403.332031 570 398.855469 570 393.332031 C 570 387.808594 574.476562 383.332031 580 383.332031 C 585.523438 383.332031 590 387.808594 590 393.332031 \"/>\n<path style=\"fill-rule:nonzero;fill:rgb(62.745098%,12.54902%,94.117647%);fill-opacity:1;stroke-width:1;stroke-linecap:butt;stroke-linejoin:miter;stroke:rgb(0%,0%,0%);stroke-opacity:1;stroke-miterlimit:10;\" d=\"M 30 206.667969 C 30 212.191406 25.523438 216.667969 20 216.667969 C 14.476562 216.667969 10 212.191406 10 206.667969 C 10 201.144531 14.476562 196.667969 20 196.667969 C 25.523438 196.667969 30 201.144531 30 206.667969 \"/>\n<path style=\"fill-rule:nonzero;fill:rgb(62.745098%,12.54902%,94.117647%);fill-opacity:1;stroke-width:1;stroke-linecap:butt;stroke-linejoin:miter;stroke:rgb(0%,0%,0%);stroke-opacity:1;stroke-miterlimit:10;\" d=\"M 30 20 C 30 25.523438 25.523438 30 20 30 C 14.476562 30 10 25.523438 10 20 C 10 14.476562 14.476562 10 20 10 C 25.523438 10 30 14.476562 30 20 \"/>\n<path style=\"fill-rule:nonzero;fill:rgb(62.745098%,12.54902%,94.117647%);fill-opacity:1;stroke-width:1;stroke-linecap:butt;stroke-linejoin:miter;stroke:rgb(0%,0%,0%);stroke-opacity:1;stroke-miterlimit:10;\" d=\"M 216.667969 20 C 216.667969 25.523438 212.191406 30 206.667969 30 C 201.144531 30 196.667969 25.523438 196.667969 20 C 196.667969 14.476562 201.144531 10 206.667969 10 C 212.191406 10 216.667969 14.476562 216.667969 20 \"/>\n<path style=\"fill-rule:nonzero;fill:rgb(0%,0%,100%);fill-opacity:1;stroke-width:1;stroke-linecap:butt;stroke-linejoin:miter;stroke:rgb(0%,0%,0%);stroke-opacity:1;stroke-miterlimit:10;\" d=\"M 123.332031 113.332031 C 123.332031 118.855469 118.855469 123.332031 113.332031 123.332031 C 107.808594 123.332031 103.332031 118.855469 103.332031 113.332031 C 103.332031 107.808594 107.808594 103.332031 113.332031 103.332031 C 118.855469 103.332031 123.332031 107.808594 123.332031 113.332031 \"/>\n<path style=\"fill-rule:nonzero;fill:rgb(0%,0%,100%);fill-opacity:1;stroke-width:1;stroke-linecap:butt;stroke-linejoin:miter;stroke:rgb(0%,0%,0%);stroke-opacity:1;stroke-miterlimit:10;\" d=\"M 310 300 C 310 305.523438 305.523438 310 300 310 C 294.476562 310 290 305.523438 290 300 C 290 294.476562 294.476562 290 300 290 C 305.523438 290 310 294.476562 310 300 \"/>\n<path style=\"fill-rule:nonzero;fill:rgb(0%,0%,100%);fill-opacity:1;stroke-width:1;stroke-linecap:butt;stroke-linejoin:miter;stroke:rgb(0%,0%,0%);stroke-opacity:1;stroke-miterlimit:10;\" d=\"M 496.667969 113.332031 C 496.667969 118.855469 492.191406 123.332031 486.667969 123.332031 C 481.144531 123.332031 476.667969 118.855469 476.667969 113.332031 C 476.667969 107.808594 481.144531 103.332031 486.667969 103.332031 C 492.191406 103.332031 496.667969 107.808594 496.667969 113.332031 \"/>\n<path style=\"fill-rule:nonzero;fill:rgb(0%,0%,100%);fill-opacity:1;stroke-width:1;stroke-linecap:butt;stroke-linejoin:miter;stroke:rgb(0%,0%,0%);stroke-opacity:1;stroke-miterlimit:10;\" d=\"M 590 486.667969 C 590 492.191406 585.523438 496.667969 580 496.667969 C 574.476562 496.667969 570 492.191406 570 486.667969 C 570 481.144531 574.476562 476.667969 580 476.667969 C 585.523438 476.667969 590 481.144531 590 486.667969 \"/>\n<path style=\"fill-rule:nonzero;fill:rgb(0%,0%,100%);fill-opacity:1;stroke-width:1;stroke-linecap:butt;stroke-linejoin:miter;stroke:rgb(0%,0%,0%);stroke-opacity:1;stroke-miterlimit:10;\" d=\"M 496.667969 486.667969 C 496.667969 492.191406 492.191406 496.667969 486.667969 496.667969 C 481.144531 496.667969 476.667969 492.191406 476.667969 486.667969 C 476.667969 481.144531 481.144531 476.667969 486.667969 476.667969 C 492.191406 476.667969 496.667969 481.144531 496.667969 486.667969 \"/>\n<path style=\"fill-rule:nonzero;fill:rgb(0%,0%,100%);fill-opacity:1;stroke-width:1;stroke-linecap:butt;stroke-linejoin:miter;stroke:rgb(0%,0%,0%);stroke-opacity:1;stroke-miterlimit:10;\" d=\"M 496.667969 580 C 496.667969 585.523438 492.191406 590 486.667969 590 C 481.144531 590 476.667969 585.523438 476.667969 580 C 476.667969 574.476562 481.144531 570 486.667969 570 C 492.191406 570 496.667969 574.476562 496.667969 580 \"/>\n<path style=\"fill-rule:nonzero;fill:rgb(0%,100%,0%);fill-opacity:1;stroke-width:1;stroke-linecap:butt;stroke-linejoin:miter;stroke:rgb(0%,0%,0%);stroke-opacity:1;stroke-miterlimit:10;\" d=\"M 450 440 C 450 445.523438 445.523438 450 440 450 C 434.476562 450 430 445.523438 430 440 C 430 434.476562 434.476562 430 440 430 C 445.523438 430 450 434.476562 450 440 \"/>\n<path style=\"fill-rule:nonzero;fill:rgb(0%,100%,0%);fill-opacity:1;stroke-width:1;stroke-linecap:butt;stroke-linejoin:miter;stroke:rgb(0%,0%,0%);stroke-opacity:1;stroke-miterlimit:10;\" d=\"M 450 533.332031 C 450 538.855469 445.523438 543.332031 440 543.332031 C 434.476562 543.332031 430 538.855469 430 533.332031 C 430 527.808594 434.476562 523.332031 440 523.332031 C 445.523438 523.332031 450 527.808594 450 533.332031 \"/>\n<path style=\"fill-rule:nonzero;fill:rgb(0%,100%,0%);fill-opacity:1;stroke-width:1;stroke-linecap:butt;stroke-linejoin:miter;stroke:rgb(0%,0%,0%);stroke-opacity:1;stroke-miterlimit:10;\" d=\"M 543.332031 440 C 543.332031 445.523438 538.855469 450 533.332031 450 C 527.808594 450 523.332031 445.523438 523.332031 440 C 523.332031 434.476562 527.808594 430 533.332031 430 C 538.855469 430 543.332031 434.476562 543.332031 440 \"/>\n</g>\n</svg>\n"
     },
     "execution_count": 8,
     "metadata": {
      "image/svg+xml": {
       "isolated": true
      }
     },
     "output_type": "execute_result"
    }
   ],
   "source": [
    "ig.plot(g)"
   ],
   "metadata": {
    "collapsed": false,
    "pycharm": {
     "name": "#%%\n"
    }
   }
  },
  {
   "cell_type": "code",
   "execution_count": 9,
   "outputs": [],
   "source": [
    "g.write_picklez('../datasets/synthetic_3/graph.picklez')"
   ],
   "metadata": {
    "collapsed": false,
    "pycharm": {
     "name": "#%%\n"
    }
   }
  },
  {
   "cell_type": "markdown",
   "source": [
    "# Census Data"
   ],
   "metadata": {
    "collapsed": false,
    "pycharm": {
     "name": "#%% md\n"
    }
   }
  },
  {
   "cell_type": "code",
   "execution_count": 10,
   "outputs": [
    {
     "data": {
      "text/plain": "  neighborhood  n_inh  n_purple  n_red            res_centroids\n0          RC0   1000       100    900  POINT (3.50000 3.50000)\n1          RC1   1000       200    800  POINT (2.50000 3.50000)\n2          RC2   1000       200    800  POINT (3.50000 2.50000)\n3          RC3   1200      1000    200  POINT (0.50000 1.50000)\n4          RC4    800       600    200  POINT (0.50000 0.50000)\n5          RC5   1000      1000      0  POINT (1.50000 0.50000)",
      "text/html": "<div>\n<style scoped>\n    .dataframe tbody tr th:only-of-type {\n        vertical-align: middle;\n    }\n\n    .dataframe tbody tr th {\n        vertical-align: top;\n    }\n\n    .dataframe thead th {\n        text-align: right;\n    }\n</style>\n<table border=\"1\" class=\"dataframe\">\n  <thead>\n    <tr style=\"text-align: right;\">\n      <th></th>\n      <th>neighborhood</th>\n      <th>n_inh</th>\n      <th>n_purple</th>\n      <th>n_red</th>\n      <th>res_centroids</th>\n    </tr>\n  </thead>\n  <tbody>\n    <tr>\n      <th>0</th>\n      <td>RC0</td>\n      <td>1000</td>\n      <td>100</td>\n      <td>900</td>\n      <td>POINT (3.50000 3.50000)</td>\n    </tr>\n    <tr>\n      <th>1</th>\n      <td>RC1</td>\n      <td>1000</td>\n      <td>200</td>\n      <td>800</td>\n      <td>POINT (2.50000 3.50000)</td>\n    </tr>\n    <tr>\n      <th>2</th>\n      <td>RC2</td>\n      <td>1000</td>\n      <td>200</td>\n      <td>800</td>\n      <td>POINT (3.50000 2.50000)</td>\n    </tr>\n    <tr>\n      <th>3</th>\n      <td>RC3</td>\n      <td>1200</td>\n      <td>1000</td>\n      <td>200</td>\n      <td>POINT (0.50000 1.50000)</td>\n    </tr>\n    <tr>\n      <th>4</th>\n      <td>RC4</td>\n      <td>800</td>\n      <td>600</td>\n      <td>200</td>\n      <td>POINT (0.50000 0.50000)</td>\n    </tr>\n    <tr>\n      <th>5</th>\n      <td>RC5</td>\n      <td>1000</td>\n      <td>1000</td>\n      <td>0</td>\n      <td>POINT (1.50000 0.50000)</td>\n    </tr>\n  </tbody>\n</table>\n</div>"
     },
     "execution_count": 10,
     "metadata": {},
     "output_type": "execute_result"
    }
   ],
   "source": [
    "data = {\n",
    "    'neighborhood': [rcv.name for rcv in rc_vertices],\n",
    "    'n_inh': [1000,1000,1000,1200,800,1000],\n",
    "    'n_purple': [100, 200, 200, 1000, 600, 1000],\n",
    "    'n_red': [900, 800, 800, 200, 200, 0],\n",
    "    'res_centroids': gpd.points_from_xy([rcv.x for rcv in rc_vertices], [rcv.y for rcv in rc_vertices])\n",
    "}\n",
    "\n",
    "gdf = gpd.GeoDataFrame(data, geometry='res_centroids')\n",
    "gdf"
   ],
   "metadata": {
    "collapsed": false,
    "pycharm": {
     "name": "#%%\n"
    }
   }
  },
  {
   "cell_type": "code",
   "execution_count": 11,
   "outputs": [],
   "source": [
    "gdf.to_file('../datasets/synthetic_3/census_data.geojson', driver='GeoJSON')"
   ],
   "metadata": {
    "collapsed": false,
    "pycharm": {
     "name": "#%%\n"
    }
   }
  },
  {
   "cell_type": "code",
   "execution_count": 11,
   "outputs": [],
   "source": [],
   "metadata": {
    "collapsed": false,
    "pycharm": {
     "name": "#%%\n"
    }
   }
  }
 ],
 "metadata": {
  "kernelspec": {
   "display_name": "Python 3",
   "language": "python",
   "name": "python3"
  },
  "language_info": {
   "codemirror_mode": {
    "name": "ipython",
    "version": 3
   },
   "file_extension": ".py",
   "mimetype": "text/x-python",
   "name": "python",
   "nbconvert_exporter": "python",
   "pygments_lexer": "ipython3",
   "version": "3.9.12"
  }
 },
 "nbformat": 4,
 "nbformat_minor": 4
}