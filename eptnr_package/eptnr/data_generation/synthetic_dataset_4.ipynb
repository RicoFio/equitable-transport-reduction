{
 "cells": [
  {
   "cell_type": "code",
   "execution_count": 1,
   "outputs": [],
   "source": [
    "import igraph as ig\n",
    "import geopandas as gpd\n",
    "import itertools as it\n",
    "\n",
    "import numpy as np\n",
    "import pickle\n",
    "from pathlib import Path\n",
    "from matplotlib import pyplot as plt"
   ],
   "metadata": {
    "collapsed": false,
    "pycharm": {
     "name": "#%%\n"
    }
   }
  },
  {
   "cell_type": "markdown",
   "source": [
    "# Graph"
   ],
   "metadata": {
    "collapsed": false,
    "pycharm": {
     "name": "#%% md\n"
    }
   }
  },
  {
   "cell_type": "code",
   "execution_count": 2,
   "outputs": [],
   "source": [
    "g = ig.Graph(directed=True)"
   ],
   "metadata": {
    "collapsed": false,
    "pycharm": {
     "name": "#%%\n"
    }
   }
  },
  {
   "cell_type": "code",
   "execution_count": 3,
   "outputs": [],
   "source": [
    "V_O = {f'RC{i+1}':i for i in range(3)}\n",
    "V_O_attr = {\n",
    "    'name': [e for e in V_O.keys()],\n",
    "    'x': [0,2,1],\n",
    "    'y': [0,0,1],\n",
    "    'color': ['red','purple','red'],\n",
    "    'type': 'res_node',\n",
    "}\n",
    "g.add_vertices(V_O.values(), V_O_attr)"
   ],
   "metadata": {
    "collapsed": false,
    "pycharm": {
     "name": "#%%\n"
    }
   }
  },
  {
   "cell_type": "code",
   "execution_count": 4,
   "outputs": [],
   "source": [
    "V_P = {f'PT{i+1}':e for i,e in enumerate(range(3,6))}\n",
    "V_P_attr = {\n",
    "    'name': [e for e in V_P.keys()],\n",
    "    'x': [0,2,1],\n",
    "    'y': [0,0,1],\n",
    "    'color': 'blue',\n",
    "    'type': 'pt_node',\n",
    "}\n",
    "g.add_vertices(V_P.values(), V_P_attr)"
   ],
   "metadata": {
    "collapsed": false,
    "pycharm": {
     "name": "#%%\n"
    }
   }
  },
  {
   "cell_type": "code",
   "execution_count": 5,
   "outputs": [],
   "source": [
    "V_D = {f'POI{i+1}':e for i,e in enumerate(range(6,9))}\n",
    "V_D_attr = {\n",
    "    'name': [e for e in V_D.keys()],\n",
    "    'x': [0,2,1],\n",
    "    'y': [0,0,1],\n",
    "    'color': 'green',\n",
    "    'type': 'poi_node',\n",
    "}\n",
    "g.add_vertices(V_D.values(), V_D_attr)"
   ],
   "metadata": {
    "collapsed": false,
    "pycharm": {
     "name": "#%%\n"
    }
   }
  },
  {
   "cell_type": "markdown",
   "source": [
    "## PTN Edges"
   ],
   "metadata": {
    "collapsed": false,
    "pycharm": {
     "name": "#%% md\n"
    }
   }
  },
  {
   "cell_type": "code",
   "execution_count": 6,
   "outputs": [],
   "source": [
    "# Speeds\n",
    "WALKING_SPEED = 5  # units per hour\n",
    "BUS_SPEED = 100  # units per hour\n",
    "TRAIN_SPEED = 1000  # units per hour"
   ],
   "metadata": {
    "collapsed": false,
    "pycharm": {
     "name": "#%%\n"
    }
   }
  },
  {
   "cell_type": "code",
   "execution_count": 7,
   "outputs": [],
   "source": [
    "def compute_dist_from_es(es: list):\n",
    "    positions = [(g.vs[e[0]]['x'], g.vs[e[0]]['y'], g.vs[e[1]]['x'], g.vs[e[1]]['y']) for e in es]\n",
    "    pos_arr = np.array(positions)\n",
    "    return np.sqrt((pos_arr[:,[0,2]].max(axis=1)-pos_arr[:,[0,2]].min(axis=1))**2+\n",
    "                   (pos_arr[:,[1,3]].max(axis=1)-pos_arr[:,[1,3]].min(axis=1))**2)"
   ],
   "metadata": {
    "collapsed": false,
    "pycharm": {
     "name": "#%%\n"
    }
   }
  },
  {
   "cell_type": "markdown",
   "source": [
    "### Walking"
   ],
   "metadata": {
    "collapsed": false,
    "pycharm": {
     "name": "#%% md\n"
    }
   }
  },
  {
   "cell_type": "code",
   "execution_count": 8,
   "outputs": [],
   "source": [
    "E_WALK = list(it.product(V_O.values(),V_P.values())) +\\\n",
    "         list(it.product(V_P.values(), V_D.values())) +\\\n",
    "         list(it.product(V_O.values(), V_D.values()))\n",
    "distances_walk = compute_dist_from_es(E_WALK)\n",
    "E_WALK_attr = {\n",
    "    'distance': distances_walk,\n",
    "    'tt': (distances_walk * 1/WALKING_SPEED) * 60,\n",
    "    'weight': (distances_walk * 1/WALKING_SPEED) * 60,\n",
    "    'color': 'gray',\n",
    "    'type': 'walk',\n",
    "}\n",
    "g.add_edges(E_WALK, E_WALK_attr)"
   ],
   "metadata": {
    "collapsed": false,
    "pycharm": {
     "name": "#%%\n"
    }
   }
  },
  {
   "cell_type": "markdown",
   "source": [
    "### PT"
   ],
   "metadata": {
    "collapsed": false,
    "pycharm": {
     "name": "#%% md\n"
    }
   }
  },
  {
   "cell_type": "code",
   "execution_count": 9,
   "outputs": [],
   "source": [
    "E_BUS = [\n",
    "    (V_P['PT1'],V_P['PT2']),  # Bus_line_1\n",
    "    (V_P['PT1'],V_P['PT3']),  # Bus_line_2\n",
    "    (V_P['PT3'],V_P['PT2']),  # Bus_line_3\n",
    "]\n",
    "distances_bus = compute_dist_from_es(E_BUS)\n",
    "E_BUS_attr = {\n",
    "    'name': ['Bus_line_1', 'Bus_line_2', 'Bus_line_3'],\n",
    "    'distance': distances_bus,\n",
    "    'tt': (distances_bus * 1/BUS_SPEED) * 60,\n",
    "    'weight': (distances_bus * 1/BUS_SPEED) * 60,\n",
    "    'color': ['blue','red','green'],\n",
    "    'type': 'bus'\n",
    "}\n",
    "g.add_edges(E_BUS, E_BUS_attr)"
   ],
   "metadata": {
    "collapsed": false,
    "pycharm": {
     "name": "#%%\n"
    }
   }
  },
  {
   "cell_type": "code",
   "execution_count": 10,
   "outputs": [
    {
     "data": {
      "text/plain": "array([2.        , 1.41421356, 1.41421356])"
     },
     "execution_count": 10,
     "metadata": {},
     "output_type": "execute_result"
    }
   ],
   "source": [
    "distances_bus"
   ],
   "metadata": {
    "collapsed": false,
    "pycharm": {
     "name": "#%%\n"
    }
   }
  },
  {
   "cell_type": "code",
   "execution_count": 11,
   "outputs": [
    {
     "data": {
      "text/plain": "<igraph.drawing.Plot at 0x7f5211909910>",
      "image/svg+xml": "<?xml version=\"1.0\" encoding=\"UTF-8\"?>\n<svg xmlns=\"http://www.w3.org/2000/svg\" xmlns:xlink=\"http://www.w3.org/1999/xlink\" width=\"600pt\" height=\"600pt\" viewBox=\"0 0 600 600\" version=\"1.1\">\n<g id=\"surface2\">\n<rect x=\"0\" y=\"0\" width=\"600\" height=\"600\" style=\"fill:rgb(100%,100%,100%);fill-opacity:1;stroke:none;\"/>\n<path style=\"fill:none;stroke-width:1;stroke-linecap:butt;stroke-linejoin:miter;stroke:rgb(0%,0%,100%);stroke-opacity:1;stroke-miterlimit:10;\" d=\"M 20 20 L 555.734375 20 \"/>\n<path style=\" stroke:none;fill-rule:nonzero;fill:rgb(0%,0%,100%);fill-opacity:1;\" d=\"M 570 20 L 555.734375 24.636719 L 555.734375 15.363281 L 570 20 \"/>\n<path style=\"fill:none;stroke-width:1;stroke-linecap:butt;stroke-linejoin:miter;stroke:rgb(100%,0%,0%);stroke-opacity:1;stroke-miterlimit:10;\" d=\"M 20 20 L 289.148438 558.296875 \"/>\n<path style=\" stroke:none;fill-rule:nonzero;fill:rgb(100%,0%,0%);fill-opacity:1;\" d=\"M 295.527344 571.054688 L 285.003906 560.367188 L 293.292969 556.222656 L 295.527344 571.054688 \"/>\n<path style=\"fill:none;stroke-width:1;stroke-linecap:butt;stroke-linejoin:miter;stroke:rgb(0%,100%,0%);stroke-opacity:1;stroke-miterlimit:10;\" d=\"M 300 580 L 569.148438 41.703125 \"/>\n<path style=\" stroke:none;fill-rule:nonzero;fill:rgb(0%,100%,0%);fill-opacity:1;\" d=\"M 575.527344 28.945312 L 573.292969 43.777344 L 565.003906 39.632812 L 575.527344 28.945312 \"/>\n<path style=\"fill-rule:nonzero;fill:rgb(0%,0%,100%);fill-opacity:1;stroke-width:1;stroke-linecap:butt;stroke-linejoin:miter;stroke:rgb(0%,0%,0%);stroke-opacity:1;stroke-miterlimit:10;\" d=\"M 30 20 C 30 25.523438 25.523438 30 20 30 C 14.476562 30 10 25.523438 10 20 C 10 14.476562 14.476562 10 20 10 C 25.523438 10 30 14.476562 30 20 \"/>\n<path style=\"fill-rule:nonzero;fill:rgb(0%,0%,100%);fill-opacity:1;stroke-width:1;stroke-linecap:butt;stroke-linejoin:miter;stroke:rgb(0%,0%,0%);stroke-opacity:1;stroke-miterlimit:10;\" d=\"M 590 20 C 590 25.523438 585.523438 30 580 30 C 574.476562 30 570 25.523438 570 20 C 570 14.476562 574.476562 10 580 10 C 585.523438 10 590 14.476562 590 20 \"/>\n<path style=\"fill-rule:nonzero;fill:rgb(0%,0%,100%);fill-opacity:1;stroke-width:1;stroke-linecap:butt;stroke-linejoin:miter;stroke:rgb(0%,0%,0%);stroke-opacity:1;stroke-miterlimit:10;\" d=\"M 310 580 C 310 585.523438 305.523438 590 300 590 C 294.476562 590 290 585.523438 290 580 C 290 574.476562 294.476562 570 300 570 C 305.523438 570 310 574.476562 310 580 \"/>\n</g>\n</svg>\n"
     },
     "execution_count": 11,
     "metadata": {
      "image/svg+xml": {
       "isolated": true
      }
     },
     "output_type": "execute_result"
    }
   ],
   "source": [
    "# fig, ax = plt.subplots(figsize=(5,5))\n",
    "ig.plot(g.subgraph_edges(g.es.select(type_ne='walk')))"
   ],
   "metadata": {
    "collapsed": false,
    "pycharm": {
     "name": "#%%\n"
    }
   }
  },
  {
   "cell_type": "code",
   "execution_count": 12,
   "outputs": [],
   "source": [
    "g.es['active'] = 1"
   ],
   "metadata": {
    "collapsed": false,
    "pycharm": {
     "name": "#%%\n"
    }
   }
  },
  {
   "cell_type": "code",
   "execution_count": 13,
   "outputs": [],
   "source": [
    "g.write_picklez('/home/rico/Documents/thesis/eda/notebooks/synthetic_dataset_4/graph.picklez')\n",
    "g.write_picklez('/home/rico/Documents/thesis/experiments/base_data/graph_4.picklez')"
   ],
   "metadata": {
    "collapsed": false,
    "pycharm": {
     "name": "#%%\n"
    }
   }
  },
  {
   "cell_type": "markdown",
   "source": [
    "# Reward Dict\n",
    "As we will be using this dataset with a custom reward, we will compile the reward dict here."
   ],
   "metadata": {
    "collapsed": false,
    "pycharm": {
     "name": "#%% md\n"
    }
   }
  },
  {
   "cell_type": "code",
   "execution_count": 14,
   "outputs": [
    {
     "name": "stdout",
     "output_type": "stream",
     "text": [
      "List of all possible configurations of the graph: [(), (27,), (28,), (29,), (27, 28), (27, 29), (28, 29), (27, 28, 29)]\n"
     ]
    }
   ],
   "source": [
    "edge_set = [e.index for e in g.es.select(type_ne='walk')]\n",
    "possible_configurations = []\n",
    "\n",
    "for i in range(len(edge_set)+1):\n",
    "    possible_configurations.extend(list(it.combinations(edge_set, i)))\n",
    "\n",
    "print(\"List of all possible configurations of the graph:\", possible_configurations)"
   ],
   "metadata": {
    "collapsed": false,
    "pycharm": {
     "name": "#%%\n"
    }
   }
  },
  {
   "cell_type": "code",
   "execution_count": 15,
   "outputs": [],
   "source": [
    "\n",
    "rewards = {\n",
    "    (): 100,\n",
    "    (27,): 0,          # blue\n",
    "    (28,): 30,         # red\n",
    "    (29,): 0,          # green\n",
    "    (27, 28): 20,      # blue, red\n",
    "    (27, 29): 45,      # blue, green\n",
    "    (28, 29): 30,      # red, green\n",
    "    (27, 28, 29): 30   # blue, red, green\n",
    "}"
   ],
   "metadata": {
    "collapsed": false,
    "pycharm": {
     "name": "#%%\n"
    }
   }
  },
  {
   "cell_type": "code",
   "execution_count": 16,
   "outputs": [],
   "source": [
    "pickle.dump(rewards, open(Path(\"/home/rico/Documents/thesis/eda/notebooks/synthetic_dataset_4/reward_dict.pkl\"), \"wb\"))\n",
    "pickle.dump(rewards, open(Path(\"/home/rico/Documents/thesis/experiments/base_data/reward_dict_4.pkl\"), \"wb\"))"
   ],
   "metadata": {
    "collapsed": false,
    "pycharm": {
     "name": "#%%\n"
    }
   }
  },
  {
   "cell_type": "code",
   "execution_count": null,
   "outputs": [],
   "source": [],
   "metadata": {
    "collapsed": false,
    "pycharm": {
     "name": "#%%\n"
    }
   }
  }
 ],
 "metadata": {
  "kernelspec": {
   "display_name": "Python 3",
   "language": "python",
   "name": "python3"
  },
  "language_info": {
   "codemirror_mode": {
    "name": "ipython",
    "version": 3
   },
   "file_extension": ".py",
   "mimetype": "text/x-python",
   "name": "python",
   "nbconvert_exporter": "python",
   "pygments_lexer": "ipython3",
   "version": "3.9.12"
  }
 },
 "nbformat": 4,
 "nbformat_minor": 4
}