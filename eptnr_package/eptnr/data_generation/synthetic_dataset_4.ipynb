{
 "cells": [
  {
   "cell_type": "code",
   "execution_count": 1,
   "outputs": [],
   "source": [
    "import igraph as ig\n",
    "import itertools as it\n",
    "import pickle\n",
    "from pathlib import Path\n",
    "\n",
    "from eptnr.data_generation.utils.synthetic_data_generation import (\n",
    "    graph_walking_edges_generation,\n",
    "    set_eptnr_vertices,\n",
    "    graph_edge_entry,\n",
    ")\n",
    "from eptnr.data_generation.utils.eptnr_vertex import EPTNRVertex\n",
    "from eptnr.constants.igraph_edge_types import IGraphEdgeTypes\n",
    "from eptnr.constants.igraph_vertex_types import IGraphVertexTypes\n",
    "from eptnr.constants.igraph_colors import IGraphColors\n",
    "from eptnr.data_generation.utils.synthetic_speeds import SyntheticTravelSpeeds"
   ],
   "metadata": {
    "collapsed": false,
    "pycharm": {
     "name": "#%%\n"
    }
   }
  },
  {
   "cell_type": "markdown",
   "source": [
    "# Graph"
   ],
   "metadata": {
    "collapsed": false,
    "pycharm": {
     "name": "#%% md\n"
    }
   }
  },
  {
   "cell_type": "code",
   "execution_count": 2,
   "outputs": [],
   "source": [
    "g = ig.Graph(directed=True)"
   ],
   "metadata": {
    "collapsed": false,
    "pycharm": {
     "name": "#%%\n"
    }
   }
  },
  {
   "cell_type": "code",
   "execution_count": 3,
   "outputs": [],
   "source": [
    "rc_vertices = [\n",
    "    # Residential Centers\n",
    "    EPTNRVertex(0, 0, IGraphColors.PURPLE, IGraphVertexTypes.RC_NODE),\n",
    "    EPTNRVertex(2, 0, IGraphColors.RED, IGraphVertexTypes.RC_NODE),\n",
    "    EPTNRVertex(1, 1, IGraphColors.RED, IGraphVertexTypes.RC_NODE),\n",
    "]\n",
    "pt_vertices = [\n",
    "    # Public Transport Nodes\n",
    "    EPTNRVertex(0, 0, IGraphColors.RED, IGraphVertexTypes.PT_NODE),\n",
    "    EPTNRVertex(2, 0, IGraphColors.BLUE, IGraphVertexTypes.PT_NODE),\n",
    "    EPTNRVertex(1, 1, IGraphColors.GREEN, IGraphVertexTypes.PT_NODE),\n",
    "]\n",
    "poi_vertices = [\n",
    "    # Point of Interest Nodes\n",
    "    EPTNRVertex(0, 0, IGraphColors.GREEN, IGraphVertexTypes.POI_NODE),\n",
    "    EPTNRVertex(2, 0, IGraphColors.GREEN, IGraphVertexTypes.POI_NODE),\n",
    "    EPTNRVertex(1, 1, IGraphColors.GREEN, IGraphVertexTypes.POI_NODE),\n",
    "]\n",
    "vertices = rc_vertices + pt_vertices + poi_vertices\n",
    "\n",
    "set_eptnr_vertices(graph=g, vertices=vertices)\n"
   ],
   "metadata": {
    "collapsed": false,
    "pycharm": {
     "name": "#%%\n"
    }
   }
  },
  {
   "cell_type": "markdown",
   "source": [
    "## PTN Edges"
   ],
   "metadata": {
    "collapsed": false,
    "pycharm": {
     "name": "#%% md\n"
    }
   }
  },
  {
   "cell_type": "markdown",
   "source": [
    "### Walking"
   ],
   "metadata": {
    "collapsed": false,
    "pycharm": {
     "name": "#%% md\n"
    }
   }
  },
  {
   "cell_type": "code",
   "execution_count": 4,
   "outputs": [],
   "source": [
    "graph_walking_edges_generation(graph=g, vertices=vertices)\n"
   ],
   "metadata": {
    "collapsed": false,
    "pycharm": {
     "name": "#%%\n"
    }
   }
  },
  {
   "cell_type": "markdown",
   "source": [
    "### PT"
   ],
   "metadata": {
    "collapsed": false,
    "pycharm": {
     "name": "#%% md\n"
    }
   }
  },
  {
   "cell_type": "code",
   "execution_count": 5,
   "outputs": [],
   "source": [
    "E_BUS = [\n",
    "    (pt_vertices[0], pt_vertices[1]),  # Bus_line_1\n",
    "    (pt_vertices[0], pt_vertices[2]),  # Bus_line_2\n",
    "    (pt_vertices[2], pt_vertices[1]),  # Bus_line_3\n",
    "]\n",
    "\n",
    "names = ['Bus_line_1', 'Bus_line_2', 'Bus_line_3']\n",
    "\n",
    "graph_edge_entry(\n",
    "    graph=g,\n",
    "    edges=E_BUS,\n",
    "    names=names,\n",
    "    speed=SyntheticTravelSpeeds.BUS_SPEED,\n",
    "    edge_type=IGraphEdgeTypes.BUS,\n",
    "    color=IGraphColors.PINK,\n",
    "    round_to_decimals=2,\n",
    ")\n"
   ],
   "metadata": {
    "collapsed": false,
    "pycharm": {
     "name": "#%%\n"
    }
   }
  },
  {
   "cell_type": "code",
   "execution_count": 6,
   "outputs": [],
   "source": [
    "g.es['active'] = 1"
   ],
   "metadata": {
    "collapsed": false,
    "pycharm": {
     "name": "#%%\n"
    }
   }
  },
  {
   "cell_type": "code",
   "execution_count": 7,
   "outputs": [
    {
     "data": {
      "text/plain": "<igraph.drawing.Plot at 0x7f49654ca190>",
      "image/svg+xml": "<?xml version=\"1.0\" encoding=\"UTF-8\"?>\n<svg xmlns=\"http://www.w3.org/2000/svg\" xmlns:xlink=\"http://www.w3.org/1999/xlink\" width=\"600pt\" height=\"600pt\" viewBox=\"0 0 600 600\" version=\"1.1\">\n<g id=\"surface2\">\n<rect x=\"0\" y=\"0\" width=\"600\" height=\"600\" style=\"fill:rgb(100%,100%,100%);fill-opacity:1;stroke:none;\"/>\n<path style=\"fill:none;stroke-width:1;stroke-linecap:butt;stroke-linejoin:miter;stroke:rgb(100%,75.294118%,79.607843%);stroke-opacity:1;stroke-miterlimit:10;\" d=\"M 20 20 L 555.734375 20 \"/>\n<path style=\" stroke:none;fill-rule:nonzero;fill:rgb(100%,75.294118%,79.607843%);fill-opacity:1;\" d=\"M 570 20 L 555.734375 24.636719 L 555.734375 15.363281 L 570 20 \"/>\n<path style=\"fill:none;stroke-width:1;stroke-linecap:butt;stroke-linejoin:miter;stroke:rgb(100%,75.294118%,79.607843%);stroke-opacity:1;stroke-miterlimit:10;\" d=\"M 20 20 L 289.148438 558.296875 \"/>\n<path style=\" stroke:none;fill-rule:nonzero;fill:rgb(100%,75.294118%,79.607843%);fill-opacity:1;\" d=\"M 295.527344 571.054688 L 285.003906 560.367188 L 293.292969 556.222656 L 295.527344 571.054688 \"/>\n<path style=\"fill:none;stroke-width:1;stroke-linecap:butt;stroke-linejoin:miter;stroke:rgb(100%,75.294118%,79.607843%);stroke-opacity:1;stroke-miterlimit:10;\" d=\"M 300 580 L 569.148438 41.703125 \"/>\n<path style=\" stroke:none;fill-rule:nonzero;fill:rgb(100%,75.294118%,79.607843%);fill-opacity:1;\" d=\"M 575.527344 28.945312 L 573.292969 43.777344 L 565.003906 39.632812 L 575.527344 28.945312 \"/>\n<path style=\"fill-rule:nonzero;fill:rgb(100%,0%,0%);fill-opacity:1;stroke-width:1;stroke-linecap:butt;stroke-linejoin:miter;stroke:rgb(0%,0%,0%);stroke-opacity:1;stroke-miterlimit:10;\" d=\"M 30 20 C 30 25.523438 25.523438 30 20 30 C 14.476562 30 10 25.523438 10 20 C 10 14.476562 14.476562 10 20 10 C 25.523438 10 30 14.476562 30 20 \"/>\n<path style=\"fill-rule:nonzero;fill:rgb(0%,0%,100%);fill-opacity:1;stroke-width:1;stroke-linecap:butt;stroke-linejoin:miter;stroke:rgb(0%,0%,0%);stroke-opacity:1;stroke-miterlimit:10;\" d=\"M 590 20 C 590 25.523438 585.523438 30 580 30 C 574.476562 30 570 25.523438 570 20 C 570 14.476562 574.476562 10 580 10 C 585.523438 10 590 14.476562 590 20 \"/>\n<path style=\"fill-rule:nonzero;fill:rgb(0%,100%,0%);fill-opacity:1;stroke-width:1;stroke-linecap:butt;stroke-linejoin:miter;stroke:rgb(0%,0%,0%);stroke-opacity:1;stroke-miterlimit:10;\" d=\"M 310 580 C 310 585.523438 305.523438 590 300 590 C 294.476562 590 290 585.523438 290 580 C 290 574.476562 294.476562 570 300 570 C 305.523438 570 310 574.476562 310 580 \"/>\n</g>\n</svg>\n"
     },
     "execution_count": 7,
     "metadata": {
      "image/svg+xml": {
       "isolated": true
      }
     },
     "output_type": "execute_result"
    }
   ],
   "source": [
    "# fig, ax = plt.subplots(figsize=(5,5))\n",
    "ig.plot(g.subgraph_edges(g.es.select(type_ne='walk')))"
   ],
   "metadata": {
    "collapsed": false,
    "pycharm": {
     "name": "#%%\n"
    }
   }
  },
  {
   "cell_type": "code",
   "execution_count": 8,
   "outputs": [],
   "source": [
    "g.write_picklez('../datasets/synthetic_4/graph.picklez')"
   ],
   "metadata": {
    "collapsed": false,
    "pycharm": {
     "name": "#%%\n"
    }
   }
  },
  {
   "cell_type": "markdown",
   "source": [
    "# Reward Dict\n",
    "As we will be using this dataset with a custom reward, we will compile the reward dict here."
   ],
   "metadata": {
    "collapsed": false,
    "pycharm": {
     "name": "#%% md\n"
    }
   }
  },
  {
   "cell_type": "code",
   "execution_count": 9,
   "outputs": [
    {
     "name": "stdout",
     "output_type": "stream",
     "text": [
      "List of all possible configurations of the graph: [(), (27,), (28,), (29,), (27, 28), (27, 29), (28, 29), (27, 28, 29)]\n"
     ]
    }
   ],
   "source": [
    "edge_set = [e.index for e in g.es.select(type_ne='walk')]\n",
    "possible_configurations = []\n",
    "\n",
    "for i in range(len(edge_set)+1):\n",
    "    possible_configurations.extend(list(it.combinations(edge_set, i)))\n",
    "\n",
    "print(\"List of all possible configurations of the graph:\", possible_configurations)"
   ],
   "metadata": {
    "collapsed": false,
    "pycharm": {
     "name": "#%%\n"
    }
   }
  },
  {
   "cell_type": "code",
   "execution_count": 10,
   "outputs": [],
   "source": [
    "\n",
    "rewards = {\n",
    "    (): 100,\n",
    "    (27,): 0,          # blue\n",
    "    (28,): 30,         # red\n",
    "    (29,): 0,          # green\n",
    "    (27, 28): 20,      # blue, red\n",
    "    (27, 29): 45,      # blue, green\n",
    "    (28, 29): 30,      # red, green\n",
    "    (27, 28, 29): 30   # blue, red, green\n",
    "}"
   ],
   "metadata": {
    "collapsed": false,
    "pycharm": {
     "name": "#%%\n"
    }
   }
  },
  {
   "cell_type": "code",
   "execution_count": 11,
   "outputs": [],
   "source": [
    "pickle.dump(rewards, open(Path(\"../datasets/synthetic_4/reward_dict.pkl\"), \"wb\"))"
   ],
   "metadata": {
    "collapsed": false,
    "pycharm": {
     "name": "#%%\n"
    }
   }
  },
  {
   "cell_type": "code",
   "execution_count": 11,
   "outputs": [],
   "source": [],
   "metadata": {
    "collapsed": false,
    "pycharm": {
     "name": "#%%\n"
    }
   }
  }
 ],
 "metadata": {
  "kernelspec": {
   "display_name": "Python 3",
   "language": "python",
   "name": "python3"
  },
  "language_info": {
   "codemirror_mode": {
    "name": "ipython",
    "version": 3
   },
   "file_extension": ".py",
   "mimetype": "text/x-python",
   "name": "python",
   "nbconvert_exporter": "python",
   "pygments_lexer": "ipython3",
   "version": "3.9.12"
  }
 },
 "nbformat": 4,
 "nbformat_minor": 4
}