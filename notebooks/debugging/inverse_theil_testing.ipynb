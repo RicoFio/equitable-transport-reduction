{
 "cells": [
  {
   "cell_type": "code",
   "execution_count": 1,
   "outputs": [],
   "source": [
    "from eptnr.rewards.egalitarian import EgalitarianTheilReward, BaseReward\n",
    "from eptnr.constants.travel_metric import TravelMetric\n",
    "\n",
    "from eptnr.analysis.full_problem_exploration import full_problem_exploration\n",
    "from eptnr.plotting.solution_plotting import plot_full_problem_exploration\n",
    "from inequality.theil import TheilD\n",
    "import igraph as ig\n",
    "import numpy as np"
   ],
   "metadata": {
    "collapsed": false,
    "pycharm": {
     "name": "#%%\n"
    }
   }
  },
  {
   "cell_type": "code",
   "execution_count": 2,
   "outputs": [],
   "source": [
    "class InverseTheilReward(BaseReward):\n",
    "    def _evaluate(self, g: ig.Graph, *args, **kwargs) -> float:\n",
    "        \"\"\"\n",
    "\n",
    "        Args:\n",
    "            g:\n",
    "\n",
    "        Returns:\n",
    "\n",
    "        \"\"\"\n",
    "        metrics_dfs = self.retrieve_dfs(g)\n",
    "\n",
    "        theil_inequality = {metric: None for metric in self.metrics_names}\n",
    "\n",
    "        for metric, metric_df in metrics_dfs.items():\n",
    "            X = metric_df.drop(columns='group').astype(float).to_numpy()\n",
    "            Y = metric_df.group.to_numpy()\n",
    "            theil_t = TheilD(X, Y).T[0] if X.sum() > 0 else 0.0\n",
    "            theil_inequality[metric] = theil_t\n",
    "\n",
    "        return sum(theil_inequality.values())\n",
    "\n",
    "    def _reward_scaling(self, reward: float) -> float:\n",
    "        return np.log(len(self.census_data)) - reward"
   ],
   "metadata": {
    "collapsed": false,
    "pycharm": {
     "name": "#%%\n"
    }
   }
  },
  {
   "cell_type": "code",
   "execution_count": null,
   "outputs": [],
   "source": [],
   "metadata": {
    "collapsed": false,
    "pycharm": {
     "name": "#%%\n"
    }
   }
  }
 ],
 "metadata": {
  "kernelspec": {
   "display_name": "Python 3",
   "language": "python",
   "name": "python3"
  },
  "language_info": {
   "codemirror_mode": {
    "name": "ipython",
    "version": 2
   },
   "file_extension": ".py",
   "mimetype": "text/x-python",
   "name": "python",
   "nbconvert_exporter": "python",
   "pygments_lexer": "ipython2",
   "version": "2.7.6"
  }
 },
 "nbformat": 4,
 "nbformat_minor": 0
}