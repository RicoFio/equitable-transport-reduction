{
 "cells": [
  {
   "cell_type": "code",
   "execution_count": 10,
   "metadata": {
    "collapsed": false,
    "jupyter": {
     "outputs_hidden": false
    },
    "pycharm": {
     "name": "#%%\n"
    }
   },
   "outputs": [],
   "source": [
    "import igraph as ig\n",
    "import geopandas as gpd\n",
    "import itertools as it\n",
    "\n",
    "from eptnr.data_generation.utils.synthetic_data_generation import (\n",
    "    graph_walking_edges_generation,\n",
    "    set_eptnr_vertices,\n",
    "    graph_edge_entry,\n",
    "    add_cost_per_unit,\n",
    ")\n",
    "from eptnr.data_generation.utils.eptnr_vertex import EPTNRVertex\n",
    "from eptnr.constants.igraph_edge_types import IGraphEdgeTypes\n",
    "from eptnr.constants.igraph_vertex_types import IGraphVertexTypes\n",
    "from eptnr.constants.igraph_colors import IGraphColors\n",
    "from eptnr.data_generation.utils.synthetic_speeds import SyntheticTravelSpeeds"
   ]
  },
  {
   "cell_type": "markdown",
   "source": [
    "# Graph"
   ],
   "metadata": {
    "collapsed": false,
    "pycharm": {
     "name": "#%% md\n"
    }
   }
  },
  {
   "cell_type": "code",
   "execution_count": 11,
   "outputs": [],
   "source": [
    "g = ig.Graph(directed=True)"
   ],
   "metadata": {
    "collapsed": false,
    "pycharm": {
     "name": "#%%\n"
    }
   }
  },
  {
   "cell_type": "code",
   "execution_count": 12,
   "outputs": [],
   "source": [
    "vertices = [\n",
    "    # Residential Centers\n",
    "    EPTNRVertex(0, 0, IGraphColors.RED, IGraphVertexTypes.RC_NODE),\n",
    "    EPTNRVertex(3, 0, IGraphColors.RED, IGraphVertexTypes.RC_NODE),\n",
    "    EPTNRVertex(3, 3, IGraphColors.RED, IGraphVertexTypes.RC_NODE),\n",
    "    EPTNRVertex(0, 3, IGraphColors.RED, IGraphVertexTypes.RC_NODE),\n",
    "\n",
    "    # Public Transport Nodes\n",
    "    EPTNRVertex(0.2, 0.2, IGraphColors.BLUE, IGraphVertexTypes.PT_NODE),\n",
    "    EPTNRVertex(2.8, 0.2, IGraphColors.BLUE, IGraphVertexTypes.PT_NODE),\n",
    "    EPTNRVertex(2.8, 2.8, IGraphColors.BLUE, IGraphVertexTypes.PT_NODE),\n",
    "    EPTNRVertex(0.2, 2.8, IGraphColors.BLUE, IGraphVertexTypes.PT_NODE),\n",
    "\n",
    "    # Point of Interest Nodes\n",
    "    EPTNRVertex(0.3, 0.3, IGraphColors.GREEN, IGraphVertexTypes.POI_NODE),\n",
    "    EPTNRVertex(2.7, 0.3, IGraphColors.GREEN, IGraphVertexTypes.POI_NODE),\n",
    "    EPTNRVertex(2.7, 2.7, IGraphColors.GREEN, IGraphVertexTypes.POI_NODE),\n",
    "    EPTNRVertex(0.3, 2.7, IGraphColors.GREEN, IGraphVertexTypes.POI_NODE),\n",
    "]\n",
    "set_eptnr_vertices(graph=g, vertices=vertices)\n"
   ],
   "metadata": {
    "collapsed": false,
    "pycharm": {
     "name": "#%%\n"
    }
   }
  },
  {
   "cell_type": "markdown",
   "source": [
    "## PTN Edges"
   ],
   "metadata": {
    "collapsed": false,
    "pycharm": {
     "name": "#%% md\n"
    }
   }
  },
  {
   "cell_type": "markdown",
   "source": [
    "### Walking"
   ],
   "metadata": {
    "collapsed": false,
    "pycharm": {
     "name": "#%% md\n"
    }
   }
  },
  {
   "cell_type": "code",
   "execution_count": 13,
   "outputs": [],
   "source": [
    "graph_walking_edges_generation(graph=g, vertices=vertices)\n"
   ],
   "metadata": {
    "collapsed": false,
    "pycharm": {
     "name": "#%%\n"
    }
   }
  },
  {
   "cell_type": "markdown",
   "source": [
    "### PT"
   ],
   "metadata": {
    "collapsed": false,
    "pycharm": {
     "name": "#%% md\n"
    }
   }
  },
  {
   "cell_type": "code",
   "execution_count": 14,
   "outputs": [],
   "source": [
    "E_RAIL = [\n",
    "    (vertices[4],vertices[5]),  # Train_line_1\n",
    "    (vertices[5],vertices[6]),  # Train_line_1\n",
    "    (vertices[7],vertices[6]),  # Train_line_2,\n",
    "    (vertices[7],vertices[4]),  # Train_line_2\n",
    "]\n",
    "names = list(it.repeat(f'Train_line_1',2)) + list(it.repeat(f'Train_line_2',2))\n",
    "\n",
    "graph_edge_entry(\n",
    "    graph=g,\n",
    "    edges=E_RAIL,\n",
    "    names=names,\n",
    "    speed=SyntheticTravelSpeeds.RAIL_SPEED,\n",
    "    edge_type=IGraphEdgeTypes.RAIL,\n",
    "    color=IGraphColors.PINK,\n",
    "    round_to_decimals=2,\n",
    ")\n"
   ],
   "metadata": {
    "collapsed": false,
    "pycharm": {
     "name": "#%%\n"
    }
   }
  },
  {
   "cell_type": "code",
   "execution_count": 15,
   "outputs": [],
   "source": [
    "g.es['active'] = 1"
   ],
   "metadata": {
    "collapsed": false,
    "pycharm": {
     "name": "#%%\n"
    }
   }
  },
  {
   "cell_type": "code",
   "execution_count": 16,
   "outputs": [
    {
     "data": {
      "text/plain": "<igraph.drawing.Plot at 0x7fc66de8c7f0>",
      "image/svg+xml": "<?xml version=\"1.0\" encoding=\"UTF-8\"?>\n<svg xmlns=\"http://www.w3.org/2000/svg\" xmlns:xlink=\"http://www.w3.org/1999/xlink\" width=\"600pt\" height=\"600pt\" viewBox=\"0 0 600 600\" version=\"1.1\">\n<g id=\"surface8\">\n<rect x=\"0\" y=\"0\" width=\"600\" height=\"600\" style=\"fill:rgb(100%,100%,100%);fill-opacity:1;stroke:none;\"/>\n<path style=\"fill:none;stroke-width:1;stroke-linecap:butt;stroke-linejoin:miter;stroke:rgb(74.509804%,74.509804%,74.509804%);stroke-opacity:1;stroke-miterlimit:10;\" d=\"M 20 20 L 40.175781 40.175781 \"/>\n<path style=\" stroke:none;fill-rule:nonzero;fill:rgb(74.509804%,74.509804%,74.509804%);fill-opacity:1;\" d=\"M 50.261719 50.261719 L 36.898438 43.453125 L 43.453125 36.898438 L 50.261719 50.261719 \"/>\n<path style=\"fill:none;stroke-width:1;stroke-linecap:butt;stroke-linejoin:miter;stroke:rgb(74.509804%,74.509804%,74.509804%);stroke-opacity:1;stroke-miterlimit:10;\" d=\"M 20 20 L 518.460938 55.605469 \"/>\n<path style=\" stroke:none;fill-rule:nonzero;fill:rgb(74.509804%,74.509804%,74.509804%);fill-opacity:1;\" d=\"M 532.691406 56.621094 L 518.132812 60.226562 L 518.792969 50.980469 L 532.691406 56.621094 \"/>\n<path style=\"fill:none;stroke-width:1;stroke-linecap:butt;stroke-linejoin:miter;stroke:rgb(74.509804%,74.509804%,74.509804%);stroke-opacity:1;stroke-miterlimit:10;\" d=\"M 20 20 L 525.507812 525.507812 \"/>\n<path style=\" stroke:none;fill-rule:nonzero;fill:rgb(74.509804%,74.509804%,74.509804%);fill-opacity:1;\" d=\"M 535.59375 535.59375 L 522.230469 528.785156 L 528.785156 522.230469 L 535.59375 535.59375 \"/>\n<path style=\"fill:none;stroke-width:1;stroke-linecap:butt;stroke-linejoin:miter;stroke:rgb(74.509804%,74.509804%,74.509804%);stroke-opacity:1;stroke-miterlimit:10;\" d=\"M 20 20 L 55.605469 518.460938 \"/>\n<path style=\" stroke:none;fill-rule:nonzero;fill:rgb(74.509804%,74.509804%,74.509804%);fill-opacity:1;\" d=\"M 56.621094 532.691406 L 50.980469 518.792969 L 60.226562 518.132812 L 56.621094 532.691406 \"/>\n<path style=\"fill:none;stroke-width:1;stroke-linecap:butt;stroke-linejoin:miter;stroke:rgb(74.509804%,74.509804%,74.509804%);stroke-opacity:1;stroke-miterlimit:10;\" d=\"M 580 20 L 81.539062 55.605469 \"/>\n<path style=\" stroke:none;fill-rule:nonzero;fill:rgb(74.509804%,74.509804%,74.509804%);fill-opacity:1;\" d=\"M 67.308594 56.621094 L 81.207031 50.980469 L 81.867188 60.226562 L 67.308594 56.621094 \"/>\n<path style=\"fill:none;stroke-width:1;stroke-linecap:butt;stroke-linejoin:miter;stroke:rgb(74.509804%,74.509804%,74.509804%);stroke-opacity:1;stroke-miterlimit:10;\" d=\"M 580 20 L 559.824219 40.175781 \"/>\n<path style=\" stroke:none;fill-rule:nonzero;fill:rgb(74.509804%,74.509804%,74.509804%);fill-opacity:1;\" d=\"M 549.738281 50.261719 L 556.546875 36.898438 L 563.101562 43.453125 L 549.738281 50.261719 \"/>\n<path style=\"fill:none;stroke-width:1;stroke-linecap:butt;stroke-linejoin:miter;stroke:rgb(74.509804%,74.509804%,74.509804%);stroke-opacity:1;stroke-miterlimit:10;\" d=\"M 580 20 L 544.394531 518.460938 \"/>\n<path style=\" stroke:none;fill-rule:nonzero;fill:rgb(74.509804%,74.509804%,74.509804%);fill-opacity:1;\" d=\"M 543.378906 532.691406 L 539.773438 518.132812 L 549.019531 518.792969 L 543.378906 532.691406 \"/>\n<path style=\"fill:none;stroke-width:1;stroke-linecap:butt;stroke-linejoin:miter;stroke:rgb(74.509804%,74.509804%,74.509804%);stroke-opacity:1;stroke-miterlimit:10;\" d=\"M 580 20 L 74.492188 525.507812 \"/>\n<path style=\" stroke:none;fill-rule:nonzero;fill:rgb(74.509804%,74.509804%,74.509804%);fill-opacity:1;\" d=\"M 64.40625 535.59375 L 71.214844 522.230469 L 77.769531 528.785156 L 64.40625 535.59375 \"/>\n<path style=\"fill:none;stroke-width:1;stroke-linecap:butt;stroke-linejoin:miter;stroke:rgb(74.509804%,74.509804%,74.509804%);stroke-opacity:1;stroke-miterlimit:10;\" d=\"M 580 580 L 74.492188 74.492188 \"/>\n<path style=\" stroke:none;fill-rule:nonzero;fill:rgb(74.509804%,74.509804%,74.509804%);fill-opacity:1;\" d=\"M 64.40625 64.40625 L 77.769531 71.214844 L 71.214844 77.769531 L 64.40625 64.40625 \"/>\n<path style=\"fill:none;stroke-width:1;stroke-linecap:butt;stroke-linejoin:miter;stroke:rgb(74.509804%,74.509804%,74.509804%);stroke-opacity:1;stroke-miterlimit:10;\" d=\"M 580 580 L 544.394531 81.539062 \"/>\n<path style=\" stroke:none;fill-rule:nonzero;fill:rgb(74.509804%,74.509804%,74.509804%);fill-opacity:1;\" d=\"M 543.378906 67.308594 L 549.019531 81.207031 L 539.773438 81.867188 L 543.378906 67.308594 \"/>\n<path style=\"fill:none;stroke-width:1;stroke-linecap:butt;stroke-linejoin:miter;stroke:rgb(74.509804%,74.509804%,74.509804%);stroke-opacity:1;stroke-miterlimit:10;\" d=\"M 580 580 L 559.824219 559.824219 \"/>\n<path style=\" stroke:none;fill-rule:nonzero;fill:rgb(74.509804%,74.509804%,74.509804%);fill-opacity:1;\" d=\"M 549.738281 549.738281 L 563.101562 556.546875 L 556.546875 563.101562 L 549.738281 549.738281 \"/>\n<path style=\"fill:none;stroke-width:1;stroke-linecap:butt;stroke-linejoin:miter;stroke:rgb(74.509804%,74.509804%,74.509804%);stroke-opacity:1;stroke-miterlimit:10;\" d=\"M 580 580 L 81.539062 544.394531 \"/>\n<path style=\" stroke:none;fill-rule:nonzero;fill:rgb(74.509804%,74.509804%,74.509804%);fill-opacity:1;\" d=\"M 67.308594 543.378906 L 81.867188 539.773438 L 81.207031 549.019531 L 67.308594 543.378906 \"/>\n<path style=\"fill:none;stroke-width:1;stroke-linecap:butt;stroke-linejoin:miter;stroke:rgb(74.509804%,74.509804%,74.509804%);stroke-opacity:1;stroke-miterlimit:10;\" d=\"M 20 580 L 55.605469 81.539062 \"/>\n<path style=\" stroke:none;fill-rule:nonzero;fill:rgb(74.509804%,74.509804%,74.509804%);fill-opacity:1;\" d=\"M 56.621094 67.308594 L 60.226562 81.867188 L 50.980469 81.207031 L 56.621094 67.308594 \"/>\n<path style=\"fill:none;stroke-width:1;stroke-linecap:butt;stroke-linejoin:miter;stroke:rgb(74.509804%,74.509804%,74.509804%);stroke-opacity:1;stroke-miterlimit:10;\" d=\"M 20 580 L 525.507812 74.492188 \"/>\n<path style=\" stroke:none;fill-rule:nonzero;fill:rgb(74.509804%,74.509804%,74.509804%);fill-opacity:1;\" d=\"M 535.59375 64.40625 L 528.785156 77.769531 L 522.230469 71.214844 L 535.59375 64.40625 \"/>\n<path style=\"fill:none;stroke-width:1;stroke-linecap:butt;stroke-linejoin:miter;stroke:rgb(74.509804%,74.509804%,74.509804%);stroke-opacity:1;stroke-miterlimit:10;\" d=\"M 20 580 L 518.460938 544.394531 \"/>\n<path style=\" stroke:none;fill-rule:nonzero;fill:rgb(74.509804%,74.509804%,74.509804%);fill-opacity:1;\" d=\"M 532.691406 543.378906 L 518.792969 549.019531 L 518.132812 539.773438 L 532.691406 543.378906 \"/>\n<path style=\"fill:none;stroke-width:1;stroke-linecap:butt;stroke-linejoin:miter;stroke:rgb(74.509804%,74.509804%,74.509804%);stroke-opacity:1;stroke-miterlimit:10;\" d=\"M 20 580 L 40.175781 559.824219 \"/>\n<path style=\" stroke:none;fill-rule:nonzero;fill:rgb(74.509804%,74.509804%,74.509804%);fill-opacity:1;\" d=\"M 50.261719 549.738281 L 43.453125 563.101562 L 36.898438 556.546875 L 50.261719 549.738281 \"/>\n<path style=\"fill:none;stroke-width:1;stroke-linecap:butt;stroke-linejoin:miter;stroke:rgb(74.509804%,74.509804%,74.509804%);stroke-opacity:1;stroke-miterlimit:10;\" d=\"M 57.332031 57.332031 L 58.839844 58.839844 \"/>\n<path style=\" stroke:none;fill-rule:nonzero;fill:rgb(74.509804%,74.509804%,74.509804%);fill-opacity:1;\" d=\"M 68.929688 68.929688 L 55.5625 62.117188 L 62.117188 55.5625 L 68.929688 68.929688 \"/>\n<path style=\"fill:none;stroke-width:1;stroke-linecap:butt;stroke-linejoin:miter;stroke:rgb(74.509804%,74.509804%,74.509804%);stroke-opacity:1;stroke-miterlimit:10;\" d=\"M 57.332031 57.332031 L 499.753906 75.03125 \"/>\n<path style=\" stroke:none;fill-rule:nonzero;fill:rgb(74.509804%,74.509804%,74.509804%);fill-opacity:1;\" d=\"M 514.007812 75.601562 L 499.566406 79.660156 L 499.9375 70.398438 L 514.007812 75.601562 \"/>\n<path style=\"fill:none;stroke-width:1;stroke-linecap:butt;stroke-linejoin:miter;stroke:rgb(74.509804%,74.509804%,74.509804%);stroke-opacity:1;stroke-miterlimit:10;\" d=\"M 57.332031 57.332031 L 506.839844 506.839844 \"/>\n<path style=\" stroke:none;fill-rule:nonzero;fill:rgb(74.509804%,74.509804%,74.509804%);fill-opacity:1;\" d=\"M 516.929688 516.929688 L 503.5625 510.117188 L 510.117188 503.5625 L 516.929688 516.929688 \"/>\n<path style=\"fill:none;stroke-width:1;stroke-linecap:butt;stroke-linejoin:miter;stroke:rgb(74.509804%,74.509804%,74.509804%);stroke-opacity:1;stroke-miterlimit:10;\" d=\"M 57.332031 57.332031 L 75.03125 499.753906 \"/>\n<path style=\" stroke:none;fill-rule:nonzero;fill:rgb(74.509804%,74.509804%,74.509804%);fill-opacity:1;\" d=\"M 75.601562 514.007812 L 70.398438 499.9375 L 79.660156 499.566406 L 75.601562 514.007812 \"/>\n<path style=\"fill:none;stroke-width:1;stroke-linecap:butt;stroke-linejoin:miter;stroke:rgb(74.509804%,74.509804%,74.509804%);stroke-opacity:1;stroke-miterlimit:10;\" d=\"M 542.667969 57.332031 L 100.246094 75.03125 \"/>\n<path style=\" stroke:none;fill-rule:nonzero;fill:rgb(74.509804%,74.509804%,74.509804%);fill-opacity:1;\" d=\"M 85.992188 75.601562 L 100.0625 70.398438 L 100.433594 79.660156 L 85.992188 75.601562 \"/>\n<path style=\"fill:none;stroke-width:1;stroke-linecap:butt;stroke-linejoin:miter;stroke:rgb(74.509804%,74.509804%,74.509804%);stroke-opacity:1;stroke-miterlimit:10;\" d=\"M 542.667969 57.332031 L 541.160156 58.839844 \"/>\n<path style=\" stroke:none;fill-rule:nonzero;fill:rgb(74.509804%,74.509804%,74.509804%);fill-opacity:1;\" d=\"M 531.070312 68.929688 L 537.882812 55.5625 L 544.4375 62.117188 L 531.070312 68.929688 \"/>\n<path style=\"fill:none;stroke-width:1;stroke-linecap:butt;stroke-linejoin:miter;stroke:rgb(74.509804%,74.509804%,74.509804%);stroke-opacity:1;stroke-miterlimit:10;\" d=\"M 542.667969 57.332031 L 524.96875 499.753906 \"/>\n<path style=\" stroke:none;fill-rule:nonzero;fill:rgb(74.509804%,74.509804%,74.509804%);fill-opacity:1;\" d=\"M 524.398438 514.007812 L 520.339844 499.566406 L 529.601562 499.9375 L 524.398438 514.007812 \"/>\n<path style=\"fill:none;stroke-width:1;stroke-linecap:butt;stroke-linejoin:miter;stroke:rgb(74.509804%,74.509804%,74.509804%);stroke-opacity:1;stroke-miterlimit:10;\" d=\"M 542.667969 57.332031 L 93.160156 506.839844 \"/>\n<path style=\" stroke:none;fill-rule:nonzero;fill:rgb(74.509804%,74.509804%,74.509804%);fill-opacity:1;\" d=\"M 83.070312 516.929688 L 89.882812 503.5625 L 96.4375 510.117188 L 83.070312 516.929688 \"/>\n<path style=\"fill:none;stroke-width:1;stroke-linecap:butt;stroke-linejoin:miter;stroke:rgb(74.509804%,74.509804%,74.509804%);stroke-opacity:1;stroke-miterlimit:10;\" d=\"M 542.667969 542.667969 L 93.160156 93.160156 \"/>\n<path style=\" stroke:none;fill-rule:nonzero;fill:rgb(74.509804%,74.509804%,74.509804%);fill-opacity:1;\" d=\"M 83.070312 83.070312 L 96.4375 89.882812 L 89.882812 96.4375 L 83.070312 83.070312 \"/>\n<path style=\"fill:none;stroke-width:1;stroke-linecap:butt;stroke-linejoin:miter;stroke:rgb(74.509804%,74.509804%,74.509804%);stroke-opacity:1;stroke-miterlimit:10;\" d=\"M 542.667969 542.667969 L 524.96875 100.246094 \"/>\n<path style=\" stroke:none;fill-rule:nonzero;fill:rgb(74.509804%,74.509804%,74.509804%);fill-opacity:1;\" d=\"M 524.398438 85.992188 L 529.601562 100.0625 L 520.339844 100.433594 L 524.398438 85.992188 \"/>\n<path style=\"fill:none;stroke-width:1;stroke-linecap:butt;stroke-linejoin:miter;stroke:rgb(74.509804%,74.509804%,74.509804%);stroke-opacity:1;stroke-miterlimit:10;\" d=\"M 542.667969 542.667969 L 541.160156 541.160156 \"/>\n<path style=\" stroke:none;fill-rule:nonzero;fill:rgb(74.509804%,74.509804%,74.509804%);fill-opacity:1;\" d=\"M 531.070312 531.070312 L 544.4375 537.882812 L 537.882812 544.4375 L 531.070312 531.070312 \"/>\n<path style=\"fill:none;stroke-width:1;stroke-linecap:butt;stroke-linejoin:miter;stroke:rgb(74.509804%,74.509804%,74.509804%);stroke-opacity:1;stroke-miterlimit:10;\" d=\"M 542.667969 542.667969 L 100.246094 524.96875 \"/>\n<path style=\" stroke:none;fill-rule:nonzero;fill:rgb(74.509804%,74.509804%,74.509804%);fill-opacity:1;\" d=\"M 85.992188 524.398438 L 100.433594 520.339844 L 100.0625 529.601562 L 85.992188 524.398438 \"/>\n<path style=\"fill:none;stroke-width:1;stroke-linecap:butt;stroke-linejoin:miter;stroke:rgb(74.509804%,74.509804%,74.509804%);stroke-opacity:1;stroke-miterlimit:10;\" d=\"M 57.332031 542.667969 L 75.03125 100.246094 \"/>\n<path style=\" stroke:none;fill-rule:nonzero;fill:rgb(74.509804%,74.509804%,74.509804%);fill-opacity:1;\" d=\"M 75.601562 85.992188 L 79.660156 100.433594 L 70.398438 100.0625 L 75.601562 85.992188 \"/>\n<path style=\"fill:none;stroke-width:1;stroke-linecap:butt;stroke-linejoin:miter;stroke:rgb(74.509804%,74.509804%,74.509804%);stroke-opacity:1;stroke-miterlimit:10;\" d=\"M 57.332031 542.667969 L 506.839844 93.160156 \"/>\n<path style=\" stroke:none;fill-rule:nonzero;fill:rgb(74.509804%,74.509804%,74.509804%);fill-opacity:1;\" d=\"M 516.929688 83.070312 L 510.117188 96.4375 L 503.5625 89.882812 L 516.929688 83.070312 \"/>\n<path style=\"fill:none;stroke-width:1;stroke-linecap:butt;stroke-linejoin:miter;stroke:rgb(74.509804%,74.509804%,74.509804%);stroke-opacity:1;stroke-miterlimit:10;\" d=\"M 57.332031 542.667969 L 499.753906 524.96875 \"/>\n<path style=\" stroke:none;fill-rule:nonzero;fill:rgb(74.509804%,74.509804%,74.509804%);fill-opacity:1;\" d=\"M 514.007812 524.398438 L 499.9375 529.601562 L 499.566406 520.339844 L 514.007812 524.398438 \"/>\n<path style=\"fill:none;stroke-width:1;stroke-linecap:butt;stroke-linejoin:miter;stroke:rgb(74.509804%,74.509804%,74.509804%);stroke-opacity:1;stroke-miterlimit:10;\" d=\"M 57.332031 542.667969 L 58.839844 541.160156 \"/>\n<path style=\" stroke:none;fill-rule:nonzero;fill:rgb(74.509804%,74.509804%,74.509804%);fill-opacity:1;\" d=\"M 68.929688 531.070312 L 62.117188 544.4375 L 55.5625 537.882812 L 68.929688 531.070312 \"/>\n<path style=\"fill:none;stroke-width:1;stroke-linecap:butt;stroke-linejoin:miter;stroke:rgb(74.509804%,74.509804%,74.509804%);stroke-opacity:1;stroke-miterlimit:10;\" d=\"M 20 20 L 58.839844 58.839844 \"/>\n<path style=\" stroke:none;fill-rule:nonzero;fill:rgb(74.509804%,74.509804%,74.509804%);fill-opacity:1;\" d=\"M 68.929688 68.929688 L 55.5625 62.117188 L 62.117188 55.5625 L 68.929688 68.929688 \"/>\n<path style=\"fill:none;stroke-width:1;stroke-linecap:butt;stroke-linejoin:miter;stroke:rgb(74.509804%,74.509804%,74.509804%);stroke-opacity:1;stroke-miterlimit:10;\" d=\"M 20 20 L 499.882812 73.320312 \"/>\n<path style=\" stroke:none;fill-rule:nonzero;fill:rgb(74.509804%,74.509804%,74.509804%);fill-opacity:1;\" d=\"M 514.0625 74.894531 L 499.371094 77.925781 L 500.394531 68.714844 L 514.0625 74.894531 \"/>\n<path style=\"fill:none;stroke-width:1;stroke-linecap:butt;stroke-linejoin:miter;stroke:rgb(74.509804%,74.509804%,74.509804%);stroke-opacity:1;stroke-miterlimit:10;\" d=\"M 20 20 L 506.839844 506.839844 \"/>\n<path style=\" stroke:none;fill-rule:nonzero;fill:rgb(74.509804%,74.509804%,74.509804%);fill-opacity:1;\" d=\"M 516.929688 516.929688 L 503.5625 510.117188 L 510.117188 503.5625 L 516.929688 516.929688 \"/>\n<path style=\"fill:none;stroke-width:1;stroke-linecap:butt;stroke-linejoin:miter;stroke:rgb(74.509804%,74.509804%,74.509804%);stroke-opacity:1;stroke-miterlimit:10;\" d=\"M 20 20 L 73.320312 499.882812 \"/>\n<path style=\" stroke:none;fill-rule:nonzero;fill:rgb(74.509804%,74.509804%,74.509804%);fill-opacity:1;\" d=\"M 74.894531 514.0625 L 68.714844 500.394531 L 77.925781 499.371094 L 74.894531 514.0625 \"/>\n<path style=\"fill:none;stroke-width:1;stroke-linecap:butt;stroke-linejoin:miter;stroke:rgb(74.509804%,74.509804%,74.509804%);stroke-opacity:1;stroke-miterlimit:10;\" d=\"M 580 20 L 100.117188 73.320312 \"/>\n<path style=\" stroke:none;fill-rule:nonzero;fill:rgb(74.509804%,74.509804%,74.509804%);fill-opacity:1;\" d=\"M 85.9375 74.894531 L 99.605469 68.714844 L 100.628906 77.925781 L 85.9375 74.894531 \"/>\n<path style=\"fill:none;stroke-width:1;stroke-linecap:butt;stroke-linejoin:miter;stroke:rgb(74.509804%,74.509804%,74.509804%);stroke-opacity:1;stroke-miterlimit:10;\" d=\"M 580 20 L 541.160156 58.839844 \"/>\n<path style=\" stroke:none;fill-rule:nonzero;fill:rgb(74.509804%,74.509804%,74.509804%);fill-opacity:1;\" d=\"M 531.070312 68.929688 L 537.882812 55.5625 L 544.4375 62.117188 L 531.070312 68.929688 \"/>\n<path style=\"fill:none;stroke-width:1;stroke-linecap:butt;stroke-linejoin:miter;stroke:rgb(74.509804%,74.509804%,74.509804%);stroke-opacity:1;stroke-miterlimit:10;\" d=\"M 580 20 L 526.679688 499.882812 \"/>\n<path style=\" stroke:none;fill-rule:nonzero;fill:rgb(74.509804%,74.509804%,74.509804%);fill-opacity:1;\" d=\"M 525.105469 514.0625 L 522.074219 499.371094 L 531.285156 500.394531 L 525.105469 514.0625 \"/>\n<path style=\"fill:none;stroke-width:1;stroke-linecap:butt;stroke-linejoin:miter;stroke:rgb(74.509804%,74.509804%,74.509804%);stroke-opacity:1;stroke-miterlimit:10;\" d=\"M 580 20 L 93.160156 506.839844 \"/>\n<path style=\" stroke:none;fill-rule:nonzero;fill:rgb(74.509804%,74.509804%,74.509804%);fill-opacity:1;\" d=\"M 83.070312 516.929688 L 89.882812 503.5625 L 96.4375 510.117188 L 83.070312 516.929688 \"/>\n<path style=\"fill:none;stroke-width:1;stroke-linecap:butt;stroke-linejoin:miter;stroke:rgb(74.509804%,74.509804%,74.509804%);stroke-opacity:1;stroke-miterlimit:10;\" d=\"M 580 580 L 93.160156 93.160156 \"/>\n<path style=\" stroke:none;fill-rule:nonzero;fill:rgb(74.509804%,74.509804%,74.509804%);fill-opacity:1;\" d=\"M 83.070312 83.070312 L 96.4375 89.882812 L 89.882812 96.4375 L 83.070312 83.070312 \"/>\n<path style=\"fill:none;stroke-width:1;stroke-linecap:butt;stroke-linejoin:miter;stroke:rgb(74.509804%,74.509804%,74.509804%);stroke-opacity:1;stroke-miterlimit:10;\" d=\"M 580 580 L 526.679688 100.117188 \"/>\n<path style=\" stroke:none;fill-rule:nonzero;fill:rgb(74.509804%,74.509804%,74.509804%);fill-opacity:1;\" d=\"M 525.105469 85.9375 L 531.285156 99.605469 L 522.074219 100.628906 L 525.105469 85.9375 \"/>\n<path style=\"fill:none;stroke-width:1;stroke-linecap:butt;stroke-linejoin:miter;stroke:rgb(74.509804%,74.509804%,74.509804%);stroke-opacity:1;stroke-miterlimit:10;\" d=\"M 580 580 L 541.160156 541.160156 \"/>\n<path style=\" stroke:none;fill-rule:nonzero;fill:rgb(74.509804%,74.509804%,74.509804%);fill-opacity:1;\" d=\"M 531.070312 531.070312 L 544.4375 537.882812 L 537.882812 544.4375 L 531.070312 531.070312 \"/>\n<path style=\"fill:none;stroke-width:1;stroke-linecap:butt;stroke-linejoin:miter;stroke:rgb(74.509804%,74.509804%,74.509804%);stroke-opacity:1;stroke-miterlimit:10;\" d=\"M 580 580 L 100.117188 526.679688 \"/>\n<path style=\" stroke:none;fill-rule:nonzero;fill:rgb(74.509804%,74.509804%,74.509804%);fill-opacity:1;\" d=\"M 85.9375 525.105469 L 100.628906 522.074219 L 99.605469 531.285156 L 85.9375 525.105469 \"/>\n<path style=\"fill:none;stroke-width:1;stroke-linecap:butt;stroke-linejoin:miter;stroke:rgb(74.509804%,74.509804%,74.509804%);stroke-opacity:1;stroke-miterlimit:10;\" d=\"M 20 580 L 73.320312 100.117188 \"/>\n<path style=\" stroke:none;fill-rule:nonzero;fill:rgb(74.509804%,74.509804%,74.509804%);fill-opacity:1;\" d=\"M 74.894531 85.9375 L 77.925781 100.628906 L 68.714844 99.605469 L 74.894531 85.9375 \"/>\n<path style=\"fill:none;stroke-width:1;stroke-linecap:butt;stroke-linejoin:miter;stroke:rgb(74.509804%,74.509804%,74.509804%);stroke-opacity:1;stroke-miterlimit:10;\" d=\"M 20 580 L 506.839844 93.160156 \"/>\n<path style=\" stroke:none;fill-rule:nonzero;fill:rgb(74.509804%,74.509804%,74.509804%);fill-opacity:1;\" d=\"M 516.929688 83.070312 L 510.117188 96.4375 L 503.5625 89.882812 L 516.929688 83.070312 \"/>\n<path style=\"fill:none;stroke-width:1;stroke-linecap:butt;stroke-linejoin:miter;stroke:rgb(74.509804%,74.509804%,74.509804%);stroke-opacity:1;stroke-miterlimit:10;\" d=\"M 20 580 L 499.882812 526.679688 \"/>\n<path style=\" stroke:none;fill-rule:nonzero;fill:rgb(74.509804%,74.509804%,74.509804%);fill-opacity:1;\" d=\"M 514.0625 525.105469 L 500.394531 531.285156 L 499.371094 522.074219 L 514.0625 525.105469 \"/>\n<path style=\"fill:none;stroke-width:1;stroke-linecap:butt;stroke-linejoin:miter;stroke:rgb(74.509804%,74.509804%,74.509804%);stroke-opacity:1;stroke-miterlimit:10;\" d=\"M 20 580 L 58.839844 541.160156 \"/>\n<path style=\" stroke:none;fill-rule:nonzero;fill:rgb(74.509804%,74.509804%,74.509804%);fill-opacity:1;\" d=\"M 68.929688 531.070312 L 62.117188 544.4375 L 55.5625 537.882812 L 68.929688 531.070312 \"/>\n<path style=\"fill:none;stroke-width:1;stroke-linecap:butt;stroke-linejoin:miter;stroke:rgb(100%,75.294118%,79.607843%);stroke-opacity:1;stroke-miterlimit:10;\" d=\"M 57.332031 57.332031 L 518.402344 57.332031 \"/>\n<path style=\" stroke:none;fill-rule:nonzero;fill:rgb(100%,75.294118%,79.607843%);fill-opacity:1;\" d=\"M 532.667969 57.332031 L 518.402344 61.96875 L 518.402344 52.699219 L 532.667969 57.332031 \"/>\n<path style=\"fill:none;stroke-width:1;stroke-linecap:butt;stroke-linejoin:miter;stroke:rgb(100%,75.294118%,79.607843%);stroke-opacity:1;stroke-miterlimit:10;\" d=\"M 542.667969 57.332031 L 542.667969 518.402344 \"/>\n<path style=\" stroke:none;fill-rule:nonzero;fill:rgb(100%,75.294118%,79.607843%);fill-opacity:1;\" d=\"M 542.667969 532.667969 L 538.03125 518.402344 L 547.300781 518.402344 L 542.667969 532.667969 \"/>\n<path style=\"fill:none;stroke-width:1;stroke-linecap:butt;stroke-linejoin:miter;stroke:rgb(100%,75.294118%,79.607843%);stroke-opacity:1;stroke-miterlimit:10;\" d=\"M 57.332031 542.667969 L 518.402344 542.667969 \"/>\n<path style=\" stroke:none;fill-rule:nonzero;fill:rgb(100%,75.294118%,79.607843%);fill-opacity:1;\" d=\"M 532.667969 542.667969 L 518.402344 547.300781 L 518.402344 538.03125 L 532.667969 542.667969 \"/>\n<path style=\"fill:none;stroke-width:1;stroke-linecap:butt;stroke-linejoin:miter;stroke:rgb(100%,75.294118%,79.607843%);stroke-opacity:1;stroke-miterlimit:10;\" d=\"M 57.332031 542.667969 L 57.332031 81.597656 \"/>\n<path style=\" stroke:none;fill-rule:nonzero;fill:rgb(100%,75.294118%,79.607843%);fill-opacity:1;\" d=\"M 57.332031 67.332031 L 61.96875 81.597656 L 52.699219 81.597656 L 57.332031 67.332031 \"/>\n<path style=\"fill-rule:nonzero;fill:rgb(100%,0%,0%);fill-opacity:1;stroke-width:1;stroke-linecap:butt;stroke-linejoin:miter;stroke:rgb(0%,0%,0%);stroke-opacity:1;stroke-miterlimit:10;\" d=\"M 30 20 C 30 25.523438 25.523438 30 20 30 C 14.476562 30 10 25.523438 10 20 C 10 14.476562 14.476562 10 20 10 C 25.523438 10 30 14.476562 30 20 \"/>\n<path style=\"fill-rule:nonzero;fill:rgb(100%,0%,0%);fill-opacity:1;stroke-width:1;stroke-linecap:butt;stroke-linejoin:miter;stroke:rgb(0%,0%,0%);stroke-opacity:1;stroke-miterlimit:10;\" d=\"M 590 20 C 590 25.523438 585.523438 30 580 30 C 574.476562 30 570 25.523438 570 20 C 570 14.476562 574.476562 10 580 10 C 585.523438 10 590 14.476562 590 20 \"/>\n<path style=\"fill-rule:nonzero;fill:rgb(100%,0%,0%);fill-opacity:1;stroke-width:1;stroke-linecap:butt;stroke-linejoin:miter;stroke:rgb(0%,0%,0%);stroke-opacity:1;stroke-miterlimit:10;\" d=\"M 590 580 C 590 585.523438 585.523438 590 580 590 C 574.476562 590 570 585.523438 570 580 C 570 574.476562 574.476562 570 580 570 C 585.523438 570 590 574.476562 590 580 \"/>\n<path style=\"fill-rule:nonzero;fill:rgb(100%,0%,0%);fill-opacity:1;stroke-width:1;stroke-linecap:butt;stroke-linejoin:miter;stroke:rgb(0%,0%,0%);stroke-opacity:1;stroke-miterlimit:10;\" d=\"M 30 580 C 30 585.523438 25.523438 590 20 590 C 14.476562 590 10 585.523438 10 580 C 10 574.476562 14.476562 570 20 570 C 25.523438 570 30 574.476562 30 580 \"/>\n<path style=\"fill-rule:nonzero;fill:rgb(0%,0%,100%);fill-opacity:1;stroke-width:1;stroke-linecap:butt;stroke-linejoin:miter;stroke:rgb(0%,0%,0%);stroke-opacity:1;stroke-miterlimit:10;\" d=\"M 67.332031 57.332031 C 67.332031 62.855469 62.855469 67.332031 57.332031 67.332031 C 51.808594 67.332031 47.332031 62.855469 47.332031 57.332031 C 47.332031 51.808594 51.808594 47.332031 57.332031 47.332031 C 62.855469 47.332031 67.332031 51.808594 67.332031 57.332031 \"/>\n<path style=\"fill-rule:nonzero;fill:rgb(0%,0%,100%);fill-opacity:1;stroke-width:1;stroke-linecap:butt;stroke-linejoin:miter;stroke:rgb(0%,0%,0%);stroke-opacity:1;stroke-miterlimit:10;\" d=\"M 552.667969 57.332031 C 552.667969 62.855469 548.191406 67.332031 542.667969 67.332031 C 537.144531 67.332031 532.667969 62.855469 532.667969 57.332031 C 532.667969 51.808594 537.144531 47.332031 542.667969 47.332031 C 548.191406 47.332031 552.667969 51.808594 552.667969 57.332031 \"/>\n<path style=\"fill-rule:nonzero;fill:rgb(0%,0%,100%);fill-opacity:1;stroke-width:1;stroke-linecap:butt;stroke-linejoin:miter;stroke:rgb(0%,0%,0%);stroke-opacity:1;stroke-miterlimit:10;\" d=\"M 552.667969 542.667969 C 552.667969 548.191406 548.191406 552.667969 542.667969 552.667969 C 537.144531 552.667969 532.667969 548.191406 532.667969 542.667969 C 532.667969 537.144531 537.144531 532.667969 542.667969 532.667969 C 548.191406 532.667969 552.667969 537.144531 552.667969 542.667969 \"/>\n<path style=\"fill-rule:nonzero;fill:rgb(0%,0%,100%);fill-opacity:1;stroke-width:1;stroke-linecap:butt;stroke-linejoin:miter;stroke:rgb(0%,0%,0%);stroke-opacity:1;stroke-miterlimit:10;\" d=\"M 67.332031 542.667969 C 67.332031 548.191406 62.855469 552.667969 57.332031 552.667969 C 51.808594 552.667969 47.332031 548.191406 47.332031 542.667969 C 47.332031 537.144531 51.808594 532.667969 57.332031 532.667969 C 62.855469 532.667969 67.332031 537.144531 67.332031 542.667969 \"/>\n<path style=\"fill-rule:nonzero;fill:rgb(0%,100%,0%);fill-opacity:1;stroke-width:1;stroke-linecap:butt;stroke-linejoin:miter;stroke:rgb(0%,0%,0%);stroke-opacity:1;stroke-miterlimit:10;\" d=\"M 86 76 C 86 81.523438 81.523438 86 76 86 C 70.476562 86 66 81.523438 66 76 C 66 70.476562 70.476562 66 76 66 C 81.523438 66 86 70.476562 86 76 \"/>\n<path style=\"fill-rule:nonzero;fill:rgb(0%,100%,0%);fill-opacity:1;stroke-width:1;stroke-linecap:butt;stroke-linejoin:miter;stroke:rgb(0%,0%,0%);stroke-opacity:1;stroke-miterlimit:10;\" d=\"M 534 76 C 534 81.523438 529.523438 86 524 86 C 518.476562 86 514 81.523438 514 76 C 514 70.476562 518.476562 66 524 66 C 529.523438 66 534 70.476562 534 76 \"/>\n<path style=\"fill-rule:nonzero;fill:rgb(0%,100%,0%);fill-opacity:1;stroke-width:1;stroke-linecap:butt;stroke-linejoin:miter;stroke:rgb(0%,0%,0%);stroke-opacity:1;stroke-miterlimit:10;\" d=\"M 534 524 C 534 529.523438 529.523438 534 524 534 C 518.476562 534 514 529.523438 514 524 C 514 518.476562 518.476562 514 524 514 C 529.523438 514 534 518.476562 534 524 \"/>\n<path style=\"fill-rule:nonzero;fill:rgb(0%,100%,0%);fill-opacity:1;stroke-width:1;stroke-linecap:butt;stroke-linejoin:miter;stroke:rgb(0%,0%,0%);stroke-opacity:1;stroke-miterlimit:10;\" d=\"M 86 524 C 86 529.523438 81.523438 534 76 534 C 70.476562 534 66 529.523438 66 524 C 66 518.476562 70.476562 514 76 514 C 81.523438 514 86 518.476562 86 524 \"/>\n</g>\n</svg>\n"
     },
     "execution_count": 16,
     "metadata": {
      "image/svg+xml": {
       "isolated": true
      }
     },
     "output_type": "execute_result"
    }
   ],
   "source": [
    "ig.plot(g)"
   ],
   "metadata": {
    "collapsed": false,
    "pycharm": {
     "name": "#%%\n"
    }
   }
  },
  {
   "cell_type": "markdown",
   "source": [
    "## Cost Calculation"
   ],
   "metadata": {
    "collapsed": false,
    "pycharm": {
     "name": "#%% md\n"
    }
   }
  },
  {
   "cell_type": "code",
   "execution_count": 17,
   "outputs": [],
   "source": [
    "costs_dict = {\n",
    "    IGraphEdgeTypes.RAIL: 10000,\n",
    "}\n",
    "\n",
    "add_cost_per_unit(g, costs_dict)"
   ],
   "metadata": {
    "collapsed": false,
    "pycharm": {
     "name": "#%%\n"
    }
   }
  },
  {
   "cell_type": "markdown",
   "source": [
    "# Store"
   ],
   "metadata": {
    "collapsed": false,
    "pycharm": {
     "name": "#%% md\n"
    }
   }
  },
  {
   "cell_type": "code",
   "execution_count": 19,
   "outputs": [],
   "source": [
    "g.write_picklez('./test_cost_data/graph.picklez')"
   ],
   "metadata": {
    "collapsed": false,
    "pycharm": {
     "name": "#%%\n"
    }
   }
  },
  {
   "cell_type": "markdown",
   "source": [
    "# Census Data"
   ],
   "metadata": {
    "collapsed": false,
    "pycharm": {
     "name": "#%% md\n"
    }
   }
  },
  {
   "cell_type": "code",
   "execution_count": 20,
   "outputs": [
    {
     "data": {
      "text/plain": "  neighborhood  n_inh  n_purple  n_red            res_centroids\n0          RC0   1000       500    500  POINT (0.00000 0.00000)\n1          RC1   1000       500    500  POINT (3.00000 0.00000)\n2          RC2   1000       500    500  POINT (3.00000 3.00000)\n3          RC3   1000       500    500  POINT (0.00000 3.00000)",
      "text/html": "<div>\n<style scoped>\n    .dataframe tbody tr th:only-of-type {\n        vertical-align: middle;\n    }\n\n    .dataframe tbody tr th {\n        vertical-align: top;\n    }\n\n    .dataframe thead th {\n        text-align: right;\n    }\n</style>\n<table border=\"1\" class=\"dataframe\">\n  <thead>\n    <tr style=\"text-align: right;\">\n      <th></th>\n      <th>neighborhood</th>\n      <th>n_inh</th>\n      <th>n_purple</th>\n      <th>n_red</th>\n      <th>res_centroids</th>\n    </tr>\n  </thead>\n  <tbody>\n    <tr>\n      <th>0</th>\n      <td>RC0</td>\n      <td>1000</td>\n      <td>500</td>\n      <td>500</td>\n      <td>POINT (0.00000 0.00000)</td>\n    </tr>\n    <tr>\n      <th>1</th>\n      <td>RC1</td>\n      <td>1000</td>\n      <td>500</td>\n      <td>500</td>\n      <td>POINT (3.00000 0.00000)</td>\n    </tr>\n    <tr>\n      <th>2</th>\n      <td>RC2</td>\n      <td>1000</td>\n      <td>500</td>\n      <td>500</td>\n      <td>POINT (3.00000 3.00000)</td>\n    </tr>\n    <tr>\n      <th>3</th>\n      <td>RC3</td>\n      <td>1000</td>\n      <td>500</td>\n      <td>500</td>\n      <td>POINT (0.00000 3.00000)</td>\n    </tr>\n  </tbody>\n</table>\n</div>"
     },
     "execution_count": 20,
     "metadata": {},
     "output_type": "execute_result"
    }
   ],
   "source": [
    "rc_vertices = vertices[0:4]\n",
    "data = {\n",
    "    'neighborhood': [v.name for v in rc_vertices],\n",
    "    'n_inh': [1000,1000,1000,1000],\n",
    "    'n_purple': [500, 500, 500, 500],\n",
    "    'n_red':    [500, 500, 500, 500],\n",
    "    'res_centroids': gpd.points_from_xy([v.x for v in rc_vertices], [v.y for v in rc_vertices])\n",
    "}\n",
    "\n",
    "gdf = gpd.GeoDataFrame(data, geometry='res_centroids')\n",
    "gdf"
   ],
   "metadata": {
    "collapsed": false,
    "pycharm": {
     "name": "#%%\n"
    }
   }
  },
  {
   "cell_type": "code",
   "execution_count": 21,
   "outputs": [],
   "source": [
    "gdf.to_file('./test_cost_data/census_data.geojson', driver='GeoJSON')"
   ],
   "metadata": {
    "collapsed": false,
    "pycharm": {
     "name": "#%%\n"
    }
   }
  }
 ],
 "metadata": {
  "kernelspec": {
   "display_name": "Python 3",
   "language": "python",
   "name": "python3"
  },
  "language_info": {
   "codemirror_mode": {
    "name": "ipython",
    "version": 3
   },
   "file_extension": ".py",
   "mimetype": "text/x-python",
   "name": "python",
   "nbconvert_exporter": "python",
   "pygments_lexer": "ipython3",
   "version": "3.9.12"
  }
 },
 "nbformat": 4,
 "nbformat_minor": 4
}