{
 "cells": [
  {
   "cell_type": "code",
   "execution_count": 168,
   "metadata": {
    "collapsed": true,
    "pycharm": {
     "name": "#%%\n"
    }
   },
   "outputs": [],
   "source": [
    "import numpy as np"
   ]
  },
  {
   "cell_type": "code",
   "execution_count": 169,
   "outputs": [],
   "source": [
    "f_1_range = (0, 1000)\n",
    "f_2_range = (0, np.log(1000))\n",
    "\n",
    "f_1 = 500\n",
    "f_2 = np.log(500)"
   ],
   "metadata": {
    "collapsed": false,
    "pycharm": {
     "name": "#%%\n"
    }
   }
  },
  {
   "cell_type": "code",
   "execution_count": 170,
   "outputs": [
    {
     "name": "stdout",
     "output_type": "stream",
     "text": [
      "num_1=0.5\n",
      "denominator=0.6003433318879937\n",
      "w_1=0.8328567561957783\n",
      "num_2=0.10034333188799374\n",
      "w_2=0.16714324380422174\n"
     ]
    }
   ],
   "source": [
    "denominator = np.divide(\n",
    "    f_1_range[1] - f_1,\n",
    "    f_1_range[1] - f_1_range[0]) + \\\n",
    "              np.divide(\n",
    "                  f_2_range[1] - f_2,\n",
    "                  f_2_range[1] - f_2_range[0]\n",
    "              )\n",
    "\n",
    "num_1 = np.divide(f_1_range[1] - f_1, f_1_range[1] - f_1_range[0])\n",
    "print(f\"{num_1=}\")\n",
    "w_1 = np.divide(\n",
    "    num_1,\n",
    "    denominator\n",
    ")\n",
    "print(f\"{denominator=}\")\n",
    "print(f\"{w_1=}\")\n",
    "num_2 = np.divide(f_2_range[1] - f_2, f_2_range[1] - f_2_range[0])\n",
    "print(f\"{num_2=}\")\n",
    "w_2 = np.divide(\n",
    "    np.divide(f_2_range[1] - f_2, f_2_range[1] - f_2_range[0]),\n",
    "    denominator\n",
    ")\n",
    "print(f\"{w_2=}\")"
   ],
   "metadata": {
    "collapsed": false,
    "pycharm": {
     "name": "#%%\n"
    }
   }
  },
  {
   "cell_type": "code",
   "execution_count": 171,
   "outputs": [
    {
     "data": {
      "text/plain": "True"
     },
     "execution_count": 171,
     "metadata": {},
     "output_type": "execute_result"
    }
   ],
   "source": [
    "np.isclose(w_1 + w_2, 1)"
   ],
   "metadata": {
    "collapsed": false,
    "pycharm": {
     "name": "#%%\n"
    }
   }
  },
  {
   "cell_type": "code",
   "execution_count": 172,
   "outputs": [
    {
     "data": {
      "text/plain": "417.46710785443145"
     },
     "execution_count": 172,
     "metadata": {},
     "output_type": "execute_result"
    }
   ],
   "source": [
    "F = w_1 * f_1 + w_2 * f_2\n",
    "F"
   ],
   "metadata": {
    "collapsed": false,
    "pycharm": {
     "name": "#%%\n"
    }
   }
  },
  {
   "cell_type": "code",
   "execution_count": 173,
   "outputs": [],
   "source": [
    "########################"
   ],
   "metadata": {
    "collapsed": false,
    "pycharm": {
     "name": "#%%\n"
    }
   }
  },
  {
   "cell_type": "code",
   "execution_count": 174,
   "outputs": [],
   "source": [
    "from dataclasses import dataclass"
   ],
   "metadata": {
    "collapsed": false,
    "pycharm": {
     "name": "#%%\n"
    }
   }
  },
  {
   "cell_type": "code",
   "execution_count": 187,
   "outputs": [],
   "source": [
    "@dataclass\n",
    "class PartialReward:\n",
    "    min_value: float\n",
    "    max_value: float\n",
    "    reward_value: float\n",
    "\n",
    "    @property\n",
    "    def max_diff_min(self):\n",
    "        return self.max_value - self.min_value\n",
    "\n",
    "    @property\n",
    "    def max_diff_actual(self):\n",
    "        return self.max_value - self.reward_value\n",
    "\n",
    "    @property\n",
    "    def ma_d_ac_div_ma_d_mi(self):\n",
    "        return np.divide(self.max_diff_actual, self.max_diff_min)\n",
    "\n",
    "@dataclass\n",
    "class PartialRewardGenerator:\n",
    "    min_value: float\n",
    "    max_value: float\n",
    "\n",
    "    def generate_reward(self, reward_value: float):\n",
    "        return PartialReward(self.min_value, self.max_value, reward_value)\n",
    "\n",
    "def chebyshev_weight_computation(*fs: PartialReward):\n",
    "    numerators = [f.ma_d_ac_div_ma_d_mi for f in fs]\n",
    "    denominator = np.sum([f.ma_d_ac_div_ma_d_mi for f in fs])\n",
    "\n",
    "    if denominator != 0:\n",
    "        return np.divide(numerators, denominator)\n",
    "    else:\n",
    "        max_reward = max([f.reward_value for f in fs])\n",
    "        return [1 if f.reward_value == max_reward else 0 for f in fs]\n",
    "\n",
    "def chebyshev_reward_computation(*fs: PartialReward):\n",
    "    weights = chebyshev_weight_computation(*fs)\n",
    "    assert np.isclose(np.sum(weights), 1)\n",
    "    return np.sum([w * f.reward_value for w, f in zip(weights, fs)])"
   ],
   "metadata": {
    "collapsed": false,
    "pycharm": {
     "name": "#%%\n"
    }
   }
  },
  {
   "cell_type": "code",
   "execution_count": 188,
   "outputs": [
    {
     "data": {
      "text/plain": "1000.0"
     },
     "execution_count": 188,
     "metadata": {},
     "output_type": "execute_result"
    }
   ],
   "source": [
    "rg_1 = PartialRewardGenerator(0, 1000)\n",
    "f_1 = rg_1.generate_reward(1000)\n",
    "rg_2 = PartialRewardGenerator(0, np.log(1000))\n",
    "f_2 = rg_2.generate_reward(np.log(1000))\n",
    "\n",
    "chebyshev_reward_computation(f_1, f_2)"
   ],
   "metadata": {
    "collapsed": false,
    "pycharm": {
     "name": "#%%\n"
    }
   }
  },
  {
   "cell_type": "code",
   "execution_count": 176,
   "outputs": [],
   "source": [],
   "metadata": {
    "collapsed": false,
    "pycharm": {
     "name": "#%%\n"
    }
   }
  }
 ],
 "metadata": {
  "kernelspec": {
   "display_name": "Python 3",
   "language": "python",
   "name": "python3"
  },
  "language_info": {
   "codemirror_mode": {
    "name": "ipython",
    "version": 2
   },
   "file_extension": ".py",
   "mimetype": "text/x-python",
   "name": "python",
   "nbconvert_exporter": "python",
   "pygments_lexer": "ipython2",
   "version": "2.7.6"
  }
 },
 "nbformat": 4,
 "nbformat_minor": 0
}