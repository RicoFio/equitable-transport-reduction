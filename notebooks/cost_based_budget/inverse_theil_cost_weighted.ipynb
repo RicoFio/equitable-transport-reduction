{
 "cells": [
  {
   "cell_type": "code",
   "execution_count": 2,
   "outputs": [],
   "source": [
    "from eptnr.rewards.egalitarian import EgalitarianTheilReward, BaseReward\n",
    "from eptnr.constants.travel_metric import TravelMetric\n",
    "\n",
    "from eptnr.analysis.full_problem_exploration import full_problem_exploration\n",
    "from eptnr.plotting.solution_plotting import plot_full_problem_exploration\n",
    "from inequality.theil import TheilD\n",
    "import igraph as ig\n",
    "import numpy as np\n",
    "import geopandas as gpd\n",
    "import pandas as pd"
   ],
   "metadata": {
    "collapsed": false,
    "pycharm": {
     "name": "#%%\n"
    }
   }
  },
  {
   "cell_type": "code",
   "execution_count": 3,
   "outputs": [],
   "source": [
    "graph = ig.read('./test_cost_data/graph.picklez')\n",
    "gdf = gpd.read_file('./test_cost_data/census_data.geojson')"
   ],
   "metadata": {
    "collapsed": false,
    "pycharm": {
     "name": "#%%\n"
    }
   }
  },
  {
   "cell_type": "code",
   "execution_count": 2,
   "outputs": [],
   "source": [
    "from typing import List\n",
    "from eptnr.rewards.egalitarian import InverseTheilReward\n",
    "\n",
    "class InverseTheilAndCostReward(BaseReward):\n",
    "\n",
    "    def __init__(self, census_data: pd.DataFrame, com_threshold: float, monetary_budget: float,\n",
    "                 groups: List[str] = None, metrics: List[TravelMetric] = None,\n",
    "                 verbose: bool = False):\n",
    "        super().__init__(census_data, com_threshold, groups, metrics, verbose)\n",
    "        self.monetary_budget = monetary_budget\n",
    "        self.inverse_theil = InverseTheilReward(census_data, com_threshold, groups, metrics, verbose)\n",
    "\n",
    "    def _weight_calculation(self, min_rewards, max_rewards, ):\n",
    "        pass\n",
    "\n",
    "    def _evaluate(self, g: ig.Graph, *args, **kwargs) -> float:\n",
    "        \"\"\"\n",
    "\n",
    "        Args:\n",
    "            g:\n",
    "\n",
    "        Returns:\n",
    "\n",
    "        \"\"\"\n",
    "        inverse_theil_reward = self.inverse_theil.evaluate(g, *args, **kwargs)\n",
    "\n",
    "        removed_edges = g.es.select(active=0)\n",
    "        total_savings = sum([e['cost'] for e in removed_edges])\n",
    "\n",
    "        weighted_equality_reward = self._weight_calculation() * inverse_theil_reward\n",
    "        weighted_price_reward = self._weight_calculation() * abs(total_savings - self.monetary_budget)\n",
    "        total_reward = weighted_equality_reward +\n",
    "\n",
    "        return None\n",
    "\n",
    "    def _reward_scaling(self, reward: float) -> float:\n",
    "        return np.log(len(self.census_data)) - reward"
   ],
   "metadata": {
    "collapsed": false,
    "pycharm": {
     "name": "#%%\n"
    }
   }
  },
  {
   "cell_type": "code",
   "execution_count": null,
   "outputs": [],
   "source": [],
   "metadata": {
    "collapsed": false,
    "pycharm": {
     "name": "#%%\n"
    }
   }
  }
 ],
 "metadata": {
  "kernelspec": {
   "display_name": "Python 3",
   "language": "python",
   "name": "python3"
  },
  "language_info": {
   "codemirror_mode": {
    "name": "ipython",
    "version": 2
   },
   "file_extension": ".py",
   "mimetype": "text/x-python",
   "name": "python",
   "nbconvert_exporter": "python",
   "pygments_lexer": "ipython2",
   "version": "2.7.6"
  }
 },
 "nbformat": 4,
 "nbformat_minor": 0
}