{
 "cells": [
  {
   "cell_type": "code",
   "execution_count": 1,
   "outputs": [],
   "source": [
    "from eptnr.datasets.dataset_loader import load_dataset\n",
    "from eptnr.datasets.synthetic_datasets import SyntheticDatasets\n",
    "from eptnr.rewards.sufficientarian import SufficientarianCostReward\n",
    "from eptnr.constants.travel_metric import TravelMetric\n",
    "from eptnr.rewards.utils.graph_computation_utils import get_tt_hops_com_dfs\n",
    "from eptnr.analysis.full_problem_exploration import full_problem_exploration"
   ],
   "metadata": {
    "collapsed": false,
    "pycharm": {
     "name": "#%%\n"
    }
   }
  },
  {
   "cell_type": "markdown",
   "source": [
    "# Dataset loading"
   ],
   "metadata": {
    "collapsed": false,
    "pycharm": {
     "name": "#%% md\n"
    }
   }
  },
  {
   "cell_type": "code",
   "execution_count": 2,
   "outputs": [],
   "source": [
    "graph, census = load_dataset(SyntheticDatasets.THREE)"
   ],
   "metadata": {
    "collapsed": false,
    "pycharm": {
     "name": "#%%\n"
    }
   }
  },
  {
   "cell_type": "code",
   "execution_count": 3,
   "outputs": [
    {
     "data": {
      "text/plain": "  neighborhood  n_inh  n_purple  n_red                 geometry\n0          RC0   1000       100    900  POINT (3.50000 3.50000)\n1          RC1   1000       200    800  POINT (2.50000 3.50000)\n2          RC2   1000       200    800  POINT (3.50000 2.50000)\n3          RC3   1200      1000    200  POINT (0.50000 1.50000)\n4          RC4    800       600    200  POINT (0.50000 0.50000)\n5          RC5   1000      1000      0  POINT (1.50000 0.50000)",
      "text/html": "<div>\n<style scoped>\n    .dataframe tbody tr th:only-of-type {\n        vertical-align: middle;\n    }\n\n    .dataframe tbody tr th {\n        vertical-align: top;\n    }\n\n    .dataframe thead th {\n        text-align: right;\n    }\n</style>\n<table border=\"1\" class=\"dataframe\">\n  <thead>\n    <tr style=\"text-align: right;\">\n      <th></th>\n      <th>neighborhood</th>\n      <th>n_inh</th>\n      <th>n_purple</th>\n      <th>n_red</th>\n      <th>geometry</th>\n    </tr>\n  </thead>\n  <tbody>\n    <tr>\n      <th>0</th>\n      <td>RC0</td>\n      <td>1000</td>\n      <td>100</td>\n      <td>900</td>\n      <td>POINT (3.50000 3.50000)</td>\n    </tr>\n    <tr>\n      <th>1</th>\n      <td>RC1</td>\n      <td>1000</td>\n      <td>200</td>\n      <td>800</td>\n      <td>POINT (2.50000 3.50000)</td>\n    </tr>\n    <tr>\n      <th>2</th>\n      <td>RC2</td>\n      <td>1000</td>\n      <td>200</td>\n      <td>800</td>\n      <td>POINT (3.50000 2.50000)</td>\n    </tr>\n    <tr>\n      <th>3</th>\n      <td>RC3</td>\n      <td>1200</td>\n      <td>1000</td>\n      <td>200</td>\n      <td>POINT (0.50000 1.50000)</td>\n    </tr>\n    <tr>\n      <th>4</th>\n      <td>RC4</td>\n      <td>800</td>\n      <td>600</td>\n      <td>200</td>\n      <td>POINT (0.50000 0.50000)</td>\n    </tr>\n    <tr>\n      <th>5</th>\n      <td>RC5</td>\n      <td>1000</td>\n      <td>1000</td>\n      <td>0</td>\n      <td>POINT (1.50000 0.50000)</td>\n    </tr>\n  </tbody>\n</table>\n</div>"
     },
     "execution_count": 3,
     "metadata": {},
     "output_type": "execute_result"
    }
   ],
   "source": [
    "census"
   ],
   "metadata": {
    "collapsed": false,
    "pycharm": {
     "name": "#%%\n"
    }
   }
  },
  {
   "cell_type": "code",
   "execution_count": 4,
   "outputs": [
    {
     "data": {
      "text/plain": "[igraph.Vertex(<igraph.Graph object at 0x7f44878e67c0>, 0, {'name': 'RC0', 'x': 3.5, 'y': 3.5, 'color': 'red', 'type': 'rc_node'}),\n igraph.Vertex(<igraph.Graph object at 0x7f44878e67c0>, 1, {'name': 'RC1', 'x': 2.5, 'y': 3.5, 'color': 'red', 'type': 'rc_node'}),\n igraph.Vertex(<igraph.Graph object at 0x7f44878e67c0>, 2, {'name': 'RC2', 'x': 3.5, 'y': 2.5, 'color': 'red', 'type': 'rc_node'}),\n igraph.Vertex(<igraph.Graph object at 0x7f44878e67c0>, 3, {'name': 'RC3', 'x': 0.5, 'y': 1.5, 'color': 'purple', 'type': 'rc_node'}),\n igraph.Vertex(<igraph.Graph object at 0x7f44878e67c0>, 4, {'name': 'RC4', 'x': 0.5, 'y': 0.5, 'color': 'purple', 'type': 'rc_node'}),\n igraph.Vertex(<igraph.Graph object at 0x7f44878e67c0>, 5, {'name': 'RC5', 'x': 1.5, 'y': 0.5, 'color': 'purple', 'type': 'rc_node'}),\n igraph.Vertex(<igraph.Graph object at 0x7f44878e67c0>, 6, {'name': 'PT6', 'x': 1, 'y': 1, 'color': 'blue', 'type': 'pt_node'}),\n igraph.Vertex(<igraph.Graph object at 0x7f44878e67c0>, 7, {'name': 'PT7', 'x': 2, 'y': 2, 'color': 'blue', 'type': 'pt_node'}),\n igraph.Vertex(<igraph.Graph object at 0x7f44878e67c0>, 8, {'name': 'PT8', 'x': 3, 'y': 1, 'color': 'blue', 'type': 'pt_node'}),\n igraph.Vertex(<igraph.Graph object at 0x7f44878e67c0>, 9, {'name': 'PT9', 'x': 3.5, 'y': 3, 'color': 'blue', 'type': 'pt_node'}),\n igraph.Vertex(<igraph.Graph object at 0x7f44878e67c0>, 10, {'name': 'PT10', 'x': 3, 'y': 3, 'color': 'blue', 'type': 'pt_node'}),\n igraph.Vertex(<igraph.Graph object at 0x7f44878e67c0>, 11, {'name': 'PT11', 'x': 3, 'y': 3.5, 'color': 'blue', 'type': 'pt_node'}),\n igraph.Vertex(<igraph.Graph object at 0x7f44878e67c0>, 12, {'name': 'POI12', 'x': 2.75, 'y': 2.75, 'color': 'green', 'type': 'poi_node'}),\n igraph.Vertex(<igraph.Graph object at 0x7f44878e67c0>, 13, {'name': 'POI13', 'x': 2.75, 'y': 3.25, 'color': 'green', 'type': 'poi_node'}),\n igraph.Vertex(<igraph.Graph object at 0x7f44878e67c0>, 14, {'name': 'POI14', 'x': 3.25, 'y': 2.75, 'color': 'green', 'type': 'poi_node'})]"
     },
     "execution_count": 4,
     "metadata": {},
     "output_type": "execute_result"
    }
   ],
   "source": [
    "list(graph.vs)"
   ],
   "metadata": {
    "collapsed": false,
    "pycharm": {
     "name": "#%%\n"
    }
   }
  },
  {
   "cell_type": "markdown",
   "source": [
    "# Data Anaysis"
   ],
   "metadata": {
    "collapsed": false,
    "pycharm": {
     "name": "#%% md\n"
    }
   }
  },
  {
   "cell_type": "code",
   "execution_count": 5,
   "outputs": [],
   "source": [
    "tt_df, hops_df, com_df = get_tt_hops_com_dfs(graph, census, 50)"
   ],
   "metadata": {
    "collapsed": false,
    "pycharm": {
     "name": "#%%\n"
    }
   }
  },
  {
   "cell_type": "code",
   "execution_count": 6,
   "outputs": [],
   "source": [
    "temp_tt_df = tt_df.copy()\n",
    "temp_tt_df['group'] = temp_tt_df['group']"
   ],
   "metadata": {
    "collapsed": false,
    "pycharm": {
     "name": "#%%\n"
    }
   }
  },
  {
   "cell_type": "markdown",
   "source": [
    "# Reward setup"
   ],
   "metadata": {
    "collapsed": false,
    "pycharm": {
     "name": "#%% md\n"
    }
   }
  },
  {
   "cell_type": "code",
   "execution_count": 7,
   "outputs": [
    {
     "ename": "KeyError",
     "evalue": "'Attribute does not exist'",
     "output_type": "error",
     "traceback": [
      "\u001B[0;31m---------------------------------------------------------------------------\u001B[0m",
      "\u001B[0;31mKeyError\u001B[0m                                  Traceback (most recent call last)",
      "Cell \u001B[0;32mIn [7], line 2\u001B[0m\n\u001B[1;32m      1\u001B[0m sufficiency \u001B[38;5;241m=\u001B[39m \u001B[38;5;241m0\u001B[39m\n\u001B[0;32m----> 2\u001B[0m total_graph_cost \u001B[38;5;241m=\u001B[39m \u001B[38;5;28msum\u001B[39m(graph\u001B[38;5;241m.\u001B[39mes\u001B[38;5;241m.\u001B[39mselect(type_ne\u001B[38;5;241m=\u001B[39m\u001B[38;5;124m'\u001B[39m\u001B[38;5;124mwalk\u001B[39m\u001B[38;5;124m'\u001B[39m)[\u001B[38;5;124m'\u001B[39m\u001B[38;5;124mcost\u001B[39m\u001B[38;5;124m'\u001B[39m])\n\u001B[1;32m      3\u001B[0m monetary_budget \u001B[38;5;241m=\u001B[39m \u001B[38;5;241m30_000\u001B[39m\n\u001B[1;32m      4\u001B[0m groups \u001B[38;5;241m=\u001B[39m \u001B[38;5;28;01mNone\u001B[39;00m\n",
      "\u001B[0;31mKeyError\u001B[0m: 'Attribute does not exist'"
     ]
    }
   ],
   "source": [
    "sufficiency = 0\n",
    "total_graph_cost = sum(graph.es.select(type_ne='walk')['cost'])\n",
    "monetary_budget = 30_000\n",
    "groups = None\n",
    "metrics = [TravelMetric.TT]\n",
    "\n",
    "\n",
    "reward = SufficientarianCostReward(census_data=census, com_threshold=0,\n",
    "                                   sufficiency=sufficiency, total_graph_cost=total_graph_cost, monetary_budget=monetary_budget,\n",
    "                                   groups=groups, metrics=metrics, verbose=True)"
   ],
   "metadata": {
    "collapsed": false,
    "pycharm": {
     "name": "#%%\n"
    }
   }
  },
  {
   "cell_type": "markdown",
   "source": [
    "# Algorithms"
   ],
   "metadata": {
    "collapsed": false,
    "pycharm": {
     "name": "#%% md\n"
    }
   }
  },
  {
   "cell_type": "code",
   "execution_count": null,
   "outputs": [],
   "source": [],
   "metadata": {
    "collapsed": false,
    "pycharm": {
     "name": "#%%\n"
    }
   }
  }
 ],
 "metadata": {
  "kernelspec": {
   "display_name": "Python 3",
   "language": "python",
   "name": "python3"
  },
  "language_info": {
   "codemirror_mode": {
    "name": "ipython",
    "version": 2
   },
   "file_extension": ".py",
   "mimetype": "text/x-python",
   "name": "python",
   "nbconvert_exporter": "python",
   "pygments_lexer": "ipython2",
   "version": "2.7.6"
  }
 },
 "nbformat": 4,
 "nbformat_minor": 0
}