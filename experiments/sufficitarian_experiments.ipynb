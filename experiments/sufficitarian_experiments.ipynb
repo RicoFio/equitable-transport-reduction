{
 "cells": [
  {
   "cell_type": "code",
   "execution_count": 97,
   "outputs": [],
   "source": [
    "import numpy as np\n",
    "\n",
    "import matplotlib.pyplot as plt\n",
    "import igraph as ig\n",
    "from eptnr.datasets.dataset_loader import load_dataset\n",
    "from eptnr.datasets.synthetic_datasets import SyntheticDatasets\n",
    "from eptnr.rewards.sufficientarian import SufficientarianCostReward\n",
    "from eptnr.constants.travel_metric import TravelMetric\n",
    "from eptnr.rewards.utils.graph_computation_utils import get_tt_hops_com_dfs\n",
    "from eptnr.analysis.full_problem_exploration import full_problem_exploration\n",
    "import pandas as pd\n",
    "from eptnr.algorithms.baselines.optimal_baseline import optimal_max_baseline\n",
    "import seaborn as sns"
   ],
   "metadata": {
    "collapsed": false,
    "pycharm": {
     "name": "#%%\n"
    }
   }
  },
  {
   "cell_type": "markdown",
   "source": [
    "# Dataset loading"
   ],
   "metadata": {
    "collapsed": false,
    "pycharm": {
     "name": "#%% md\n"
    }
   }
  },
  {
   "cell_type": "code",
   "execution_count": 98,
   "outputs": [],
   "source": [
    "graph, census = load_dataset(SyntheticDatasets.ONE)"
   ],
   "metadata": {
    "collapsed": false,
    "pycharm": {
     "name": "#%%\n"
    }
   }
  },
  {
   "cell_type": "markdown",
   "source": [
    "# Data Anaysis"
   ],
   "metadata": {
    "collapsed": false,
    "pycharm": {
     "name": "#%% md\n"
    }
   }
  },
  {
   "cell_type": "code",
   "execution_count": 99,
   "outputs": [],
   "source": [
    "def plot_travel_time_histogram(graph, census):\n",
    "    tt_df, _, _ = get_tt_hops_com_dfs(graph, census, 50)\n",
    "    temp_tt_df = tt_df.copy()\n",
    "    categories = pd.Categorical(temp_tt_df['group'])\n",
    "    temp_tt_df['group'] = categories\n",
    "    temp_tt_df = temp_tt_df.pivot(columns='group')\n",
    "\n",
    "    melted_temp_tt = temp_tt_df.melt()[['group', 'value']]\n",
    "    melted_temp_tt.value = pd.to_numeric(melted_temp_tt.value)\n",
    "    ax = sns.histplot(melted_temp_tt, x='value', hue='group', multiple='dodge', shrink=.75, bins=20,\n",
    "                      palette=categories.unique().to_list())\n",
    "    ax.vlines(melted_temp_tt.value.mean(), ymin=0, ymax=melted_temp_tt.groupby('group').count().max(), linestyles=\"dashed\")\n",
    "    return ax"
   ],
   "metadata": {
    "collapsed": false,
    "pycharm": {
     "name": "#%%\n"
    }
   }
  },
  {
   "cell_type": "code",
   "execution_count": 100,
   "outputs": [
    {
     "data": {
      "text/plain": "<AxesSubplot: xlabel='value', ylabel='Count'>"
     },
     "execution_count": 100,
     "metadata": {},
     "output_type": "execute_result"
    },
    {
     "data": {
      "text/plain": "<Figure size 640x480 with 1 Axes>",
      "image/png": "[encoded data removed]"
     },
     "metadata": {},
     "output_type": "display_data"
    }
   ],
   "source": [
    "plot_travel_time_histogram(graph, census)"
   ],
   "metadata": {
    "collapsed": false,
    "pycharm": {
     "name": "#%%\n"
    }
   }
  },
  {
   "cell_type": "markdown",
   "source": [
    "# Reward setup"
   ],
   "metadata": {
    "collapsed": false,
    "pycharm": {
     "name": "#%% md\n"
    }
   }
  },
  {
   "cell_type": "code",
   "execution_count": 101,
   "outputs": [
    {
     "data": {
      "text/plain": "[50, 50, 50, 50]"
     },
     "execution_count": 101,
     "metadata": {},
     "output_type": "execute_result"
    }
   ],
   "source": [
    "graph.es.select(type_ne='walk')['cost']"
   ],
   "metadata": {
    "collapsed": false,
    "pycharm": {
     "name": "#%%\n"
    }
   }
  },
  {
   "cell_type": "code",
   "execution_count": 102,
   "outputs": [
    {
     "data": {
      "text/plain": "200"
     },
     "execution_count": 102,
     "metadata": {},
     "output_type": "execute_result"
    }
   ],
   "source": [
    "total_graph_cost = sum(graph.es.select(type_ne='walk')['cost'])\n",
    "total_graph_cost"
   ],
   "metadata": {
    "collapsed": false,
    "pycharm": {
     "name": "#%%\n"
    }
   }
  },
  {
   "cell_type": "code",
   "execution_count": 103,
   "outputs": [],
   "source": [
    "sufficiency = {\n",
    "    TravelMetric.TT: 20\n",
    "}\n",
    "\n",
    "monetary_budget = 150\n",
    "groups = None\n",
    "metrics = [TravelMetric.TT]\n",
    "\n",
    "\n",
    "reward = SufficientarianCostReward(census_data=census, com_threshold=0,\n",
    "                                   sufficiency=sufficiency, total_graph_cost=total_graph_cost, monetary_budget=monetary_budget,\n",
    "                                   groups=groups, metrics=metrics, verbose=True)"
   ],
   "metadata": {
    "collapsed": false,
    "pycharm": {
     "name": "#%%\n"
    }
   }
  },
  {
   "cell_type": "markdown",
   "source": [
    "# Algorithms"
   ],
   "metadata": {
    "collapsed": false,
    "pycharm": {
     "name": "#%% md\n"
    }
   }
  },
  {
   "cell_type": "code",
   "execution_count": 104,
   "outputs": [
    {
     "name": "stderr",
     "output_type": "stream",
     "text": [
      "  0%|          | 0/15 [00:00<?, ?it/s]INFO:/home/rico/Documents/equitable-transport-reduction/eptnr_package/eptnr/rewards/base_reward.py:Received graph with:\n",
      "\tn_edges=15\tn_vertices=6Created subgraph:\n",
      "\tn_edges=15\n",
      "\tn_vertices=6\n",
      "\tavailable_edges=[0, 1, 2, 3, 4, 5, 6, 7, 8, 9, 10, 11, 12, 13, 14]\n",
      "INFO:/home/rico/Documents/equitable-transport-reduction/eptnr_package/eptnr/rewards/base_reward.py:Resulting rewards:\n",
      "\tcalculated_reward=-0.0\n",
      "\tscaled_reward=-0.0\n",
      "INFO:/home/rico/Documents/equitable-transport-reduction/eptnr_package/eptnr/algorithms/baselines/optimal_baseline.py:For state [] obtained rewards -30.0\n",
      "INFO:/home/rico/Documents/equitable-transport-reduction/eptnr_package/eptnr/rewards/base_reward.py:Received graph with:\n",
      "\tn_edges=15\tn_vertices=6Created subgraph:\n",
      "\tn_edges=14\n",
      "\tn_vertices=6\n",
      "\tavailable_edges=[0, 1, 2, 3, 4, 5, 6, 7, 8, 9, 10, 11, 12, 13]\n",
      "INFO:/home/rico/Documents/equitable-transport-reduction/eptnr_package/eptnr/rewards/base_reward.py:Resulting rewards:\n",
      "\tcalculated_reward=-1000.0\n",
      "\tscaled_reward=-1000.0\n",
      "INFO:/home/rico/Documents/equitable-transport-reduction/eptnr_package/eptnr/algorithms/baselines/optimal_baseline.py:For state [11] obtained rewards -238.46153846153848\n",
      "INFO:/home/rico/Documents/equitable-transport-reduction/eptnr_package/eptnr/rewards/base_reward.py:Received graph with:\n",
      "\tn_edges=15\tn_vertices=6Created subgraph:\n",
      "\tn_edges=14\n",
      "\tn_vertices=6\n",
      "\tavailable_edges=[0, 1, 2, 3, 4, 5, 6, 7, 8, 9, 10, 11, 12, 13]\n",
      "INFO:/home/rico/Documents/equitable-transport-reduction/eptnr_package/eptnr/rewards/base_reward.py:Resulting rewards:\n",
      "\tcalculated_reward=-0.0\n",
      "\tscaled_reward=-0.0\n",
      "INFO:/home/rico/Documents/equitable-transport-reduction/eptnr_package/eptnr/algorithms/baselines/optimal_baseline.py:For state [12] obtained rewards -33.33333333333333\n",
      "INFO:/home/rico/Documents/equitable-transport-reduction/eptnr_package/eptnr/rewards/base_reward.py:Received graph with:\n",
      "\tn_edges=15\tn_vertices=6Created subgraph:\n",
      "\tn_edges=14\n",
      "\tn_vertices=6\n",
      "\tavailable_edges=[0, 1, 2, 3, 4, 5, 6, 7, 8, 9, 10, 11, 12, 13]\n",
      "INFO:/home/rico/Documents/equitable-transport-reduction/eptnr_package/eptnr/rewards/base_reward.py:Resulting rewards:\n",
      "\tcalculated_reward=-0.0\n",
      "\tscaled_reward=-0.0\n",
      "INFO:/home/rico/Documents/equitable-transport-reduction/eptnr_package/eptnr/algorithms/baselines/optimal_baseline.py:For state [13] obtained rewards -33.33333333333333\n",
      "INFO:/home/rico/Documents/equitable-transport-reduction/eptnr_package/eptnr/rewards/base_reward.py:Received graph with:\n",
      "\tn_edges=15\tn_vertices=6Created subgraph:\n",
      "\tn_edges=14\n",
      "\tn_vertices=6\n",
      "\tavailable_edges=[0, 1, 2, 3, 4, 5, 6, 7, 8, 9, 10, 11, 12, 13]\n",
      "INFO:/home/rico/Documents/equitable-transport-reduction/eptnr_package/eptnr/rewards/base_reward.py:Resulting rewards:\n",
      "\tcalculated_reward=-0.0\n",
      "\tscaled_reward=-0.0\n",
      "INFO:/home/rico/Documents/equitable-transport-reduction/eptnr_package/eptnr/algorithms/baselines/optimal_baseline.py:For state [14] obtained rewards -33.33333333333333\n",
      "INFO:/home/rico/Documents/equitable-transport-reduction/eptnr_package/eptnr/rewards/base_reward.py:Received graph with:\n",
      "\tn_edges=15\tn_vertices=6Created subgraph:\n",
      "\tn_edges=13\n",
      "\tn_vertices=6\n",
      "\tavailable_edges=[0, 1, 2, 3, 4, 5, 6, 7, 8, 9, 10, 11, 12]\n",
      "INFO:/home/rico/Documents/equitable-transport-reduction/eptnr_package/eptnr/rewards/base_reward.py:Resulting rewards:\n",
      "\tcalculated_reward=-1000.0\n",
      "\tscaled_reward=-1000.0\n",
      "INFO:/home/rico/Documents/equitable-transport-reduction/eptnr_package/eptnr/algorithms/baselines/optimal_baseline.py:For state [11, 12] obtained rewards -152.7027027027027\n",
      "INFO:/home/rico/Documents/equitable-transport-reduction/eptnr_package/eptnr/rewards/base_reward.py:Received graph with:\n",
      "\tn_edges=15\tn_vertices=6Created subgraph:\n",
      "\tn_edges=13\n",
      "\tn_vertices=6\n",
      "\tavailable_edges=[0, 1, 2, 3, 4, 5, 6, 7, 8, 9, 10, 11, 12]\n",
      "INFO:/home/rico/Documents/equitable-transport-reduction/eptnr_package/eptnr/rewards/base_reward.py:Resulting rewards:\n",
      "\tcalculated_reward=-1000.0\n",
      "\tscaled_reward=-1000.0\n",
      "INFO:/home/rico/Documents/equitable-transport-reduction/eptnr_package/eptnr/algorithms/baselines/optimal_baseline.py:For state [11, 13] obtained rewards -152.7027027027027\n",
      " 47%|████▋     | 7/15 [00:00<00:00, 63.26it/s]INFO:/home/rico/Documents/equitable-transport-reduction/eptnr_package/eptnr/rewards/base_reward.py:Received graph with:\n",
      "\tn_edges=15\tn_vertices=6Created subgraph:\n",
      "\tn_edges=13\n",
      "\tn_vertices=6\n",
      "\tavailable_edges=[0, 1, 2, 3, 4, 5, 6, 7, 8, 9, 10, 11, 12]\n",
      "INFO:/home/rico/Documents/equitable-transport-reduction/eptnr_package/eptnr/rewards/base_reward.py:Resulting rewards:\n",
      "\tcalculated_reward=-1000.0\n",
      "\tscaled_reward=-1000.0\n",
      "INFO:/home/rico/Documents/equitable-transport-reduction/eptnr_package/eptnr/algorithms/baselines/optimal_baseline.py:For state [11, 14] obtained rewards -152.7027027027027\n",
      "INFO:/home/rico/Documents/equitable-transport-reduction/eptnr_package/eptnr/rewards/base_reward.py:Received graph with:\n",
      "\tn_edges=15\tn_vertices=6Created subgraph:\n",
      "\tn_edges=13\n",
      "\tn_vertices=6\n",
      "\tavailable_edges=[0, 1, 2, 3, 4, 5, 6, 7, 8, 9, 10, 11, 12]\n",
      "INFO:/home/rico/Documents/equitable-transport-reduction/eptnr_package/eptnr/rewards/base_reward.py:Resulting rewards:\n",
      "\tcalculated_reward=-0.0\n",
      "\tscaled_reward=-0.0\n",
      "INFO:/home/rico/Documents/equitable-transport-reduction/eptnr_package/eptnr/algorithms/baselines/optimal_baseline.py:For state [12, 13] obtained rewards -21.428571428571427\n",
      "INFO:/home/rico/Documents/equitable-transport-reduction/eptnr_package/eptnr/rewards/base_reward.py:Received graph with:\n",
      "\tn_edges=15\tn_vertices=6Created subgraph:\n",
      "\tn_edges=13\n",
      "\tn_vertices=6\n",
      "\tavailable_edges=[0, 1, 2, 3, 4, 5, 6, 7, 8, 9, 10, 11, 12]\n",
      "INFO:/home/rico/Documents/equitable-transport-reduction/eptnr_package/eptnr/rewards/base_reward.py:Resulting rewards:\n",
      "\tcalculated_reward=-0.0\n",
      "\tscaled_reward=-0.0\n",
      "INFO:/home/rico/Documents/equitable-transport-reduction/eptnr_package/eptnr/algorithms/baselines/optimal_baseline.py:For state [12, 14] obtained rewards -21.428571428571427\n",
      "INFO:/home/rico/Documents/equitable-transport-reduction/eptnr_package/eptnr/rewards/base_reward.py:Received graph with:\n",
      "\tn_edges=15\tn_vertices=6Created subgraph:\n",
      "\tn_edges=13\n",
      "\tn_vertices=6\n",
      "\tavailable_edges=[0, 1, 2, 3, 4, 5, 6, 7, 8, 9, 10, 11, 12]\n",
      "INFO:/home/rico/Documents/equitable-transport-reduction/eptnr_package/eptnr/rewards/base_reward.py:Resulting rewards:\n",
      "\tcalculated_reward=-0.0\n",
      "\tscaled_reward=-0.0\n",
      "INFO:/home/rico/Documents/equitable-transport-reduction/eptnr_package/eptnr/algorithms/baselines/optimal_baseline.py:For state [13, 14] obtained rewards -21.428571428571427\n",
      "INFO:/home/rico/Documents/equitable-transport-reduction/eptnr_package/eptnr/rewards/base_reward.py:Received graph with:\n",
      "\tn_edges=15\tn_vertices=6Created subgraph:\n",
      "\tn_edges=12\n",
      "\tn_vertices=6\n",
      "\tavailable_edges=[0, 1, 2, 3, 4, 5, 6, 7, 8, 9, 10, 11]\n",
      "INFO:/home/rico/Documents/equitable-transport-reduction/eptnr_package/eptnr/rewards/base_reward.py:Resulting rewards:\n",
      "\tcalculated_reward=-1000.0\n",
      "\tscaled_reward=-1000.0\n",
      "INFO:/home/rico/Documents/equitable-transport-reduction/eptnr_package/eptnr/algorithms/baselines/optimal_baseline.py:For state [11, 12, 13] obtained rewards -83.33333333333334\n",
      "INFO:/home/rico/Documents/equitable-transport-reduction/eptnr_package/eptnr/rewards/base_reward.py:Received graph with:\n",
      "\tn_edges=15\tn_vertices=6Created subgraph:\n",
      "\tn_edges=12\n",
      "\tn_vertices=6\n",
      "\tavailable_edges=[0, 1, 2, 3, 4, 5, 6, 7, 8, 9, 10, 11]\n",
      "INFO:/home/rico/Documents/equitable-transport-reduction/eptnr_package/eptnr/rewards/base_reward.py:Resulting rewards:\n",
      "\tcalculated_reward=-1000.0\n",
      "\tscaled_reward=-1000.0\n",
      "INFO:/home/rico/Documents/equitable-transport-reduction/eptnr_package/eptnr/algorithms/baselines/optimal_baseline.py:For state [11, 12, 14] obtained rewards -83.33333333333334\n",
      "INFO:/home/rico/Documents/equitable-transport-reduction/eptnr_package/eptnr/rewards/base_reward.py:Received graph with:\n",
      "\tn_edges=15\tn_vertices=6Created subgraph:\n",
      "\tn_edges=12\n",
      "\tn_vertices=6\n",
      "\tavailable_edges=[0, 1, 2, 3, 4, 5, 6, 7, 8, 9, 10, 11]\n",
      "INFO:/home/rico/Documents/equitable-transport-reduction/eptnr_package/eptnr/rewards/base_reward.py:Resulting rewards:\n",
      "\tcalculated_reward=-1000.0\n",
      "\tscaled_reward=-1000.0\n",
      "INFO:/home/rico/Documents/equitable-transport-reduction/eptnr_package/eptnr/algorithms/baselines/optimal_baseline.py:For state [11, 13, 14] obtained rewards -83.33333333333334\n",
      "INFO:/home/rico/Documents/equitable-transport-reduction/eptnr_package/eptnr/rewards/base_reward.py:Received graph with:\n",
      "\tn_edges=15\tn_vertices=6Created subgraph:\n",
      "\tn_edges=12\n",
      "\tn_vertices=6\n",
      "\tavailable_edges=[0, 1, 2, 3, 4, 5, 6, 7, 8, 9, 10, 11]\n",
      "INFO:/home/rico/Documents/equitable-transport-reduction/eptnr_package/eptnr/rewards/base_reward.py:Resulting rewards:\n",
      "\tcalculated_reward=-0.0\n",
      "\tscaled_reward=-0.0\n",
      "INFO:/home/rico/Documents/equitable-transport-reduction/eptnr_package/eptnr/algorithms/baselines/optimal_baseline.py:For state [12, 13, 14] obtained rewards -0.0\n",
      "100%|██████████| 15/15 [00:00<00:00, 65.81it/s]\n",
      "INFO:/home/rico/Documents/equitable-transport-reduction/eptnr_package/eptnr/algorithms/baselines/optimal_baseline.py:OPTIMAL STATES:\n",
      "INFO:/home/rico/Documents/equitable-transport-reduction/eptnr_package/eptnr/algorithms/baselines/optimal_baseline.py:For state [12, 13, 14] obtained rewards -0.0\n",
      "INFO:/home/rico/Documents/equitable-transport-reduction/eptnr_package/eptnr/rewards/base_reward.py:Received graph with:\n",
      "\tn_edges=15\tn_vertices=6Created subgraph:\n",
      "\tn_edges=14\n",
      "\tn_vertices=6\n",
      "\tavailable_edges=[0, 1, 2, 3, 4, 5, 6, 7, 8, 9, 10, 11, 12, 13]\n",
      "INFO:/home/rico/Documents/equitable-transport-reduction/eptnr_package/eptnr/rewards/base_reward.py:Resulting rewards:\n",
      "\tcalculated_reward=-0.0\n",
      "\tscaled_reward=-0.0\n",
      "INFO:/home/rico/Documents/equitable-transport-reduction/eptnr_package/eptnr/rewards/base_reward.py:Received graph with:\n",
      "\tn_edges=15\tn_vertices=6Created subgraph:\n",
      "\tn_edges=13\n",
      "\tn_vertices=6\n",
      "\tavailable_edges=[0, 1, 2, 3, 4, 5, 6, 7, 8, 9, 10, 11, 12]\n",
      "INFO:/home/rico/Documents/equitable-transport-reduction/eptnr_package/eptnr/rewards/base_reward.py:Resulting rewards:\n",
      "\tcalculated_reward=-0.0\n",
      "\tscaled_reward=-0.0\n",
      "INFO:/home/rico/Documents/equitable-transport-reduction/eptnr_package/eptnr/rewards/base_reward.py:Received graph with:\n",
      "\tn_edges=15\tn_vertices=6Created subgraph:\n",
      "\tn_edges=12\n",
      "\tn_vertices=6\n",
      "\tavailable_edges=[0, 1, 2, 3, 4, 5, 6, 7, 8, 9, 10, 11]\n",
      "INFO:/home/rico/Documents/equitable-transport-reduction/eptnr_package/eptnr/rewards/base_reward.py:Resulting rewards:\n",
      "\tcalculated_reward=-0.0\n",
      "\tscaled_reward=-0.0\n",
      "  0%|          | 0/15 [00:00<?, ?it/s]INFO:/home/rico/Documents/equitable-transport-reduction/eptnr_package/eptnr/rewards/base_reward.py:Received graph with:\n",
      "\tn_edges=15\tn_vertices=6Created subgraph:\n",
      "\tn_edges=15\n",
      "\tn_vertices=6\n",
      "\tavailable_edges=[0, 1, 2, 3, 4, 5, 6, 7, 8, 9, 10, 11, 12, 13, 14]\n",
      "INFO:/home/rico/Documents/equitable-transport-reduction/eptnr_package/eptnr/rewards/base_reward.py:Resulting rewards:\n",
      "\tcalculated_reward=-0.0\n",
      "\tscaled_reward=-0.0\n",
      "INFO:/home/rico/Documents/equitable-transport-reduction/eptnr_package/eptnr/algorithms/baselines/optimal_baseline.py:For state [] obtained rewards -30.0\n",
      "INFO:/home/rico/Documents/equitable-transport-reduction/eptnr_package/eptnr/rewards/base_reward.py:Received graph with:\n",
      "\tn_edges=15\tn_vertices=6Created subgraph:\n",
      "\tn_edges=14\n",
      "\tn_vertices=6\n",
      "\tavailable_edges=[0, 1, 2, 3, 4, 5, 6, 7, 8, 9, 10, 11, 12, 13]\n",
      "INFO:/home/rico/Documents/equitable-transport-reduction/eptnr_package/eptnr/rewards/base_reward.py:Resulting rewards:\n",
      "\tcalculated_reward=-1000.0\n",
      "\tscaled_reward=-1000.0\n",
      "INFO:/home/rico/Documents/equitable-transport-reduction/eptnr_package/eptnr/algorithms/baselines/optimal_baseline.py:For state [11] obtained rewards -238.46153846153848\n",
      "INFO:/home/rico/Documents/equitable-transport-reduction/eptnr_package/eptnr/rewards/base_reward.py:Received graph with:\n",
      "\tn_edges=15\tn_vertices=6Created subgraph:\n",
      "\tn_edges=14\n",
      "\tn_vertices=6\n",
      "\tavailable_edges=[0, 1, 2, 3, 4, 5, 6, 7, 8, 9, 10, 11, 12, 13]\n",
      "INFO:/home/rico/Documents/equitable-transport-reduction/eptnr_package/eptnr/rewards/base_reward.py:Resulting rewards:\n",
      "\tcalculated_reward=-0.0\n",
      "\tscaled_reward=-0.0\n",
      "INFO:/home/rico/Documents/equitable-transport-reduction/eptnr_package/eptnr/algorithms/baselines/optimal_baseline.py:For state [12] obtained rewards -33.33333333333333\n",
      "INFO:/home/rico/Documents/equitable-transport-reduction/eptnr_package/eptnr/rewards/base_reward.py:Received graph with:\n",
      "\tn_edges=15\tn_vertices=6Created subgraph:\n",
      "\tn_edges=14\n",
      "\tn_vertices=6\n",
      "\tavailable_edges=[0, 1, 2, 3, 4, 5, 6, 7, 8, 9, 10, 11, 12, 13]\n",
      "INFO:/home/rico/Documents/equitable-transport-reduction/eptnr_package/eptnr/rewards/base_reward.py:Resulting rewards:\n",
      "\tcalculated_reward=-0.0\n",
      "\tscaled_reward=-0.0\n",
      "INFO:/home/rico/Documents/equitable-transport-reduction/eptnr_package/eptnr/algorithms/baselines/optimal_baseline.py:For state [13] obtained rewards -33.33333333333333\n",
      "INFO:/home/rico/Documents/equitable-transport-reduction/eptnr_package/eptnr/rewards/base_reward.py:Received graph with:\n",
      "\tn_edges=15\tn_vertices=6Created subgraph:\n",
      "\tn_edges=14\n",
      "\tn_vertices=6\n",
      "\tavailable_edges=[0, 1, 2, 3, 4, 5, 6, 7, 8, 9, 10, 11, 12, 13]\n",
      "INFO:/home/rico/Documents/equitable-transport-reduction/eptnr_package/eptnr/rewards/base_reward.py:Resulting rewards:\n",
      "\tcalculated_reward=-0.0\n",
      "\tscaled_reward=-0.0\n",
      "INFO:/home/rico/Documents/equitable-transport-reduction/eptnr_package/eptnr/algorithms/baselines/optimal_baseline.py:For state [14] obtained rewards -33.33333333333333\n",
      "INFO:/home/rico/Documents/equitable-transport-reduction/eptnr_package/eptnr/rewards/base_reward.py:Received graph with:\n",
      "\tn_edges=15\tn_vertices=6Created subgraph:\n",
      "\tn_edges=13\n",
      "\tn_vertices=6\n",
      "\tavailable_edges=[0, 1, 2, 3, 4, 5, 6, 7, 8, 9, 10, 11, 12]\n",
      "INFO:/home/rico/Documents/equitable-transport-reduction/eptnr_package/eptnr/rewards/base_reward.py:Resulting rewards:\n",
      "\tcalculated_reward=-1000.0\n",
      "\tscaled_reward=-1000.0\n",
      "INFO:/home/rico/Documents/equitable-transport-reduction/eptnr_package/eptnr/algorithms/baselines/optimal_baseline.py:For state [11, 12] obtained rewards -152.7027027027027\n",
      "INFO:/home/rico/Documents/equitable-transport-reduction/eptnr_package/eptnr/rewards/base_reward.py:Received graph with:\n",
      "\tn_edges=15\tn_vertices=6Created subgraph:\n",
      "\tn_edges=13\n",
      "\tn_vertices=6\n",
      "\tavailable_edges=[0, 1, 2, 3, 4, 5, 6, 7, 8, 9, 10, 11, 12]\n",
      "INFO:/home/rico/Documents/equitable-transport-reduction/eptnr_package/eptnr/rewards/base_reward.py:Resulting rewards:\n",
      "\tcalculated_reward=-1000.0\n",
      "\tscaled_reward=-1000.0\n",
      "INFO:/home/rico/Documents/equitable-transport-reduction/eptnr_package/eptnr/algorithms/baselines/optimal_baseline.py:For state [11, 13] obtained rewards -152.7027027027027\n",
      "INFO:/home/rico/Documents/equitable-transport-reduction/eptnr_package/eptnr/rewards/base_reward.py:Received graph with:\n",
      "\tn_edges=15\tn_vertices=6Created subgraph:\n",
      "\tn_edges=13\n",
      "\tn_vertices=6\n",
      "\tavailable_edges=[0, 1, 2, 3, 4, 5, 6, 7, 8, 9, 10, 11, 12]\n",
      "INFO:/home/rico/Documents/equitable-transport-reduction/eptnr_package/eptnr/rewards/base_reward.py:Resulting rewards:\n",
      "\tcalculated_reward=-1000.0\n",
      "\tscaled_reward=-1000.0\n",
      "INFO:/home/rico/Documents/equitable-transport-reduction/eptnr_package/eptnr/algorithms/baselines/optimal_baseline.py:For state [11, 14] obtained rewards -152.7027027027027\n",
      " 53%|█████▎    | 8/15 [00:00<00:00, 63.10it/s]INFO:/home/rico/Documents/equitable-transport-reduction/eptnr_package/eptnr/rewards/base_reward.py:Received graph with:\n",
      "\tn_edges=15\tn_vertices=6Created subgraph:\n",
      "\tn_edges=13\n",
      "\tn_vertices=6\n",
      "\tavailable_edges=[0, 1, 2, 3, 4, 5, 6, 7, 8, 9, 10, 11, 12]\n",
      "INFO:/home/rico/Documents/equitable-transport-reduction/eptnr_package/eptnr/rewards/base_reward.py:Resulting rewards:\n",
      "\tcalculated_reward=-0.0\n",
      "\tscaled_reward=-0.0\n",
      "INFO:/home/rico/Documents/equitable-transport-reduction/eptnr_package/eptnr/algorithms/baselines/optimal_baseline.py:For state [12, 13] obtained rewards -21.428571428571427\n",
      "INFO:/home/rico/Documents/equitable-transport-reduction/eptnr_package/eptnr/rewards/base_reward.py:Received graph with:\n",
      "\tn_edges=15\tn_vertices=6Created subgraph:\n",
      "\tn_edges=13\n",
      "\tn_vertices=6\n",
      "\tavailable_edges=[0, 1, 2, 3, 4, 5, 6, 7, 8, 9, 10, 11, 12]\n",
      "INFO:/home/rico/Documents/equitable-transport-reduction/eptnr_package/eptnr/rewards/base_reward.py:Resulting rewards:\n",
      "\tcalculated_reward=-0.0\n",
      "\tscaled_reward=-0.0\n",
      "INFO:/home/rico/Documents/equitable-transport-reduction/eptnr_package/eptnr/algorithms/baselines/optimal_baseline.py:For state [12, 14] obtained rewards -21.428571428571427\n",
      "INFO:/home/rico/Documents/equitable-transport-reduction/eptnr_package/eptnr/rewards/base_reward.py:Received graph with:\n",
      "\tn_edges=15\tn_vertices=6Created subgraph:\n",
      "\tn_edges=13\n",
      "\tn_vertices=6\n",
      "\tavailable_edges=[0, 1, 2, 3, 4, 5, 6, 7, 8, 9, 10, 11, 12]\n",
      "INFO:/home/rico/Documents/equitable-transport-reduction/eptnr_package/eptnr/rewards/base_reward.py:Resulting rewards:\n",
      "\tcalculated_reward=-0.0\n",
      "\tscaled_reward=-0.0\n",
      "INFO:/home/rico/Documents/equitable-transport-reduction/eptnr_package/eptnr/algorithms/baselines/optimal_baseline.py:For state [13, 14] obtained rewards -21.428571428571427\n",
      "INFO:/home/rico/Documents/equitable-transport-reduction/eptnr_package/eptnr/rewards/base_reward.py:Received graph with:\n",
      "\tn_edges=15\tn_vertices=6Created subgraph:\n",
      "\tn_edges=12\n",
      "\tn_vertices=6\n",
      "\tavailable_edges=[0, 1, 2, 3, 4, 5, 6, 7, 8, 9, 10, 11]\n",
      "INFO:/home/rico/Documents/equitable-transport-reduction/eptnr_package/eptnr/rewards/base_reward.py:Resulting rewards:\n",
      "\tcalculated_reward=-1000.0\n",
      "\tscaled_reward=-1000.0\n",
      "INFO:/home/rico/Documents/equitable-transport-reduction/eptnr_package/eptnr/algorithms/baselines/optimal_baseline.py:For state [11, 12, 13] obtained rewards -83.33333333333334\n",
      "INFO:/home/rico/Documents/equitable-transport-reduction/eptnr_package/eptnr/rewards/base_reward.py:Received graph with:\n",
      "\tn_edges=15\tn_vertices=6Created subgraph:\n",
      "\tn_edges=12\n",
      "\tn_vertices=6\n",
      "\tavailable_edges=[0, 1, 2, 3, 4, 5, 6, 7, 8, 9, 10, 11]\n",
      "INFO:/home/rico/Documents/equitable-transport-reduction/eptnr_package/eptnr/rewards/base_reward.py:Resulting rewards:\n",
      "\tcalculated_reward=-1000.0\n",
      "\tscaled_reward=-1000.0\n",
      "INFO:/home/rico/Documents/equitable-transport-reduction/eptnr_package/eptnr/algorithms/baselines/optimal_baseline.py:For state [11, 12, 14] obtained rewards -83.33333333333334\n",
      "INFO:/home/rico/Documents/equitable-transport-reduction/eptnr_package/eptnr/rewards/base_reward.py:Received graph with:\n",
      "\tn_edges=15\tn_vertices=6Created subgraph:\n",
      "\tn_edges=12\n",
      "\tn_vertices=6\n",
      "\tavailable_edges=[0, 1, 2, 3, 4, 5, 6, 7, 8, 9, 10, 11]\n",
      "INFO:/home/rico/Documents/equitable-transport-reduction/eptnr_package/eptnr/rewards/base_reward.py:Resulting rewards:\n",
      "\tcalculated_reward=-1000.0\n",
      "\tscaled_reward=-1000.0\n",
      "INFO:/home/rico/Documents/equitable-transport-reduction/eptnr_package/eptnr/algorithms/baselines/optimal_baseline.py:For state [11, 13, 14] obtained rewards -83.33333333333334\n",
      "INFO:/home/rico/Documents/equitable-transport-reduction/eptnr_package/eptnr/rewards/base_reward.py:Received graph with:\n",
      "\tn_edges=15\tn_vertices=6Created subgraph:\n",
      "\tn_edges=12\n",
      "\tn_vertices=6\n",
      "\tavailable_edges=[0, 1, 2, 3, 4, 5, 6, 7, 8, 9, 10, 11]\n",
      "INFO:/home/rico/Documents/equitable-transport-reduction/eptnr_package/eptnr/rewards/base_reward.py:Resulting rewards:\n",
      "\tcalculated_reward=-0.0\n",
      "\tscaled_reward=-0.0\n",
      "INFO:/home/rico/Documents/equitable-transport-reduction/eptnr_package/eptnr/algorithms/baselines/optimal_baseline.py:For state [12, 13, 14] obtained rewards -0.0\n",
      "100%|██████████| 15/15 [00:00<00:00, 54.75it/s]\n",
      "INFO:/home/rico/Documents/equitable-transport-reduction/eptnr_package/eptnr/algorithms/baselines/optimal_baseline.py:OPTIMAL STATES:\n",
      "INFO:/home/rico/Documents/equitable-transport-reduction/eptnr_package/eptnr/algorithms/baselines/optimal_baseline.py:For state [12, 13, 14] obtained rewards -0.0\n",
      "INFO:/home/rico/Documents/equitable-transport-reduction/eptnr_package/eptnr/rewards/base_reward.py:Received graph with:\n",
      "\tn_edges=15\tn_vertices=6Created subgraph:\n",
      "\tn_edges=14\n",
      "\tn_vertices=6\n",
      "\tavailable_edges=[0, 1, 2, 3, 4, 5, 6, 7, 8, 9, 10, 11, 12, 13]\n",
      "INFO:/home/rico/Documents/equitable-transport-reduction/eptnr_package/eptnr/rewards/base_reward.py:Resulting rewards:\n",
      "\tcalculated_reward=-0.0\n",
      "\tscaled_reward=-0.0\n",
      "INFO:/home/rico/Documents/equitable-transport-reduction/eptnr_package/eptnr/rewards/base_reward.py:Received graph with:\n",
      "\tn_edges=15\tn_vertices=6Created subgraph:\n",
      "\tn_edges=13\n",
      "\tn_vertices=6\n",
      "\tavailable_edges=[0, 1, 2, 3, 4, 5, 6, 7, 8, 9, 10, 11, 12]\n",
      "INFO:/home/rico/Documents/equitable-transport-reduction/eptnr_package/eptnr/rewards/base_reward.py:Resulting rewards:\n",
      "\tcalculated_reward=-0.0\n",
      "\tscaled_reward=-0.0\n",
      "INFO:/home/rico/Documents/equitable-transport-reduction/eptnr_package/eptnr/rewards/base_reward.py:Received graph with:\n",
      "\tn_edges=15\tn_vertices=6Created subgraph:\n",
      "\tn_edges=12\n",
      "\tn_vertices=6\n",
      "\tavailable_edges=[0, 1, 2, 3, 4, 5, 6, 7, 8, 9, 10, 11]\n",
      "INFO:/home/rico/Documents/equitable-transport-reduction/eptnr_package/eptnr/rewards/base_reward.py:Resulting rewards:\n",
      "\tcalculated_reward=-0.0\n",
      "\tscaled_reward=-0.0\n",
      "  0%|          | 0/15 [00:00<?, ?it/s]INFO:/home/rico/Documents/equitable-transport-reduction/eptnr_package/eptnr/rewards/base_reward.py:Received graph with:\n",
      "\tn_edges=15\tn_vertices=6Created subgraph:\n",
      "\tn_edges=15\n",
      "\tn_vertices=6\n",
      "\tavailable_edges=[0, 1, 2, 3, 4, 5, 6, 7, 8, 9, 10, 11, 12, 13, 14]\n",
      "INFO:/home/rico/Documents/equitable-transport-reduction/eptnr_package/eptnr/rewards/base_reward.py:Resulting rewards:\n",
      "\tcalculated_reward=-0.0\n",
      "\tscaled_reward=-0.0\n",
      "INFO:/home/rico/Documents/equitable-transport-reduction/eptnr_package/eptnr/algorithms/baselines/optimal_baseline.py:For state [] obtained rewards -30.0\n",
      "INFO:/home/rico/Documents/equitable-transport-reduction/eptnr_package/eptnr/rewards/base_reward.py:Received graph with:\n",
      "\tn_edges=15\tn_vertices=6Created subgraph:\n",
      "\tn_edges=14\n",
      "\tn_vertices=6\n",
      "\tavailable_edges=[0, 1, 2, 3, 4, 5, 6, 7, 8, 9, 10, 11, 12, 13]\n",
      "INFO:/home/rico/Documents/equitable-transport-reduction/eptnr_package/eptnr/rewards/base_reward.py:Resulting rewards:\n",
      "\tcalculated_reward=-1000.0\n",
      "\tscaled_reward=-1000.0\n",
      "INFO:/home/rico/Documents/equitable-transport-reduction/eptnr_package/eptnr/algorithms/baselines/optimal_baseline.py:For state [11] obtained rewards -238.46153846153848\n",
      "INFO:/home/rico/Documents/equitable-transport-reduction/eptnr_package/eptnr/rewards/base_reward.py:Received graph with:\n",
      "\tn_edges=15\tn_vertices=6Created subgraph:\n",
      "\tn_edges=14\n",
      "\tn_vertices=6\n",
      "\tavailable_edges=[0, 1, 2, 3, 4, 5, 6, 7, 8, 9, 10, 11, 12, 13]\n",
      "INFO:/home/rico/Documents/equitable-transport-reduction/eptnr_package/eptnr/rewards/base_reward.py:Resulting rewards:\n",
      "\tcalculated_reward=-0.0\n",
      "\tscaled_reward=-0.0\n",
      "INFO:/home/rico/Documents/equitable-transport-reduction/eptnr_package/eptnr/algorithms/baselines/optimal_baseline.py:For state [12] obtained rewards -33.33333333333333\n",
      "INFO:/home/rico/Documents/equitable-transport-reduction/eptnr_package/eptnr/rewards/base_reward.py:Received graph with:\n",
      "\tn_edges=15\tn_vertices=6Created subgraph:\n",
      "\tn_edges=14\n",
      "\tn_vertices=6\n",
      "\tavailable_edges=[0, 1, 2, 3, 4, 5, 6, 7, 8, 9, 10, 11, 12, 13]\n",
      "INFO:/home/rico/Documents/equitable-transport-reduction/eptnr_package/eptnr/rewards/base_reward.py:Resulting rewards:\n",
      "\tcalculated_reward=-0.0\n",
      "\tscaled_reward=-0.0\n",
      "INFO:/home/rico/Documents/equitable-transport-reduction/eptnr_package/eptnr/algorithms/baselines/optimal_baseline.py:For state [13] obtained rewards -33.33333333333333\n",
      "INFO:/home/rico/Documents/equitable-transport-reduction/eptnr_package/eptnr/rewards/base_reward.py:Received graph with:\n",
      "\tn_edges=15\tn_vertices=6Created subgraph:\n",
      "\tn_edges=14\n",
      "\tn_vertices=6\n",
      "\tavailable_edges=[0, 1, 2, 3, 4, 5, 6, 7, 8, 9, 10, 11, 12, 13]\n",
      "INFO:/home/rico/Documents/equitable-transport-reduction/eptnr_package/eptnr/rewards/base_reward.py:Resulting rewards:\n",
      "\tcalculated_reward=-0.0\n",
      "\tscaled_reward=-0.0\n",
      "INFO:/home/rico/Documents/equitable-transport-reduction/eptnr_package/eptnr/algorithms/baselines/optimal_baseline.py:For state [14] obtained rewards -33.33333333333333\n",
      "INFO:/home/rico/Documents/equitable-transport-reduction/eptnr_package/eptnr/rewards/base_reward.py:Received graph with:\n",
      "\tn_edges=15\tn_vertices=6Created subgraph:\n",
      "\tn_edges=13\n",
      "\tn_vertices=6\n",
      "\tavailable_edges=[0, 1, 2, 3, 4, 5, 6, 7, 8, 9, 10, 11, 12]\n",
      "INFO:/home/rico/Documents/equitable-transport-reduction/eptnr_package/eptnr/rewards/base_reward.py:Resulting rewards:\n",
      "\tcalculated_reward=-1000.0\n",
      "\tscaled_reward=-1000.0\n",
      "INFO:/home/rico/Documents/equitable-transport-reduction/eptnr_package/eptnr/algorithms/baselines/optimal_baseline.py:For state [11, 12] obtained rewards -152.7027027027027\n",
      " 40%|████      | 6/15 [00:00<00:00, 58.23it/s]INFO:/home/rico/Documents/equitable-transport-reduction/eptnr_package/eptnr/rewards/base_reward.py:Received graph with:\n",
      "\tn_edges=15\tn_vertices=6Created subgraph:\n",
      "\tn_edges=13\n",
      "\tn_vertices=6\n",
      "\tavailable_edges=[0, 1, 2, 3, 4, 5, 6, 7, 8, 9, 10, 11, 12]\n",
      "INFO:/home/rico/Documents/equitable-transport-reduction/eptnr_package/eptnr/rewards/base_reward.py:Resulting rewards:\n",
      "\tcalculated_reward=-1000.0\n",
      "\tscaled_reward=-1000.0\n",
      "INFO:/home/rico/Documents/equitable-transport-reduction/eptnr_package/eptnr/algorithms/baselines/optimal_baseline.py:For state [11, 13] obtained rewards -152.7027027027027\n",
      "INFO:/home/rico/Documents/equitable-transport-reduction/eptnr_package/eptnr/rewards/base_reward.py:Received graph with:\n",
      "\tn_edges=15\tn_vertices=6Created subgraph:\n",
      "\tn_edges=13\n",
      "\tn_vertices=6\n",
      "\tavailable_edges=[0, 1, 2, 3, 4, 5, 6, 7, 8, 9, 10, 11, 12]\n",
      "INFO:/home/rico/Documents/equitable-transport-reduction/eptnr_package/eptnr/rewards/base_reward.py:Resulting rewards:\n",
      "\tcalculated_reward=-1000.0\n",
      "\tscaled_reward=-1000.0\n",
      "INFO:/home/rico/Documents/equitable-transport-reduction/eptnr_package/eptnr/algorithms/baselines/optimal_baseline.py:For state [11, 14] obtained rewards -152.7027027027027\n",
      "INFO:/home/rico/Documents/equitable-transport-reduction/eptnr_package/eptnr/rewards/base_reward.py:Received graph with:\n",
      "\tn_edges=15\tn_vertices=6Created subgraph:\n",
      "\tn_edges=13\n",
      "\tn_vertices=6\n",
      "\tavailable_edges=[0, 1, 2, 3, 4, 5, 6, 7, 8, 9, 10, 11, 12]\n",
      "INFO:/home/rico/Documents/equitable-transport-reduction/eptnr_package/eptnr/rewards/base_reward.py:Resulting rewards:\n",
      "\tcalculated_reward=-0.0\n",
      "\tscaled_reward=-0.0\n",
      "INFO:/home/rico/Documents/equitable-transport-reduction/eptnr_package/eptnr/algorithms/baselines/optimal_baseline.py:For state [12, 13] obtained rewards -21.428571428571427\n",
      "INFO:/home/rico/Documents/equitable-transport-reduction/eptnr_package/eptnr/rewards/base_reward.py:Received graph with:\n",
      "\tn_edges=15\tn_vertices=6Created subgraph:\n",
      "\tn_edges=13\n",
      "\tn_vertices=6\n",
      "\tavailable_edges=[0, 1, 2, 3, 4, 5, 6, 7, 8, 9, 10, 11, 12]\n",
      "INFO:/home/rico/Documents/equitable-transport-reduction/eptnr_package/eptnr/rewards/base_reward.py:Resulting rewards:\n",
      "\tcalculated_reward=-0.0\n",
      "\tscaled_reward=-0.0\n",
      "INFO:/home/rico/Documents/equitable-transport-reduction/eptnr_package/eptnr/algorithms/baselines/optimal_baseline.py:For state [12, 14] obtained rewards -21.428571428571427\n",
      "INFO:/home/rico/Documents/equitable-transport-reduction/eptnr_package/eptnr/rewards/base_reward.py:Received graph with:\n",
      "\tn_edges=15\tn_vertices=6Created subgraph:\n",
      "\tn_edges=13\n",
      "\tn_vertices=6\n",
      "\tavailable_edges=[0, 1, 2, 3, 4, 5, 6, 7, 8, 9, 10, 11, 12]\n",
      "INFO:/home/rico/Documents/equitable-transport-reduction/eptnr_package/eptnr/rewards/base_reward.py:Resulting rewards:\n",
      "\tcalculated_reward=-0.0\n",
      "\tscaled_reward=-0.0\n",
      "INFO:/home/rico/Documents/equitable-transport-reduction/eptnr_package/eptnr/algorithms/baselines/optimal_baseline.py:For state [13, 14] obtained rewards -21.428571428571427\n",
      "INFO:/home/rico/Documents/equitable-transport-reduction/eptnr_package/eptnr/rewards/base_reward.py:Received graph with:\n",
      "\tn_edges=15\tn_vertices=6Created subgraph:\n",
      "\tn_edges=12\n",
      "\tn_vertices=6\n",
      "\tavailable_edges=[0, 1, 2, 3, 4, 5, 6, 7, 8, 9, 10, 11]\n",
      "INFO:/home/rico/Documents/equitable-transport-reduction/eptnr_package/eptnr/rewards/base_reward.py:Resulting rewards:\n",
      "\tcalculated_reward=-1000.0\n",
      "\tscaled_reward=-1000.0\n",
      "INFO:/home/rico/Documents/equitable-transport-reduction/eptnr_package/eptnr/algorithms/baselines/optimal_baseline.py:For state [11, 12, 13] obtained rewards -83.33333333333334\n",
      " 80%|████████  | 12/15 [00:00<00:00, 55.82it/s]INFO:/home/rico/Documents/equitable-transport-reduction/eptnr_package/eptnr/rewards/base_reward.py:Received graph with:\n",
      "\tn_edges=15\tn_vertices=6Created subgraph:\n",
      "\tn_edges=12\n",
      "\tn_vertices=6\n",
      "\tavailable_edges=[0, 1, 2, 3, 4, 5, 6, 7, 8, 9, 10, 11]\n",
      "INFO:/home/rico/Documents/equitable-transport-reduction/eptnr_package/eptnr/rewards/base_reward.py:Resulting rewards:\n",
      "\tcalculated_reward=-1000.0\n",
      "\tscaled_reward=-1000.0\n",
      "INFO:/home/rico/Documents/equitable-transport-reduction/eptnr_package/eptnr/algorithms/baselines/optimal_baseline.py:For state [11, 12, 14] obtained rewards -83.33333333333334\n",
      "INFO:/home/rico/Documents/equitable-transport-reduction/eptnr_package/eptnr/rewards/base_reward.py:Received graph with:\n",
      "\tn_edges=15\tn_vertices=6Created subgraph:\n",
      "\tn_edges=12\n",
      "\tn_vertices=6\n",
      "\tavailable_edges=[0, 1, 2, 3, 4, 5, 6, 7, 8, 9, 10, 11]\n",
      "INFO:/home/rico/Documents/equitable-transport-reduction/eptnr_package/eptnr/rewards/base_reward.py:Resulting rewards:\n",
      "\tcalculated_reward=-1000.0\n",
      "\tscaled_reward=-1000.0\n",
      "INFO:/home/rico/Documents/equitable-transport-reduction/eptnr_package/eptnr/algorithms/baselines/optimal_baseline.py:For state [11, 13, 14] obtained rewards -83.33333333333334\n",
      "INFO:/home/rico/Documents/equitable-transport-reduction/eptnr_package/eptnr/rewards/base_reward.py:Received graph with:\n",
      "\tn_edges=15\tn_vertices=6Created subgraph:\n",
      "\tn_edges=12\n",
      "\tn_vertices=6\n",
      "\tavailable_edges=[0, 1, 2, 3, 4, 5, 6, 7, 8, 9, 10, 11]\n",
      "INFO:/home/rico/Documents/equitable-transport-reduction/eptnr_package/eptnr/rewards/base_reward.py:Resulting rewards:\n",
      "\tcalculated_reward=-0.0\n",
      "\tscaled_reward=-0.0\n",
      "INFO:/home/rico/Documents/equitable-transport-reduction/eptnr_package/eptnr/algorithms/baselines/optimal_baseline.py:For state [12, 13, 14] obtained rewards -0.0\n",
      "100%|██████████| 15/15 [00:00<00:00, 56.30it/s]\n",
      "INFO:/home/rico/Documents/equitable-transport-reduction/eptnr_package/eptnr/algorithms/baselines/optimal_baseline.py:OPTIMAL STATES:\n",
      "INFO:/home/rico/Documents/equitable-transport-reduction/eptnr_package/eptnr/algorithms/baselines/optimal_baseline.py:For state [12, 13, 14] obtained rewards -0.0\n",
      "INFO:/home/rico/Documents/equitable-transport-reduction/eptnr_package/eptnr/rewards/base_reward.py:Received graph with:\n",
      "\tn_edges=15\tn_vertices=6Created subgraph:\n",
      "\tn_edges=14\n",
      "\tn_vertices=6\n",
      "\tavailable_edges=[0, 1, 2, 3, 4, 5, 6, 7, 8, 9, 10, 11, 12, 13]\n",
      "INFO:/home/rico/Documents/equitable-transport-reduction/eptnr_package/eptnr/rewards/base_reward.py:Resulting rewards:\n",
      "\tcalculated_reward=-0.0\n",
      "\tscaled_reward=-0.0\n",
      "INFO:/home/rico/Documents/equitable-transport-reduction/eptnr_package/eptnr/rewards/base_reward.py:Received graph with:\n",
      "\tn_edges=15\tn_vertices=6Created subgraph:\n",
      "\tn_edges=13\n",
      "\tn_vertices=6\n",
      "\tavailable_edges=[0, 1, 2, 3, 4, 5, 6, 7, 8, 9, 10, 11, 12]\n",
      "INFO:/home/rico/Documents/equitable-transport-reduction/eptnr_package/eptnr/rewards/base_reward.py:Resulting rewards:\n",
      "\tcalculated_reward=-0.0\n",
      "\tscaled_reward=-0.0\n",
      "INFO:/home/rico/Documents/equitable-transport-reduction/eptnr_package/eptnr/rewards/base_reward.py:Received graph with:\n",
      "\tn_edges=15\tn_vertices=6Created subgraph:\n",
      "\tn_edges=12\n",
      "\tn_vertices=6\n",
      "\tavailable_edges=[0, 1, 2, 3, 4, 5, 6, 7, 8, 9, 10, 11]\n",
      "INFO:/home/rico/Documents/equitable-transport-reduction/eptnr_package/eptnr/rewards/base_reward.py:Resulting rewards:\n",
      "\tcalculated_reward=-0.0\n",
      "\tscaled_reward=-0.0\n"
     ]
    }
   ],
   "source": [
    "edge_types = set(graph.es.select(type_ne='walk')['type'])\n",
    "solutions = optimal_max_baseline(graph, reward, edge_types=edge_types)"
   ],
   "metadata": {
    "collapsed": false,
    "pycharm": {
     "name": "#%%\n"
    }
   }
  },
  {
   "cell_type": "code",
   "execution_count": 105,
   "outputs": [
    {
     "data": {
      "text/plain": "[([-33.33333333333333, -21.428571428571427, -0.0], [12, 13, 14])]"
     },
     "execution_count": 105,
     "metadata": {},
     "output_type": "execute_result"
    }
   ],
   "source": [
    "solutions"
   ],
   "metadata": {
    "collapsed": false,
    "pycharm": {
     "name": "#%%\n"
    }
   }
  },
  {
   "cell_type": "markdown",
   "source": [
    "# Evaluation"
   ],
   "metadata": {
    "collapsed": false,
    "pycharm": {
     "name": "#%% md\n"
    }
   }
  },
  {
   "cell_type": "code",
   "execution_count": 106,
   "outputs": [
    {
     "data": {
      "text/plain": "<igraph.drawing.Plot at 0x7f6f4c3653a0>",
      "image/svg+xml": "<?xml version=\"1.0\" encoding=\"UTF-8\"?>\n<svg xmlns=\"http://www.w3.org/2000/svg\" xmlns:xlink=\"http://www.w3.org/1999/xlink\" width=\"600pt\" height=\"600pt\" viewBox=\"0 0 600 600\" version=\"1.1\">\n<g id=\"surface92\">\n<rect x=\"0\" y=\"0\" width=\"600\" height=\"600\" style=\"fill:rgb(100%,100%,100%);fill-opacity:1;stroke:none;\"/>\n<path style=\"fill:none;stroke-width:1;stroke-linecap:butt;stroke-linejoin:miter;stroke:rgb(74.509804%,74.509804%,74.509804%);stroke-opacity:1;stroke-miterlimit:10;\" d=\"M 20 20 L 96.175781 96.175781 \"/>\n<path style=\" stroke:none;fill-rule:nonzero;fill:rgb(74.509804%,74.509804%,74.509804%);fill-opacity:1;\" d=\"M 106.261719 106.261719 L 92.898438 99.453125 L 99.453125 92.898438 L 106.261719 106.261719 \"/>\n<path style=\"fill:none;stroke-width:1;stroke-linecap:butt;stroke-linejoin:miter;stroke:rgb(74.509804%,74.509804%,74.509804%);stroke-opacity:1;stroke-miterlimit:10;\" d=\"M 20 20 L 469.507812 469.507812 \"/>\n<path style=\" stroke:none;fill-rule:nonzero;fill:rgb(74.509804%,74.509804%,74.509804%);fill-opacity:1;\" d=\"M 479.59375 479.59375 L 466.230469 472.785156 L 472.785156 466.230469 L 479.59375 479.59375 \"/>\n<path style=\"fill:none;stroke-width:1;stroke-linecap:butt;stroke-linejoin:miter;stroke:rgb(74.509804%,74.509804%,74.509804%);stroke-opacity:1;stroke-miterlimit:10;\" d=\"M 20 20 L 544.175781 544.175781 \"/>\n<path style=\" stroke:none;fill-rule:nonzero;fill:rgb(74.509804%,74.509804%,74.509804%);fill-opacity:1;\" d=\"M 554.261719 554.261719 L 540.898438 547.453125 L 547.453125 540.898438 L 554.261719 554.261719 \"/>\n<path style=\"fill:none;stroke-width:1;stroke-linecap:butt;stroke-linejoin:miter;stroke:rgb(74.509804%,74.509804%,74.509804%);stroke-opacity:1;stroke-miterlimit:10;\" d=\"M 580 580 L 130.492188 130.492188 \"/>\n<path style=\" stroke:none;fill-rule:nonzero;fill:rgb(74.509804%,74.509804%,74.509804%);fill-opacity:1;\" d=\"M 120.40625 120.40625 L 133.769531 127.214844 L 127.214844 133.769531 L 120.40625 120.40625 \"/>\n<path style=\"fill:none;stroke-width:1;stroke-linecap:butt;stroke-linejoin:miter;stroke:rgb(74.509804%,74.509804%,74.509804%);stroke-opacity:1;stroke-miterlimit:10;\" d=\"M 580 580 L 503.824219 503.824219 \"/>\n<path style=\" stroke:none;fill-rule:nonzero;fill:rgb(74.509804%,74.509804%,74.509804%);fill-opacity:1;\" d=\"M 493.738281 493.738281 L 507.101562 500.546875 L 500.546875 507.101562 L 493.738281 493.738281 \"/>\n<path style=\"fill:none;stroke-width:1;stroke-linecap:butt;stroke-linejoin:miter;stroke:rgb(74.509804%,74.509804%,74.509804%);stroke-opacity:1;stroke-miterlimit:10;\" d=\"M 580 580 L 578.492188 578.492188 \"/>\n<path style=\" stroke:none;fill-rule:nonzero;fill:rgb(74.509804%,74.509804%,74.509804%);fill-opacity:1;\" d=\"M 568.40625 568.40625 L 581.769531 575.214844 L 575.214844 581.769531 L 568.40625 568.40625 \"/>\n<path style=\"fill:none;stroke-width:1;stroke-linecap:butt;stroke-linejoin:miter;stroke:rgb(74.509804%,74.509804%,74.509804%);stroke-opacity:1;stroke-miterlimit:10;\" d=\"M 113.332031 113.332031 L 422.839844 422.839844 \"/>\n<path style=\" stroke:none;fill-rule:nonzero;fill:rgb(74.509804%,74.509804%,74.509804%);fill-opacity:1;\" d=\"M 432.929688 432.929688 L 419.5625 426.117188 L 426.117188 419.5625 L 432.929688 432.929688 \"/>\n<path style=\"fill:none;stroke-width:1;stroke-linecap:butt;stroke-linejoin:miter;stroke:rgb(74.509804%,74.509804%,74.509804%);stroke-opacity:1;stroke-miterlimit:10;\" d=\"M 486.667969 486.667969 L 457.160156 457.160156 \"/>\n<path style=\" stroke:none;fill-rule:nonzero;fill:rgb(74.509804%,74.509804%,74.509804%);fill-opacity:1;\" d=\"M 447.070312 447.070312 L 460.4375 453.882812 L 453.882812 460.4375 L 447.070312 447.070312 \"/>\n<path style=\"fill:none;stroke-width:1;stroke-linecap:butt;stroke-linejoin:miter;stroke:rgb(74.509804%,74.509804%,74.509804%);stroke-opacity:1;stroke-miterlimit:10;\" d=\"M 561.332031 561.332031 L 457.160156 457.160156 \"/>\n<path style=\" stroke:none;fill-rule:nonzero;fill:rgb(74.509804%,74.509804%,74.509804%);fill-opacity:1;\" d=\"M 447.070312 447.070312 L 460.4375 453.882812 L 453.882812 460.4375 L 447.070312 447.070312 \"/>\n<path style=\"fill:none;stroke-width:1;stroke-linecap:butt;stroke-linejoin:miter;stroke:rgb(74.509804%,74.509804%,74.509804%);stroke-opacity:1;stroke-miterlimit:10;\" d=\"M 20 20 L 422.839844 422.839844 \"/>\n<path style=\" stroke:none;fill-rule:nonzero;fill:rgb(74.509804%,74.509804%,74.509804%);fill-opacity:1;\" d=\"M 432.929688 432.929688 L 419.5625 426.117188 L 426.117188 419.5625 L 432.929688 432.929688 \"/>\n<path style=\"fill:none;stroke-width:1;stroke-linecap:butt;stroke-linejoin:miter;stroke:rgb(74.509804%,74.509804%,74.509804%);stroke-opacity:1;stroke-miterlimit:10;\" d=\"M 580 580 L 457.160156 457.160156 \"/>\n<path style=\" stroke:none;fill-rule:nonzero;fill:rgb(74.509804%,74.509804%,74.509804%);fill-opacity:1;\" d=\"M 447.070312 447.070312 L 460.4375 453.882812 L 453.882812 460.4375 L 447.070312 447.070312 \"/>\n<path style=\"fill:none;stroke-width:1;stroke-linecap:butt;stroke-linejoin:miter;stroke:rgb(100%,75.294118%,79.607843%);stroke-opacity:1;stroke-miterlimit:10;\" d=\"M 113.332031 113.332031 L 469.507812 469.507812 \"/>\n<path style=\" stroke:none;fill-rule:nonzero;fill:rgb(100%,75.294118%,79.607843%);fill-opacity:1;\" d=\"M 479.59375 479.59375 L 466.230469 472.785156 L 472.785156 466.230469 L 479.59375 479.59375 \"/>\n<path style=\"fill-rule:nonzero;fill:rgb(62.745098%,12.54902%,94.117647%);fill-opacity:1;stroke-width:1;stroke-linecap:butt;stroke-linejoin:miter;stroke:rgb(0%,0%,0%);stroke-opacity:1;stroke-miterlimit:10;\" d=\"M 30 20 C 30 25.523438 25.523438 30 20 30 C 14.476562 30 10 25.523438 10 20 C 10 14.476562 14.476562 10 20 10 C 25.523438 10 30 14.476562 30 20 \"/>\n<path style=\"fill-rule:nonzero;fill:rgb(100%,0%,0%);fill-opacity:1;stroke-width:1;stroke-linecap:butt;stroke-linejoin:miter;stroke:rgb(0%,0%,0%);stroke-opacity:1;stroke-miterlimit:10;\" d=\"M 590 580 C 590 585.523438 585.523438 590 580 590 C 574.476562 590 570 585.523438 570 580 C 570 574.476562 574.476562 570 580 570 C 585.523438 570 590 574.476562 590 580 \"/>\n<path style=\"fill-rule:nonzero;fill:rgb(0%,0%,100%);fill-opacity:1;stroke-width:1;stroke-linecap:butt;stroke-linejoin:miter;stroke:rgb(0%,0%,0%);stroke-opacity:1;stroke-miterlimit:10;\" d=\"M 123.332031 113.332031 C 123.332031 118.855469 118.855469 123.332031 113.332031 123.332031 C 107.808594 123.332031 103.332031 118.855469 103.332031 113.332031 C 103.332031 107.808594 107.808594 103.332031 113.332031 103.332031 C 118.855469 103.332031 123.332031 107.808594 123.332031 113.332031 \"/>\n<path style=\"fill-rule:nonzero;fill:rgb(0%,0%,100%);fill-opacity:1;stroke-width:1;stroke-linecap:butt;stroke-linejoin:miter;stroke:rgb(0%,0%,0%);stroke-opacity:1;stroke-miterlimit:10;\" d=\"M 496.667969 486.667969 C 496.667969 492.191406 492.191406 496.667969 486.667969 496.667969 C 481.144531 496.667969 476.667969 492.191406 476.667969 486.667969 C 476.667969 481.144531 481.144531 476.667969 486.667969 476.667969 C 492.191406 476.667969 496.667969 481.144531 496.667969 486.667969 \"/>\n<path style=\"fill-rule:nonzero;fill:rgb(0%,0%,100%);fill-opacity:1;stroke-width:1;stroke-linecap:butt;stroke-linejoin:miter;stroke:rgb(0%,0%,0%);stroke-opacity:1;stroke-miterlimit:10;\" d=\"M 571.332031 561.332031 C 571.332031 566.855469 566.855469 571.332031 561.332031 571.332031 C 555.808594 571.332031 551.332031 566.855469 551.332031 561.332031 C 551.332031 555.808594 555.808594 551.332031 561.332031 551.332031 C 566.855469 551.332031 571.332031 555.808594 571.332031 561.332031 \"/>\n<path style=\"fill-rule:nonzero;fill:rgb(0%,100%,0%);fill-opacity:1;stroke-width:1;stroke-linecap:butt;stroke-linejoin:miter;stroke:rgb(0%,0%,0%);stroke-opacity:1;stroke-miterlimit:10;\" d=\"M 450 440 C 450 445.523438 445.523438 450 440 450 C 434.476562 450 430 445.523438 430 440 C 430 434.476562 434.476562 430 440 430 C 445.523438 430 450 434.476562 450 440 \"/>\n</g>\n</svg>\n"
     },
     "execution_count": 106,
     "metadata": {
      "image/svg+xml": {
       "isolated": true
      }
     },
     "output_type": "execute_result"
    }
   ],
   "source": [
    "graph_prime = graph.subgraph_edges([e.index for e in graph.es if e.index not in solutions[0][1]])\n",
    "ig.plot(graph_prime)\n"
   ],
   "metadata": {
    "collapsed": false,
    "pycharm": {
     "name": "#%%\n"
    }
   }
  },
  {
   "cell_type": "code",
   "execution_count": 107,
   "outputs": [
    {
     "data": {
      "text/plain": "<AxesSubplot: xlabel='value', ylabel='Count'>"
     },
     "execution_count": 107,
     "metadata": {},
     "output_type": "execute_result"
    },
    {
     "data": {
      "text/plain": "<Figure size 640x480 with 1 Axes>",
      "image/png": "[encoded data removed]"
     },
     "metadata": {},
     "output_type": "display_data"
    }
   ],
   "source": [
    "plot_travel_time_histogram(graph_prime, census)"
   ],
   "metadata": {
    "collapsed": false,
    "pycharm": {
     "name": "#%%\n"
    }
   }
  },
  {
   "cell_type": "code",
   "execution_count": 107,
   "outputs": [],
   "source": [],
   "metadata": {
    "collapsed": false,
    "pycharm": {
     "name": "#%%\n"
    }
   }
  }
 ],
 "metadata": {
  "kernelspec": {
   "display_name": "Python 3",
   "language": "python",
   "name": "python3"
  },
  "language_info": {
   "codemirror_mode": {
    "name": "ipython",
    "version": 2
   },
   "file_extension": ".py",
   "mimetype": "text/x-python",
   "name": "python",
   "nbconvert_exporter": "python",
   "pygments_lexer": "ipython2",
   "version": "2.7.6"
  }
 },
 "nbformat": 4,
 "nbformat_minor": 0
}